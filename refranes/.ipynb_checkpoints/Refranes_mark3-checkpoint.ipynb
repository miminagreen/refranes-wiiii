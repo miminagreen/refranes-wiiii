{
 "cells": [
  {
   "cell_type": "code",
   "execution_count": 1,
   "metadata": {
    "collapsed": true
   },
   "outputs": [],
   "source": [
    "#Función que abre los refraneros y los divide por linea\n",
    "def abre(x): #se define la función\n",
    "    with open(x, \"r\", encoding=\"utf-8\") as archivo:#abre para lectura\n",
    "        refranero= archivo.read()#lo lee\n",
    "        refranero= refranero.split(\"\\n\")#lo separa en listas tomando el salto de línea como criterio\n",
    "        archivo.close()#cierra el archivo\n",
    "    return refranero#imprime el listado"
   ]
  },
  {
   "cell_type": "code",
   "execution_count": 13,
   "metadata": {
    "collapsed": true
   },
   "outputs": [],
   "source": [
    "import re#se importa el modulo de expresiones regulares\n",
    "def nexus (x):#se define la función\n",
    "    lista=[]#se crea una lista vacía \n",
    "    with open(x, \"r\", encoding=\"utf-8\") as archivo:#se abre el archivo variable\n",
    "        refranero= archivo.read()#se lee el archivo\n",
    "        refranero= refranero.split(\"\\n\")#se toma el salto de linea como criterio de división\n",
    "        archivo.close()#se cierra el archivo\n",
    "    with open(\"nexos.txt\", \"r\", encoding=\"utf-8\") as archivo:#se abre una lista de nexos guardada en txt\n",
    "        variables= archivo.read()#se lee el archivo\n",
    "        variables= variables.split(\"\\n\")#se toma el salto de linea como criterio de división\n",
    "        archivo.close()#se cierra el archivo\n",
    "    for y in variables:#por cada elemento en la lista de nexos\n",
    "        expresion_regular=re.compile(r\"\"+\" \"+y+\" \")#se vuelve expresiones regulares a los nexos\n",
    "        matching= [z for z in refranero if expresion_regular.search(z)]#busca cada nexo en cada refran\n",
    "        nn=y+\" \"+x#se crea una variable con el nexo y el nombre del refranero\n",
    "        lista=lista+matching#la lista vacía se llena de los refranes encontrados en cada iteración\n",
    "        if matching== []:#si la lista de refranes en turno está vacía\n",
    "            continue #se salta\n",
    "        else: #de lo contrario\n",
    "            file = open (nn, \"w\", encoding= \"utf-8\") #se crea un archivo con el nexo y el nombre del documento\n",
    "            for q in matching: #por cada elemento en los resultados o matching\n",
    "                file.write(q+\"\\n\") # se guarda en en el archivo creado más un salto de línea\n",
    "    return lista#se regresa la lista"
   ]
  },
  {
   "cell_type": "code",
   "execution_count": 8,
   "metadata": {},
   "outputs": [
    {
     "name": "stdout",
     "output_type": "stream",
     "text": [
      "Abriga VMIP3S0 la DA0FS0 nieve NCFS000 a SP el DA0MS0 trigo NCMS000 , Fc como CS la DA0FS0 madre NCFS000 a SP su DP3CSN hijo NCMS000 Abril W , Fc tan RG pronto RG llorar VMN0000 como CS reír VMN0000 Cuando NP00000 la DA0FS0 sierra NCFS000 de SP Anillo NP00000 tiene VMIP3S0 moño NCMS000 , Fc huyen VMIP3P0 los DA0MP0 porquecillos NCMP00V como CS demonios NCMP000 El NP00000 día NCMS000 ñublo NCMS000 , Fc vase NCMS000 como CS el DA0MS0 humo NCMS000 El NP00000 veintisiete Z , Fc como CS el DA0MS0 siguiente AQ0CS00 ; Fx el DA0MS0 veintinueve Z , Fc como CS el DA0MS0 que PR0CN00 viene VMIP3S0 En_Ures NP00000 , Fc Matos NP00000 y CC Ríosalido NP00000 , Fc como CS gastan VMIP3P0 polainas NCFP000 , Fc no RN tienen VMIP3P0 frío NCMS000 En NP00000 diciembre W , Fc como CS el DA0MS0 tres Z , Fc todo DI0MS0 el DA0MS0 mes NCMS000 En NP00000 marzo W , Fc calienta VMIP3S0 el DA0MS0 solo AQ0MS00 como CS un DI0MS0 escarzo NCMS000 En NP00000 marzo W , Fc pega VMIP3S0 el DA0MS0 sol NCMS000 como CS un DI0MS0 pelmazo NCMS000 ; Fx a SP el DA0MS0 abrigo NCMS000 , Fc que PR0CN00 no RN a_el_raso RG Marzo W marcero AQ0MS00 , Fc o CC tan RG frío AQ0MS00 como CS enero W , Fc o CC tan RG falso AQ0MS00 como CS febrero W Mientras NP00000 en SP Guara NP00000 haya VMSP3S0 nieve NCFS000 como CS cola NCFS000 de SP sardina NCFS000 , Fc no RN está VMIP3S0 segura AQ0FS00 la DA0FS0 viña NCFS000 Sol NP00000 de SP marzo W pone VMIP3S0 la DA0FS0 cabeza NCCS000 como CS un DI0MS0 mazo NCMS000 Tantas NP00000 veces NCFP000 como CS canta VMIP3S0 en SP enero W el DA0MS0 gri NCMN000 , Fc tantas DI0FP0 heladas NCFP000 en SP abril W Tanto NP00000 viento NCMS000 como CS haga VMSP3S0 , Fc tanta DI0FS0 agua NCCS000 Tiempo NP00000 , Fc viento NCMS000 , Fc mujer NCFS000 y CC fortuna NCFS000 , Fc son VSIP3P0 tan RG mudables AQ0CP00 como CS la DA0FS0 luna NCFS000 Viento NP00000 , Fc mujer NCFS000 y CC fortuna NCFS000 , Fc mudables AQ0CP00 como CS la DA0FS0 luna NCFS000 \n",
      "\n",
      "\n",
      "\n",
      "\n",
      "\n"
     ]
    }
   ],
   "source": [
    "import requests\n",
    "files = {'file': open(\"como PRom.txt\", 'rb')}\n",
    "#Parámetros\n",
    "params = {'outf': 'tagged', 'format': 'json'}\n",
    "#Enviar petición\n",
    "url = \"http://www.corpus.unam.mx/servicio-freeling/analyze.php\"\n",
    "r = requests.post(url, files=files, params=params)\n",
    "#Convertir de formato json\n",
    "obj = r.json()\n",
    "\n",
    "#Ejemplo, obtener todos los lemas\n",
    "\n",
    "for sentence in obj:\n",
    "    for w in sentence:\n",
    "        print(w['token'], w['tag'], end=' ')\n",
    "    print('\\n')\n",
    "    print('\\n')\n",
    "    print('\\n')"
   ]
  },
  {
   "cell_type": "code",
   "execution_count": 23,
   "metadata": {},
   "outputs": [],
   "source": [
    "import requests\n",
    "def gerundios(x): #se define la función\n",
    "    with open(x, \"r\", encoding=\"utf-8\") as archivo:#abre para lectura\n",
    "        refranero= archivo.read()#lo lee\n",
    "        refranero= refranero.split(\"\\n\")#lo separa en listas tomando el salto de línea como criterio\n",
    "        archivo.close()#cierra el archivo\n",
    "        nn=\"puntuado_\"+x\n",
    "        nuevo = open (nn, \"w\", encoding= \"utf-8\")\n",
    "        for w in refranero:\n",
    "            nuevo.write(w+\".\\n\")\n",
    "    ora = \"\"\n",
    "    files = {'file': open(nn, 'rb')}\n",
    "    params = {'outf': 'tagged', 'format': 'json'}\n",
    "    url = \"http://www.corpus.unam.mx/servicio-freeling/analyze.php\"\n",
    "    r = requests.post(url, files=files, params=params)\n",
    "    obj = r.json()\n",
    "    participios = []\n",
    "    bdp = [] # bdp = bolsa de palabras\n",
    "    intereses = [\"VMG\"]\n",
    "    for oracion in obj:\n",
    "        for palabra in oracion:\n",
    "            if palabra['tag'].startswith('VMG'):\n",
    "                p = {'token':palabra['token']}\n",
    "                bdp.append(p)\n",
    "                participios.append(oracion)\n",
    "                break\n",
    "    for oracion in participios:\n",
    "        for palabra in oracion: \n",
    "            ora= ora+ palabra[\"token\"] + \" \"\n",
    "            ora= ora.split(\".\")\n",
    "    return ora"
   ]
  },
  {
   "cell_type": "code",
   "execution_count": 24,
   "metadata": {},
   "outputs": [
    {
     "ename": "TypeError",
     "evalue": "can only concatenate list (not \"str\") to list",
     "output_type": "error",
     "traceback": [
      "\u001b[0;31m---------------------------------------------------------------------------\u001b[0m",
      "\u001b[0;31mTypeError\u001b[0m                                 Traceback (most recent call last)",
      "\u001b[0;32m<ipython-input-24-13d178b34160>\u001b[0m in \u001b[0;36m<module>\u001b[0;34m()\u001b[0m\n\u001b[0;32m----> 1\u001b[0;31m \u001b[0mgerundios\u001b[0m\u001b[0;34m(\u001b[0m\u001b[0;34m\"RMx.txt\"\u001b[0m\u001b[0;34m)\u001b[0m\u001b[0;34m\u001b[0m\u001b[0m\n\u001b[0m",
      "\u001b[0;32m<ipython-input-23-435be499e096>\u001b[0m in \u001b[0;36mgerundios\u001b[0;34m(x)\u001b[0m\n\u001b[1;32m     27\u001b[0m     \u001b[0;32mfor\u001b[0m \u001b[0moracion\u001b[0m \u001b[0;32min\u001b[0m \u001b[0mparticipios\u001b[0m\u001b[0;34m:\u001b[0m\u001b[0;34m\u001b[0m\u001b[0m\n\u001b[1;32m     28\u001b[0m         \u001b[0;32mfor\u001b[0m \u001b[0mpalabra\u001b[0m \u001b[0;32min\u001b[0m \u001b[0moracion\u001b[0m\u001b[0;34m:\u001b[0m\u001b[0;34m\u001b[0m\u001b[0m\n\u001b[0;32m---> 29\u001b[0;31m             \u001b[0mora\u001b[0m\u001b[0;34m=\u001b[0m \u001b[0mora\u001b[0m\u001b[0;34m+\u001b[0m \u001b[0mpalabra\u001b[0m\u001b[0;34m[\u001b[0m\u001b[0;34m\"token\"\u001b[0m\u001b[0;34m]\u001b[0m \u001b[0;34m+\u001b[0m \u001b[0;34m\" \"\u001b[0m\u001b[0;34m\u001b[0m\u001b[0m\n\u001b[0m\u001b[1;32m     30\u001b[0m             \u001b[0mora\u001b[0m\u001b[0;34m=\u001b[0m \u001b[0mora\u001b[0m\u001b[0;34m.\u001b[0m\u001b[0msplit\u001b[0m\u001b[0;34m(\u001b[0m\u001b[0;34m\".\"\u001b[0m\u001b[0;34m)\u001b[0m\u001b[0;34m\u001b[0m\u001b[0m\n\u001b[1;32m     31\u001b[0m     \u001b[0;32mreturn\u001b[0m \u001b[0mora\u001b[0m\u001b[0;34m\u001b[0m\u001b[0m\n",
      "\u001b[0;31mTypeError\u001b[0m: can only concatenate list (not \"str\") to list"
     ]
    }
   ],
   "source": [
    "gerundios(\"RMx.txt\")"
   ]
  },
  {
   "cell_type": "code",
   "execution_count": null,
   "metadata": {
    "collapsed": true
   },
   "outputs": [],
   "source": []
  }
 ],
 "metadata": {
  "kernelspec": {
   "display_name": "Python 3",
   "language": "python",
   "name": "python3"
  },
  "language_info": {
   "codemirror_mode": {
    "name": "ipython",
    "version": 3
   },
   "file_extension": ".py",
   "mimetype": "text/x-python",
   "name": "python",
   "nbconvert_exporter": "python",
   "pygments_lexer": "ipython3",
   "version": "3.6.2"
  }
 },
 "nbformat": 4,
 "nbformat_minor": 2
}
