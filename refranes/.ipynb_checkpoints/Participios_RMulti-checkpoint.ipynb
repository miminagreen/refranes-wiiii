{
 "cells": [
  {
   "cell_type": "code",
   "execution_count": 18,
   "metadata": {},
   "outputs": [],
   "source": [
    "achivo = open (r\"RMultiE.txt\" , encoding = \"utf-8\")\n",
    "text= achivo.read().lower ()\n",
    "for x in (\" \\” \\“\\\"#$%&/()'¿?¡!\"):\n",
    "    text= text.replace(x, \" \")    "
   ]
  },
  {
   "cell_type": "code",
   "execution_count": 19,
   "metadata": {
    "collapsed": true
   },
   "outputs": [],
   "source": [
    "text= text [1:]"
   ]
  },
  {
   "cell_type": "code",
   "execution_count": 29,
   "metadata": {},
   "outputs": [],
   "source": [
    "text_div= text.split ( \" rmulti\\n\") #por alguna razón el Rmulti tenía RMulti escrito al final de cada refran ._."
   ]
  },
  {
   "cell_type": "code",
   "execution_count": 28,
   "metadata": {},
   "outputs": [
    {
     "data": {
      "text/plain": [
       "[' amor mal correspondido, ausencia y olvido',\n",
       " 'a barriga llena, corazón contento',\n",
       " 'a bien obrar, bien pagar',\n",
       " 'a boda ni bautizo, no vayas sin ser llamado',\n",
       " 'a buen entendedor, pocas palabras bastan',\n",
       " 'a buen gato, buen rato',\n",
       " 'a buen hambre no hay pan duro',\n",
       " 'a buen servicio, mal galardón',\n",
       " 'a buen sueño no hay mala cama',\n",
       " 'a buenas horas, mangas verdes',\n",
       " 'a buey viejo, cencerro nuevo',\n",
       " 'a burro muerto, la cebada al rabo',\n",
       " 'a caballero nuevo, caballo viejo',\n",
       " 'a caballo nuevo, jinete viejo',\n",
       " 'a caballo regalado, no le mires el diente',\n",
       " 'a cada cerdo le llega su san martín',\n",
       " 'a cada olla, su cobertera',\n",
       " 'a cada pajarillo le gusta su nidillo',\n",
       " 'a cada puerta, su dueña',\n",
       " 'a cada uno lo suyo']"
      ]
     },
     "execution_count": 28,
     "metadata": {},
     "output_type": "execute_result"
    }
   ],
   "source": [
    "text_div [:20]"
   ]
  },
  {
   "cell_type": "code",
   "execution_count": 30,
   "metadata": {},
   "outputs": [],
   "source": [
    "with open(\"text_div_RMulti.txt\", \"w\", encoding = \"utf-8\") as f: #para escribir el archivo\n",
    "    for linea in text_div:\n",
    "        f.write(linea + \".\\n\")"
   ]
  },
  {
   "cell_type": "code",
   "execution_count": 31,
   "metadata": {
    "collapsed": true
   },
   "outputs": [],
   "source": [
    "import requests\n",
    "\n",
    "#Archivo a ser enviado\n",
    "files = {'file': open('text_div_RMulti.txt', 'rb')}\n",
    "#Parámetros\n",
    "params = {'outf': 'tagged', 'format': 'json'}\n",
    "#Enviar petición\n",
    "url = \"http://www.corpus.unam.mx/servicio-freeling/analyze.php\"\n",
    "r = requests.post(url, files=files, params=params)\n",
    "#Convertir de formato json\n",
    "obj = r.json()"
   ]
  },
  {
   "cell_type": "code",
   "execution_count": 32,
   "metadata": {},
   "outputs": [
    {
     "data": {
      "text/plain": [
       "[{'lemma': 'amor', 'prob': '1', 'tag': 'NCMS000', 'token': 'amor'},\n",
       " {'lemma': 'mal', 'prob': '0.434992', 'tag': 'RG', 'token': 'mal'},\n",
       " {'lemma': 'corresponder',\n",
       "  'prob': '1',\n",
       "  'tag': 'VMP00SM',\n",
       "  'token': 'correspondido'},\n",
       " {'lemma': ',', 'prob': '1', 'tag': 'Fc', 'token': ','},\n",
       " {'lemma': 'ausencia', 'prob': '1', 'tag': 'NCFS000', 'token': 'ausencia'},\n",
       " {'lemma': 'y', 'prob': '0.999989', 'tag': 'CC', 'token': 'y'},\n",
       " {'lemma': 'olvido', 'prob': '0.989726', 'tag': 'NCMS000', 'token': 'olvido'},\n",
       " {'lemma': '.', 'prob': '1', 'tag': 'Fp', 'token': '.'}]"
      ]
     },
     "execution_count": 32,
     "metadata": {},
     "output_type": "execute_result"
    }
   ],
   "source": [
    "obj[0]"
   ]
  },
  {
   "cell_type": "code",
   "execution_count": 33,
   "metadata": {
    "collapsed": true
   },
   "outputs": [],
   "source": [
    "participios = []\n",
    "bdp = [] # bdp = bolsa de palabras\n",
    "intereses = [\"VMP\"]\n",
    "for oracion in obj:\n",
    "    for palabra in oracion:\n",
    "        if palabra['tag'].startswith('VMP'):\n",
    "            p = {'token':palabra['token']}\n",
    "            bdp.append(p)\n",
    "            participios.append(oracion)\n",
    "            break"
   ]
  },
  {
   "cell_type": "code",
   "execution_count": 34,
   "metadata": {},
   "outputs": [
    {
     "data": {
      "text/plain": [
       "[{'lemma': 'amor', 'prob': '1', 'tag': 'NCMS000', 'token': 'amor'},\n",
       " {'lemma': 'mal', 'prob': '0.434992', 'tag': 'RG', 'token': 'mal'},\n",
       " {'lemma': 'corresponder',\n",
       "  'prob': '1',\n",
       "  'tag': 'VMP00SM',\n",
       "  'token': 'correspondido'},\n",
       " {'lemma': ',', 'prob': '1', 'tag': 'Fc', 'token': ','},\n",
       " {'lemma': 'ausencia', 'prob': '1', 'tag': 'NCFS000', 'token': 'ausencia'},\n",
       " {'lemma': 'y', 'prob': '0.999989', 'tag': 'CC', 'token': 'y'},\n",
       " {'lemma': 'olvido', 'prob': '0.989726', 'tag': 'NCMS000', 'token': 'olvido'},\n",
       " {'lemma': '.', 'prob': '1', 'tag': 'Fp', 'token': '.'}]"
      ]
     },
     "execution_count": 34,
     "metadata": {},
     "output_type": "execute_result"
    }
   ],
   "source": [
    "participios[0]"
   ]
  },
  {
   "cell_type": "code",
   "execution_count": 35,
   "metadata": {
    "collapsed": true
   },
   "outputs": [],
   "source": [
    "ora = \"\"#así cree una lista \n",
    "for oracion in participios:\n",
    "    for palabra in oracion: \n",
    "        ora= ora+ palabra[\"token\"] + \" \""
   ]
  },
  {
   "cell_type": "code",
   "execution_count": 36,
   "metadata": {},
   "outputs": [
    {
     "data": {
      "text/plain": [
       "'amor mal correspondido , ausencia y olvido . a boda ni bautizo , no vayas sin ser llamado . a burro muerto , la cebada a el rabo . a caballo regalado , no le mires el diente . a canas honradas , no hay puertas cerradas . a dineros pagados , brazos quebrados . a la bestia cargada el sobornal la mata . a muertos y a idos , no hay amigos . a rey muerto , rey puesto . abogado joven , pleito perdido . aborrece y serás aborrecido , quiere con amor de verdad y serás correspondido . afeites de mujer y cielo aborregado , duran lo que un nublado . afortunado en el juego , desgraciado en amores . agua estancada , agua envenenada . agua pasada no mueve molino . agua vertida , no toda cogida . a el que no está hecho a bragas , las costuras le hacen llagas . amigo reconciliado , enemigo doblado . amores reñidos son los más queridos . aquella es bien casada , que ni tiene suegra ni cuñada . asno callado , por sabio es contado . aún no ha salido de el cascarón , y ya tiene espolón . bienes mal adquiridos , a nadie han enriquecido . boca dulce y bolsa abierta te abrirán todas las puertas . cada uno donde es nacido , y bien se está el pájaro en su nido . cada uno ve con los ojos que dios le ha dado . caminante cansado , subirá en asno , si no encuentra caballo . casa cerrada , casa arruinada . casa convidada , pobre y denostada . casa hecha , sepultura abierta . comida acabada , amistad terminada . compuesta , no hay mujer fea . con la medida con que midáis , seréis medidos . consejo no pedido , consejo mal recibido . cosa prometida , es medio debida . cualquier tiempo pasado fue mejor . cuerpo descansado dinero vale . de la puerta cerrada el diablo se vuelve . de los escarmentados nacen los avisados . de el árbol caído , todos hacen leña . de el dicho a el hecho hay gran trecho . desgracia compartida , menos sentida . desgraciado en el juego , afortunado en amores . dicha que tarda , con más gozo se aguarda . dicho y hecho . dolor de mujer muerta , dura hasta la puerta . el bien no es conocido hasta que es perdido . el casado , casa quiere . el conejo ido , el consejo venido . el fruto prohibido es el más apetecido . el infierno está empedrado de buenas intenciones . el invierno no es pasado mientras abril no es terminado . el peligro pasado , el voto olvidado . el que por mentiroso es tenido , aunque diga verdad no es creído . el tiempo perdido no se recupera . en arca abierta , el justo peca . en boca cerrada , no entran moscas . enemigos excusados llamamos a los criados . entre amigos y soldados cumplimientos son excusados . es de bien nacidos ser agradecidos . espantóse la muerta de la degollada cuando la vio tan desgreñada . gato escaldado , de el agua fría huye . gran tocado y chico recado . hasta que es padecido , el mal no es conocido . hijos criados , trabajos doblados . hombre prevenido , vale por dos . ir por lana y volver trasquilado . jaula nueva , pájaro muerto . juego y bebida , casa perdida . la cama es buen prado : si no se duerme , se está echado . la caridad bien entendida empieza por uno mismo . la comida reposada , y la cena paseada . la ensalada , poco vinagre y bien aceitada . la manzana podrida pierde a su compañía . la mentira presto es vencida . la mujer compuesta , a su marido quita de puerta ajena . la mujer y el niño , sólo callan lo que no han sabido . la mujer , rogada , y la olla , reposada . la salud no es conocida hasta que es perdida . la suerte está echada . lección bien aprendida , tarde o nunca se olvida . libro cerrado , no saca letrado . libro prestado , libro perdido . lo bien hecho , bien parece . lo comido es lo seguro . lo comido por lo servido . lo fiado , rara_vez pagado . lo hallado no es hurtado . lo heredado es regalado y lo comprado , sudado . lo más encomendado lleva el gato . lo olvidado , ni agradecido ni pagado . loco que sabe callar , por cuerdo es tenido . más daño hacen amigos necios que enemigos descubiertos . más vale buena fama que dorada cama . más vale estar solo que mal acompañado . más vale lo malo conocido que lo bueno por conocer . más vale perro vivo que león muerto . más vale ser envidiado que compadecido . muchos son los llamados y pocos los escogidos . muerta es la abeja , que daba la miel y la cera . muerto el perro , se acabó la rabia . mujer muerta , casa deshecha . nadie está obligado a hacer más de lo que sabe y puede . nadie nace enseñado . no comer por haber comido no es tiempo perdido . no hay amor feo , si es querido con deseo . no hay nublado que dure un año . no hay palabra mal dicha si no fuese mal entendida . no hay que vender la piel de el oso antes_de haber lo cazado . no todas las verdades son para dichas . nunca falta un roto para un descosido . obra empezada , medio acabada . obra hecha , venta espera . pecado confesado , medio perdonado . peligro pasado , el cobarde es esforzado . pocos y mal avenidos . puerco fiado gruñe todo el año . puerta abierta , a el santo tienta . quien con niños se acuesta mojado amanece . quien en mentira es cogido , aunque diga verdad no es creído . quien ha jugado , jugará . quien hace lo que puede , no está obligado a más . quien lejos va a casar , o va engañado o va a engañar . quien muda estado , muda cuidado . quien no ha visto sevilla , no ha visto maravilla . quien te da un hueso , no te quiere ver muerto . ratón que no sabe más que un horado , presto es cazado . si quieres ser bien servido , sirve te a ti mismo . siempre que ha llovido ha escampado . sobre gustos no hay nada escrito . ten siempre una vela encendida por si otra se apaga . tras cornudo , apaleado . un agravio consentido , otro venido . unos nacen con estrella y otros estrellados . yegua cansada , prado halla . '"
      ]
     },
     "execution_count": 36,
     "metadata": {},
     "output_type": "execute_result"
    }
   ],
   "source": [
    "ora"
   ]
  },
  {
   "cell_type": "code",
   "execution_count": 37,
   "metadata": {
    "collapsed": true
   },
   "outputs": [],
   "source": [
    "ora= ora.split(\".\")"
   ]
  },
  {
   "cell_type": "code",
   "execution_count": 38,
   "metadata": {},
   "outputs": [
    {
     "data": {
      "text/plain": [
       "136"
      ]
     },
     "execution_count": 38,
     "metadata": {},
     "output_type": "execute_result"
    }
   ],
   "source": [
    "len(ora)"
   ]
  },
  {
   "cell_type": "code",
   "execution_count": 39,
   "metadata": {},
   "outputs": [
    {
     "data": {
      "text/plain": [
       "['amor mal correspondido , ausencia y olvido ',\n",
       " ' a boda ni bautizo , no vayas sin ser llamado ',\n",
       " ' a burro muerto , la cebada a el rabo ',\n",
       " ' a caballo regalado , no le mires el diente ',\n",
       " ' a canas honradas , no hay puertas cerradas ',\n",
       " ' a dineros pagados , brazos quebrados ',\n",
       " ' a la bestia cargada el sobornal la mata ',\n",
       " ' a muertos y a idos , no hay amigos ',\n",
       " ' a rey muerto , rey puesto ',\n",
       " ' abogado joven , pleito perdido ',\n",
       " ' aborrece y serás aborrecido , quiere con amor de verdad y serás correspondido ',\n",
       " ' afeites de mujer y cielo aborregado , duran lo que un nublado ',\n",
       " ' afortunado en el juego , desgraciado en amores ',\n",
       " ' agua estancada , agua envenenada ',\n",
       " ' agua pasada no mueve molino ',\n",
       " ' agua vertida , no toda cogida ',\n",
       " ' a el que no está hecho a bragas , las costuras le hacen llagas ',\n",
       " ' amigo reconciliado , enemigo doblado ',\n",
       " ' amores reñidos son los más queridos ',\n",
       " ' aquella es bien casada , que ni tiene suegra ni cuñada ',\n",
       " ' asno callado , por sabio es contado ',\n",
       " ' aún no ha salido de el cascarón , y ya tiene espolón ',\n",
       " ' bienes mal adquiridos , a nadie han enriquecido ',\n",
       " ' boca dulce y bolsa abierta te abrirán todas las puertas ',\n",
       " ' cada uno donde es nacido , y bien se está el pájaro en su nido ',\n",
       " ' cada uno ve con los ojos que dios le ha dado ',\n",
       " ' caminante cansado , subirá en asno , si no encuentra caballo ',\n",
       " ' casa cerrada , casa arruinada ',\n",
       " ' casa convidada , pobre y denostada ',\n",
       " ' casa hecha , sepultura abierta ',\n",
       " ' comida acabada , amistad terminada ',\n",
       " ' compuesta , no hay mujer fea ',\n",
       " ' con la medida con que midáis , seréis medidos ',\n",
       " ' consejo no pedido , consejo mal recibido ',\n",
       " ' cosa prometida , es medio debida ',\n",
       " ' cualquier tiempo pasado fue mejor ',\n",
       " ' cuerpo descansado dinero vale ',\n",
       " ' de la puerta cerrada el diablo se vuelve ',\n",
       " ' de los escarmentados nacen los avisados ',\n",
       " ' de el árbol caído , todos hacen leña ',\n",
       " ' de el dicho a el hecho hay gran trecho ',\n",
       " ' desgracia compartida , menos sentida ',\n",
       " ' desgraciado en el juego , afortunado en amores ',\n",
       " ' dicha que tarda , con más gozo se aguarda ',\n",
       " ' dicho y hecho ',\n",
       " ' dolor de mujer muerta , dura hasta la puerta ',\n",
       " ' el bien no es conocido hasta que es perdido ',\n",
       " ' el casado , casa quiere ',\n",
       " ' el conejo ido , el consejo venido ',\n",
       " ' el fruto prohibido es el más apetecido ',\n",
       " ' el infierno está empedrado de buenas intenciones ',\n",
       " ' el invierno no es pasado mientras abril no es terminado ',\n",
       " ' el peligro pasado , el voto olvidado ',\n",
       " ' el que por mentiroso es tenido , aunque diga verdad no es creído ',\n",
       " ' el tiempo perdido no se recupera ',\n",
       " ' en arca abierta , el justo peca ',\n",
       " ' en boca cerrada , no entran moscas ',\n",
       " ' enemigos excusados llamamos a los criados ',\n",
       " ' entre amigos y soldados cumplimientos son excusados ',\n",
       " ' es de bien nacidos ser agradecidos ',\n",
       " ' espantóse la muerta de la degollada cuando la vio tan desgreñada ',\n",
       " ' gato escaldado , de el agua fría huye ',\n",
       " ' gran tocado y chico recado ',\n",
       " ' hasta que es padecido , el mal no es conocido ',\n",
       " ' hijos criados , trabajos doblados ',\n",
       " ' hombre prevenido , vale por dos ',\n",
       " ' ir por lana y volver trasquilado ',\n",
       " ' jaula nueva , pájaro muerto ',\n",
       " ' juego y bebida , casa perdida ',\n",
       " ' la cama es buen prado : si no se duerme , se está echado ',\n",
       " ' la caridad bien entendida empieza por uno mismo ',\n",
       " ' la comida reposada , y la cena paseada ',\n",
       " ' la ensalada , poco vinagre y bien aceitada ',\n",
       " ' la manzana podrida pierde a su compañía ',\n",
       " ' la mentira presto es vencida ',\n",
       " ' la mujer compuesta , a su marido quita de puerta ajena ',\n",
       " ' la mujer y el niño , sólo callan lo que no han sabido ',\n",
       " ' la mujer , rogada , y la olla , reposada ',\n",
       " ' la salud no es conocida hasta que es perdida ',\n",
       " ' la suerte está echada ',\n",
       " ' lección bien aprendida , tarde o nunca se olvida ',\n",
       " ' libro cerrado , no saca letrado ',\n",
       " ' libro prestado , libro perdido ',\n",
       " ' lo bien hecho , bien parece ',\n",
       " ' lo comido es lo seguro ',\n",
       " ' lo comido por lo servido ',\n",
       " ' lo fiado , rara_vez pagado ',\n",
       " ' lo hallado no es hurtado ',\n",
       " ' lo heredado es regalado y lo comprado , sudado ',\n",
       " ' lo más encomendado lleva el gato ',\n",
       " ' lo olvidado , ni agradecido ni pagado ',\n",
       " ' loco que sabe callar , por cuerdo es tenido ',\n",
       " ' más daño hacen amigos necios que enemigos descubiertos ',\n",
       " ' más vale buena fama que dorada cama ',\n",
       " ' más vale estar solo que mal acompañado ',\n",
       " ' más vale lo malo conocido que lo bueno por conocer ',\n",
       " ' más vale perro vivo que león muerto ',\n",
       " ' más vale ser envidiado que compadecido ',\n",
       " ' muchos son los llamados y pocos los escogidos ',\n",
       " ' muerta es la abeja , que daba la miel y la cera ',\n",
       " ' muerto el perro , se acabó la rabia ',\n",
       " ' mujer muerta , casa deshecha ',\n",
       " ' nadie está obligado a hacer más de lo que sabe y puede ',\n",
       " ' nadie nace enseñado ',\n",
       " ' no comer por haber comido no es tiempo perdido ',\n",
       " ' no hay amor feo , si es querido con deseo ',\n",
       " ' no hay nublado que dure un año ',\n",
       " ' no hay palabra mal dicha si no fuese mal entendida ',\n",
       " ' no hay que vender la piel de el oso antes_de haber lo cazado ',\n",
       " ' no todas las verdades son para dichas ',\n",
       " ' nunca falta un roto para un descosido ',\n",
       " ' obra empezada , medio acabada ',\n",
       " ' obra hecha , venta espera ',\n",
       " ' pecado confesado , medio perdonado ',\n",
       " ' peligro pasado , el cobarde es esforzado ',\n",
       " ' pocos y mal avenidos ',\n",
       " ' puerco fiado gruñe todo el año ',\n",
       " ' puerta abierta , a el santo tienta ',\n",
       " ' quien con niños se acuesta mojado amanece ',\n",
       " ' quien en mentira es cogido , aunque diga verdad no es creído ',\n",
       " ' quien ha jugado , jugará ',\n",
       " ' quien hace lo que puede , no está obligado a más ',\n",
       " ' quien lejos va a casar , o va engañado o va a engañar ',\n",
       " ' quien muda estado , muda cuidado ',\n",
       " ' quien no ha visto sevilla , no ha visto maravilla ',\n",
       " ' quien te da un hueso , no te quiere ver muerto ',\n",
       " ' ratón que no sabe más que un horado , presto es cazado ',\n",
       " ' si quieres ser bien servido , sirve te a ti mismo ',\n",
       " ' siempre que ha llovido ha escampado ',\n",
       " ' sobre gustos no hay nada escrito ',\n",
       " ' ten siempre una vela encendida por si otra se apaga ',\n",
       " ' tras cornudo , apaleado ',\n",
       " ' un agravio consentido , otro venido ',\n",
       " ' unos nacen con estrella y otros estrellados ',\n",
       " ' yegua cansada , prado halla ',\n",
       " ' ']"
      ]
     },
     "execution_count": 39,
     "metadata": {},
     "output_type": "execute_result"
    }
   ],
   "source": [
    "ora = list(filter(None, ora)) #elimina listas vacías\n",
    "ora"
   ]
  },
  {
   "cell_type": "code",
   "execution_count": 42,
   "metadata": {},
   "outputs": [
    {
     "data": {
      "text/plain": [
       "136"
      ]
     },
     "execution_count": 42,
     "metadata": {},
     "output_type": "execute_result"
    }
   ],
   "source": [
    "len(ora) #again"
   ]
  },
  {
   "cell_type": "code",
   "execution_count": 43,
   "metadata": {},
   "outputs": [
    {
     "data": {
      "text/plain": [
       "135"
      ]
     },
     "execution_count": 43,
     "metadata": {},
     "output_type": "execute_result"
    }
   ],
   "source": [
    "len (participios)"
   ]
  },
  {
   "cell_type": "code",
   "execution_count": null,
   "metadata": {
    "collapsed": true
   },
   "outputs": [],
   "source": []
  }
 ],
 "metadata": {
  "kernelspec": {
   "display_name": "Python 3",
   "language": "python",
   "name": "python3"
  },
  "language_info": {
   "codemirror_mode": {
    "name": "ipython",
    "version": 3
   },
   "file_extension": ".py",
   "mimetype": "text/x-python",
   "name": "python",
   "nbconvert_exporter": "python",
   "pygments_lexer": "ipython3",
   "version": "3.6.2"
  }
 },
 "nbformat": 4,
 "nbformat_minor": 2
}
