{
 "cells": [
  {
   "cell_type": "code",
   "execution_count": 58,
   "metadata": {},
   "outputs": [],
   "source": [
    "achivo = open (r\"RMulti.txt\" , encoding = \"utf-8\")\n",
    "text= achivo.read().lower ()\n",
    "for x in (\" \\” \\“\\\"#$%&/()'¿?¡!\"):\n",
    "    text= text.replace(x, \" \")"
   ]
  },
  {
   "cell_type": "code",
   "execution_count": 59,
   "metadata": {},
   "outputs": [
    {
     "data": {
      "text/plain": [
       "'\\ufeff a amor mal correspondido, ausencia y olvido rmulti\\na barriga llena, corazón contento rmulti\\na bien obrar, bien pagar rmulti\\na boda ni bautizo, no vayas sin ser llamado rmulti\\na buen entendedor, poca'"
      ]
     },
     "execution_count": 59,
     "metadata": {},
     "output_type": "execute_result"
    }
   ],
   "source": [
    "text [ :200]"
   ]
  },
  {
   "cell_type": "code",
   "execution_count": 60,
   "metadata": {},
   "outputs": [],
   "source": [
    "text_div= text.replace (\"rmulti\", \"\")\n",
    "text_div= text_div.split ( \"\\n\")"
   ]
  },
  {
   "cell_type": "code",
   "execution_count": 61,
   "metadata": {},
   "outputs": [
    {
     "data": {
      "text/plain": [
       "['\\ufeff a amor mal correspondido, ausencia y olvido ',\n",
       " 'a barriga llena, corazón contento ',\n",
       " 'a bien obrar, bien pagar ',\n",
       " 'a boda ni bautizo, no vayas sin ser llamado ',\n",
       " 'a buen entendedor, pocas palabras bastan ',\n",
       " 'a buen gato, buen rato ',\n",
       " 'a buen hambre no hay pan duro ',\n",
       " 'a buen servicio, mal galardón ',\n",
       " 'a buen sueño no hay mala cama ',\n",
       " 'a buenas horas, mangas verdes ',\n",
       " 'a buey viejo, cencerro nuevo ',\n",
       " 'a burro muerto, la cebada al rabo ',\n",
       " 'a caballero nuevo, caballo viejo ',\n",
       " 'a caballo nuevo, jinete viejo ',\n",
       " 'a caballo regalado, no le mires el diente ',\n",
       " 'a cada cerdo le llega su san martín ',\n",
       " 'a cada olla, su cobertera ',\n",
       " 'a cada pajarillo le gusta su nidillo ',\n",
       " 'a cada puerta, su dueña ',\n",
       " 'a cada uno lo suyo ']"
      ]
     },
     "execution_count": 61,
     "metadata": {},
     "output_type": "execute_result"
    }
   ],
   "source": [
    "text_div [ :20]"
   ]
  },
  {
   "cell_type": "code",
   "execution_count": 62,
   "metadata": {},
   "outputs": [],
   "source": [
    "matching = [s for s in text_div if \"si \" in s]"
   ]
  },
  {
   "cell_type": "code",
   "execution_count": 63,
   "metadata": {},
   "outputs": [
    {
     "data": {
      "text/plain": [
       "['amigo que no da y cuchillo que no corta, si se pierden poco importa ',\n",
       " 'bien vengas, mal, si vienes solo ',\n",
       " 'caminante cansado, subirá en asno, si no encuentra caballo ',\n",
       " 'después de pera comer, bebe vino si no quieres fenecer ',\n",
       " 'dos no riñen, si uno no quiere ',\n",
       " 'el perro viejo, si ladra, da consejo ',\n",
       " 'el que pregunta no yerra, si la pregunta no es necia ',\n",
       " 'el que regala bien vende si el que recibe lo entiende ',\n",
       " 'ganar sin ahorrar casi es no ganar ',\n",
       " 'la cama es buen prado: si no se duerme, se está echado ',\n",
       " 'lo bueno, si breve, dos veces bueno ',\n",
       " 'más vale perderse el hombre que, si es bueno, perder el nombre ',\n",
       " 'no hay amor feo, si es querido con deseo ',\n",
       " 'no hay cerradura segura si es de oro la ganzúa ',\n",
       " 'no hay palabra mal dicha si no fuese mal entendida ',\n",
       " 'no seáis hornera si tenéis la cabeza de cera ',\n",
       " 'nunca es tarde si la dicha es buena ',\n",
       " 'si a tu vecino quieres mal, métele las cabras en el olivar ',\n",
       " 'si agua sola es tu bebida, será más larga tu vida ',\n",
       " 'si bien me quieres, trátame como sueles ',\n",
       " 'si cantas al asno, te responderá a coces ',\n",
       " 'si el cielo se cae, quebrarse han las ollas ',\n",
       " 'si el grande fuese valiente, y el pequeño paciente, y el bermejo leal, todo el mundo sería igual ',\n",
       " 'si el necio no fuese al mercado no se vendería lo malo ',\n",
       " 'si el niño llorare, acállele su madre; y si no quiere callar, déjele llorar ',\n",
       " 'si en noviembre oyes que truena, la cosecha será buena ',\n",
       " 'si fueres bueno, para ti el provecho; si fueres malo para ti el daño ',\n",
       " 'si haces barato, venderás más que cuatro ',\n",
       " 'si la envidia fuera tiña,  cuántos tiñosos habría  ',\n",
       " 'si la montaña no va a mahoma, mahoma va a la montaña ',\n",
       " 'si la píldora bien supiera, no la doraran por fuera ',\n",
       " 'si no hace viento, no hace mal tiempo ',\n",
       " 'si no puedes con tu enemigo, únete a él ',\n",
       " 'si no quieres una taza, taza y media ',\n",
       " 'si no te envidia nadie, poco vales ',\n",
       " 'si quieres aprender a orar, entra en la mar ',\n",
       " 'si quieres buenos nabos, en julio has de sembrarlos ',\n",
       " 'si quieres el huevo, sufre la gallina ',\n",
       " 'si quieres la col, quieres las hojas de alrededor ',\n",
       " 'si quieres que te siga el can, dale pan ',\n",
       " 'si quieres ser bien servido, sírvete a ti mismo ',\n",
       " 'si quieres vivir bien, da y ten ',\n",
       " 'si quieres vivir en paz, oye, mira y taz ',\n",
       " 'si quieres vivir sano, hazte viejo temprano, y la ropa de invierno tráela en verano ',\n",
       " 'si te mandare tu mujer arrojarte de un tajo, ruega a dios que sea bajo ',\n",
       " 'sigue la hormiga si quieres vivir sin fatiga ',\n",
       " 'ten siempre una vela encendida por si otra se apaga ']"
      ]
     },
     "execution_count": 63,
     "metadata": {},
     "output_type": "execute_result"
    }
   ],
   "source": [
    "matching"
   ]
  },
  {
   "cell_type": "code",
   "execution_count": 64,
   "metadata": {},
   "outputs": [
    {
     "data": {
      "text/plain": [
       "47"
      ]
     },
     "execution_count": 64,
     "metadata": {},
     "output_type": "execute_result"
    }
   ],
   "source": [
    "len (matching)"
   ]
  },
  {
   "cell_type": "code",
   "execution_count": 65,
   "metadata": {
    "collapsed": true
   },
   "outputs": [],
   "source": [
    "matching2 = [s for s in text_div if \" aunque \" in s]"
   ]
  },
  {
   "cell_type": "code",
   "execution_count": 66,
   "metadata": {},
   "outputs": [
    {
     "data": {
      "text/plain": [
       "['el que por mentiroso es tenido, aunque diga verdad no es creído ',\n",
       " 'quien bien quiere a la rosa, aunque se pinche, no se enoja ',\n",
       " 'quien en mentira es cogido, aunque diga verdad no es creído ']"
      ]
     },
     "execution_count": 66,
     "metadata": {},
     "output_type": "execute_result"
    }
   ],
   "source": [
    "matching2"
   ]
  },
  {
   "cell_type": "code",
   "execution_count": 67,
   "metadata": {
    "scrolled": true
   },
   "outputs": [
    {
     "data": {
      "text/plain": [
       "3"
      ]
     },
     "execution_count": 67,
     "metadata": {},
     "output_type": "execute_result"
    }
   ],
   "source": [
    "len (matching2)"
   ]
  },
  {
   "cell_type": "code",
   "execution_count": 68,
   "metadata": {
    "collapsed": true
   },
   "outputs": [],
   "source": [
    "matching3 = [s for s in text_div if \"como\" in s]"
   ]
  },
  {
   "cell_type": "code",
   "execution_count": 69,
   "metadata": {},
   "outputs": [
    {
     "data": {
      "text/plain": [
       "['a lo que está de moda, todo el mundo se acomoda ',\n",
       " 'cada uno habla de la feria como le va en ella ',\n",
       " 'como canta el abad responde el monacillo ',\n",
       " 'como es el pan será la sopa ',\n",
       " 'como se vive, se muere ',\n",
       " 'como siembres, recogerás ',\n",
       " 'el agua, como buey, y el vino, como rey ',\n",
       " 'juan palomo, yo me lo guiso y yo me lo como ',\n",
       " 'la carne sobre el hueso reluce como un espejo ',\n",
       " 'la verdad, como el aceite, quedan encima siempre ',\n",
       " 'lo que es moda no incomoda ',\n",
       " 'no es tan bravo el león como lo pintan ',\n",
       " 'no hay predicador como fray ejemplo ',\n",
       " 'no hay tesoro como la salud ',\n",
       " 'no todo sale como uno quiere ',\n",
       " 'placer y alegría tan pronto ida como venida ',\n",
       " 'quien de lejanas tierras viene, miente como quiere ',\n",
       " 'rico es quien nada debe y se pasa como puede ',\n",
       " 'si bien me quieres, trátame como sueles ',\n",
       " 'sol de marzo hiere como mazo ',\n",
       " 'tan presto se va el cordero como el carnero ',\n",
       " 'tanto peca el que roba la huerta como el queda a la puerta ']"
      ]
     },
     "execution_count": 69,
     "metadata": {},
     "output_type": "execute_result"
    }
   ],
   "source": [
    "matching3"
   ]
  },
  {
   "cell_type": "code",
   "execution_count": 70,
   "metadata": {},
   "outputs": [
    {
     "data": {
      "text/plain": [
       "22"
      ]
     },
     "execution_count": 70,
     "metadata": {},
     "output_type": "execute_result"
    }
   ],
   "source": [
    "len (matching3)"
   ]
  },
  {
   "cell_type": "code",
   "execution_count": 71,
   "metadata": {},
   "outputs": [],
   "source": [
    "matching4 = [s for s in text_div if \"donde\" in s]"
   ]
  },
  {
   "cell_type": "code",
   "execution_count": 72,
   "metadata": {},
   "outputs": [
    {
     "data": {
      "text/plain": [
       "['adonde el corazón se inclina, el pie camina ',\n",
       " 'allá miran ojos donde quieren bien ',\n",
       " 'cada uno donde es nacido, y bien se está el pájaro en su nido ',\n",
       " 'de donde no hay no se puede sacar ',\n",
       " 'donde dije digo, digo diego ',\n",
       " 'donde entra el sol, no entra el doctor ',\n",
       " 'donde fueres, haz lo que vieres ',\n",
       " 'donde hay amor, hay dolor ',\n",
       " 'donde hay camino real, no te vayas por el matorral ',\n",
       " 'donde hay celos, hay amor; donde hay viejos, hay dolor ',\n",
       " 'donde hay confianza, da asco ',\n",
       " 'donde hay gana, hay maña ',\n",
       " 'donde hay patrón, no manda marinero ',\n",
       " 'donde hay saca y no pon, pronto se acaba el bolsón ',\n",
       " 'donde hubo fuego, siempre quedan rescoldos ',\n",
       " 'donde las dan, las toman ',\n",
       " 'donde manda el corazón, la cabeza tiene poco que decir ',\n",
       " 'donde menos se piensa salta la liebre ',\n",
       " 'donde no hay harina, todo es mohína ',\n",
       " 'donde no hay olla, el diablo mora ',\n",
       " 'donde no te llaman,  qué querrán  ',\n",
       " 'donde una cabra va, allá quieren ir todas ',\n",
       " 'donde va más hondo el río, hace menos ruido ',\n",
       " 'en la mesa de san francisco, donde comen cuatro comen cinco ',\n",
       " 'nadie se meta donde no le llamen ',\n",
       " 'triste está la casa donde la gallina canta y el gallo calla ',\n",
       " ' adónde va la lengua  adonde duelen las muelas ',\n",
       " ' dónde va vicente  donde va la gente ']"
      ]
     },
     "execution_count": 72,
     "metadata": {},
     "output_type": "execute_result"
    }
   ],
   "source": [
    "matching4"
   ]
  },
  {
   "cell_type": "code",
   "execution_count": 73,
   "metadata": {},
   "outputs": [
    {
     "data": {
      "text/plain": [
       "28"
      ]
     },
     "execution_count": 73,
     "metadata": {},
     "output_type": "execute_result"
    }
   ],
   "source": [
    "len (matching4)"
   ]
  },
  {
   "cell_type": "code",
   "execution_count": 74,
   "metadata": {
    "collapsed": true
   },
   "outputs": [],
   "source": [
    "matching5 = [s for s in text_div if \" en \" in s]"
   ]
  },
  {
   "cell_type": "code",
   "execution_count": 75,
   "metadata": {},
   "outputs": [
    {
     "data": {
      "text/plain": [
       "['a las diez en la cama estés ',\n",
       " 'a pájaro durmiente, tarde le entra el cebo en el vientre ',\n",
       " 'a raposo durmiente, no le amanece la gallina en el vientre ',\n",
       " 'acogí al ratón en mi agujero y volvióseme heredero ',\n",
       " 'afortunado en el juego, desgraciado en amores ',\n",
       " 'al buen día, mételo en casa ',\n",
       " 'al que de ajeno se viste, en la calle le desnudan ',\n",
       " 'al que tiene y duerme en el suelo, no hay que tenerle duelo ',\n",
       " 'amigos, hasta en el infierno ',\n",
       " 'amor de niño, agua en cestillo ',\n",
       " 'andar toda la noche y amanecer en la posada ',\n",
       " 'aquella ave es mala que en su nido se ensucia ',\n",
       " 'arrieros somos, y en el camino nos encontraremos ',\n",
       " 'bien está cada piedra en su agujero ',\n",
       " 'buena es la nieve que en su tiempo viene ',\n",
       " 'cada cosa en su sitio, y un sitio para cada cosa ',\n",
       " 'cada gallo canta en su muladar ',\n",
       " 'cada uno donde es nacido, y bien se está el pájaro en su nido ',\n",
       " 'cada uno en su casa es rey ',\n",
       " 'cada uno en su casa, y dios en la de todos ',\n",
       " 'cada uno habla de la feria como le va en ella ',\n",
       " 'caminante cansado, subirá en asno, si no encuentra caballo ',\n",
       " 'casa en cantón y viña en rincón ',\n",
       " 'cena poco, come más, duerme en alto y vivirás ',\n",
       " 'cuando atruena en marzo, apareja las cubas y el mazo ',\n",
       " 'cuando un lobo come a otro, no hay qué comer en el soto ',\n",
       " 'de amigo a amigo, sangre en el ojo ',\n",
       " 'de hombres es errar; de bestias, en el error perseverar ',\n",
       " 'de todo hay en la viña del señor ',\n",
       " 'desgraciado en el juego, afortunado en amores ',\n",
       " 'despacio y buena letra, dice el maestro en la escuela ',\n",
       " 'dinero en mano, todo es llano ',\n",
       " 'dos pájaros en una espiga hacen mala compañía ',\n",
       " 'dos que duermen en un colchón, se vuelven de la misma condición ',\n",
       " 'el águila no se entretiene en cazar moscas ',\n",
       " 'el arroz, el pez y el pepino, nacen en agua y mueren en vino ',\n",
       " 'el buen paño, en el arca se vende ',\n",
       " 'el buen perfume se vende en frasco pequeño ',\n",
       " 'el hombre es el único animal que tropieza dos veces en la misma piedra ',\n",
       " 'el que al cielo escupe, en la cara le cae ',\n",
       " 'el que compra y miente, en su bolsa lo siente ',\n",
       " 'el que en casarse acierta, en nada yerra ',\n",
       " 'el que en sí confía yerra cada día ',\n",
       " 'el que tiene un tío en alcalá, ni tiene tío ni tiene ná ',\n",
       " 'el rosario al cuello, y el diablo en el cuerpo ',\n",
       " 'el tiempo pone a cada uno en su sitio ',\n",
       " 'en la guerra y en el amor, todo vale ',\n",
       " 'en la mesa y en el juego, se conoce al caballero ',\n",
       " 'en navidad, al balcón; en pascua, al fogón ',\n",
       " 'es más fácil que un camello entre por el ojo de una aguja, que el que un rico entre en el reino de dios ',\n",
       " 'escapé del trueno y di en el relámpago ',\n",
       " 'gallo que no canta, algo tiene en la garganta ',\n",
       " 'gaviotas en tierra anuncian temporal fuera ',\n",
       " 'huí del perejil y nacióme en la frente ',\n",
       " 'huir del fuego para caer en las brasas ',\n",
       " 'lista de paremias en español ',\n",
       " 'la más ruin oveja se ensucia en la colodra ',\n",
       " 'la mujer y el vidrio, siempre están en peligro ',\n",
       " 'lo que cuesta poco se estima en menos ',\n",
       " 'lo que el niño oyó en el hogar, eso dice en el portal ',\n",
       " 'lo que en la leche se mama, en la mortaja se derrama ',\n",
       " 'lo que en los libros no está, la vida te lo enseñará ',\n",
       " 'lo que no acaece en un año sucede en un rato ',\n",
       " 'lo que no va en lágrimas va en suspiros ',\n",
       " 'lo que se aprende en la cuna, siempre dura ',\n",
       " 'los años no pasan en balde ',\n",
       " 'los trapos sucios se lavan en casa ',\n",
       " 'malas son de guardar las viñas en septiembre y las doncellas siempre ',\n",
       " 'más sabe el loco en su casa que el cuerdo en la ajena ',\n",
       " 'más vale amigos en la plaza, que dineros en el arca ',\n",
       " 'más vale caer en gracia que ser gracioso ',\n",
       " 'más vale gastar en pan que en botica ',\n",
       " 'más vale pájaro en mano que ciento volando ',\n",
       " 'más vale quedar con gana que caer en la cama ',\n",
       " 'mente sana en cuerpo sano ',\n",
       " 'mientras en mi casa estoy, rey me soy ',\n",
       " 'muchos ajos en un mortero, mal los maja el majadero ',\n",
       " 'nadie es profeta en su tierra ',\n",
       " 'ni en burlas ni en veras con tu amo partas peras ',\n",
       " 'ni en la cama ni en la mesa es útil la vergüenza ',\n",
       " 'ni fía ni porfía, ni entres en cofradía ',\n",
       " 'ni virtud en la juventud ni en la vejez salud ',\n",
       " 'ni yerba en el trigo ni sospecha en el amigo ',\n",
       " 'ninguno escarmienta en cabeza ajena ',\n",
       " 'no cantan dos gallos en un gallinero ',\n",
       " 'no hay que mentar la soga en casa del ahorcado ',\n",
       " 'no se ganó zamora en una hora ',\n",
       " 'no se puede estar en misa y repicando ',\n",
       " 'nuestro gozo en un pozo ',\n",
       " 'pajarilla que en erial se cría, siempre por él pía ',\n",
       " 'pon lo tuyo en concejo, y unos dirán que es blanco y otros que es negro ',\n",
       " 'por los santos, la nieve en los altos; por san andrés, la nieve en los pies ',\n",
       " 'quien ama el peligro, en él perece ',\n",
       " 'quien caminando lleva priesa, en camino llano tropieza ',\n",
       " 'quien con la ropa de otro se viste en la calle le desnudan ',\n",
       " 'quien da lo suyo antes de su muerte, merece que le den con un mazo en la frente ',\n",
       " 'quien de joven no trabaja, de viejo duerme en la paja ',\n",
       " 'quien en mentira es cogido, aunque diga verdad no es creído ',\n",
       " 'quien en necio confía, necedad recibe ',\n",
       " 'quien en su mal consiente, a nadie se queje ',\n",
       " 'quien en tiempo huye, en tiempo acude ',\n",
       " 'quien fía o promete, en deuda se mete ',\n",
       " 'quien fue cocinero antes que fraile, lo que pasa en la cocina bien sabe ',\n",
       " 'quien lazo me armó, en él cayó ',\n",
       " 'quien mala cama hace, en ella se yace ',\n",
       " 'quien no puede dar en el asno, da en la albarda ',\n",
       " 'quien predica en el desierto pierde el sermón ',\n",
       " 'quien ruin es en su tierra, ruin es fuera de ella ',\n",
       " 'quiso pegar el salto y cayó en el charco ',\n",
       " 'salir de guatemala y entrar en guatepeor ',\n",
       " 'sembrarás cuando podrás, pero en junio segarás ',\n",
       " 'si a tu vecino quieres mal, métele las cabras en el olivar ',\n",
       " 'si en noviembre oyes que truena, la cosecha será buena ',\n",
       " 'si quieres aprender a orar, entra en la mar ',\n",
       " 'si quieres buenos nabos, en julio has de sembrarlos ',\n",
       " 'si quieres vivir en paz, oye, mira y taz ',\n",
       " 'si quieres vivir sano, hazte viejo temprano, y la ropa de invierno tráela en verano ',\n",
       " 'siéntate en tu lugar y no te harán levantar ',\n",
       " 'suegra y nuera, perro y gato, no comen en el mismo plato ',\n",
       " 'sufro y callo, por el tiempo en que me hallo ',\n",
       " 'un tropezón cualquiera da en la vida ',\n",
       " 'una aguja en un pajar, es difícil de encontrar ',\n",
       " 'vemos la paja en el ojo ajeno, y no vemos la viga en el nuestro ']"
      ]
     },
     "execution_count": 75,
     "metadata": {},
     "output_type": "execute_result"
    }
   ],
   "source": [
    "matching5 "
   ]
  },
  {
   "cell_type": "code",
   "execution_count": 76,
   "metadata": {},
   "outputs": [
    {
     "data": {
      "text/plain": [
       "123"
      ]
     },
     "execution_count": 76,
     "metadata": {},
     "output_type": "execute_result"
    }
   ],
   "source": [
    "len (matching5)"
   ]
  },
  {
   "cell_type": "code",
   "execution_count": 77,
   "metadata": {
    "collapsed": true
   },
   "outputs": [],
   "source": [
    "matching6 = [s for s in text_div if \"a menos que\" in s]"
   ]
  },
  {
   "cell_type": "code",
   "execution_count": 78,
   "metadata": {},
   "outputs": [
    {
     "data": {
      "text/plain": [
       "[]"
      ]
     },
     "execution_count": 78,
     "metadata": {},
     "output_type": "execute_result"
    }
   ],
   "source": [
    "matching6"
   ]
  },
  {
   "cell_type": "code",
   "execution_count": 79,
   "metadata": {
    "collapsed": true
   },
   "outputs": [],
   "source": [
    "matching7 = [s for s in text_div if \"con tal que\" in s]"
   ]
  },
  {
   "cell_type": "code",
   "execution_count": 80,
   "metadata": {},
   "outputs": [
    {
     "data": {
      "text/plain": [
       "[]"
      ]
     },
     "execution_count": 80,
     "metadata": {},
     "output_type": "execute_result"
    }
   ],
   "source": [
    "matching7"
   ]
  },
  {
   "cell_type": "code",
   "execution_count": 81,
   "metadata": {
    "collapsed": true
   },
   "outputs": [],
   "source": [
    "matching8= [s for s in text_div if \" de que\" in s]"
   ]
  },
  {
   "cell_type": "code",
   "execution_count": 82,
   "metadata": {},
   "outputs": [
    {
     "data": {
      "text/plain": [
       "['antes de que acabes, no te alabes ',\n",
       " 'antes de que te cases, mira lo que haces ']"
      ]
     },
     "execution_count": 82,
     "metadata": {},
     "output_type": "execute_result"
    }
   ],
   "source": [
    "matching8"
   ]
  },
  {
   "cell_type": "code",
   "execution_count": 83,
   "metadata": {},
   "outputs": [
    {
     "data": {
      "text/plain": [
       "2"
      ]
     },
     "execution_count": 83,
     "metadata": {},
     "output_type": "execute_result"
    }
   ],
   "source": [
    "len(matching8)"
   ]
  },
  {
   "cell_type": "code",
   "execution_count": 84,
   "metadata": {
    "collapsed": true
   },
   "outputs": [],
   "source": [
    "matching9 = [s for s in text_div if \" a que \" in s]"
   ]
  },
  {
   "cell_type": "code",
   "execution_count": 85,
   "metadata": {},
   "outputs": [
    {
     "data": {
      "text/plain": [
       "[]"
      ]
     },
     "execution_count": 85,
     "metadata": {},
     "output_type": "execute_result"
    }
   ],
   "source": [
    "matching9"
   ]
  },
  {
   "cell_type": "code",
   "execution_count": 86,
   "metadata": {
    "collapsed": true
   },
   "outputs": [],
   "source": [
    "import re"
   ]
  },
  {
   "cell_type": "code",
   "execution_count": 87,
   "metadata": {
    "collapsed": true
   },
   "outputs": [],
   "source": [
    "reg= re.compile (r\"que\\b(.[^ ]+ ){0,1}.[^ ]+(ar|er|ir)(\\b|la|le|se|nos|te|me)\")"
   ]
  },
  {
   "cell_type": "code",
   "execution_count": 88,
   "metadata": {},
   "outputs": [],
   "source": [
    "matching10 = [x for x in text_div if reg.search(x)]"
   ]
  },
  {
   "cell_type": "code",
   "execution_count": 89,
   "metadata": {},
   "outputs": [
    {
     "data": {
      "text/plain": [
       "['a la red del que duerme, los peces vienen ',\n",
       " 'al perro que duerme, no lo despiertes ',\n",
       " 'al que quiere bailar, poco son es menester ',\n",
       " 'al que tiene y duerme en el suelo, no hay que tenerle duelo ',\n",
       " 'antes quebrar que doblar ',\n",
       " 'camarón que se duerme se lo lleva la corriente ',\n",
       " 'donde manda el corazón, la cabeza tiene poco que decir ',\n",
       " 'dos que duermen en un colchón, se vuelven de la misma condición ',\n",
       " 'el que en casarse acierta, en nada yerra ',\n",
       " 'el que parte y reparte se queda con la mejor parte ',\n",
       " 'es peor el remedio que la enfermedad ',\n",
       " 'loco que sabe callar, por cuerdo es tenido ',\n",
       " 'más vale buen callar que mal hablar ',\n",
       " 'más vale caer en gracia que ser gracioso ',\n",
       " 'más vale dar algo que prestar largo ',\n",
       " 'más vale llegar a tiempo que rondar un año ',\n",
       " 'más vale morir con honra que vivir con deshonra ',\n",
       " 'más vale pedir que hurtar ',\n",
       " 'más vale perder que más perder ',\n",
       " 'más vale preguntar viejo, que morir necio ',\n",
       " 'más vale prevenir que curar ',\n",
       " 'más vale quedar con gana que caer en la cama ',\n",
       " 'más vale saber que haber ',\n",
       " 'más vale soltero andar que mal casar ',\n",
       " 'más vale sudar que estornudar ',\n",
       " 'más vale tener que desear ',\n",
       " 'mejor dar que recibir ',\n",
       " 'no dejes para mañana lo que puedas hacer hoy ',\n",
       " 'no es lo mismo predicar que dar trigo ',\n",
       " 'no es lo mismo ser que parecer ',\n",
       " 'no es menos saber guardar que saber ganar ',\n",
       " 'no hay mayor desprecio que no hacer aprecio ',\n",
       " 'no hay mejor ahorrar que poco gastar ',\n",
       " 'no hay que empezar la casa por el tejado ',\n",
       " 'no hay que extender la pierna más que lo que da de sí la sábana ',\n",
       " 'no hay que fiarse de las apariencias ',\n",
       " 'no hay que llorar al muerto sino al vivo ',\n",
       " 'no hay que mentar la soga en casa del ahorcado ',\n",
       " 'no hay que mezclar churras con merinas ',\n",
       " 'no hay que vender la piel del oso antes de haberlo cazado ',\n",
       " 'para presumir hay que sufrir ',\n",
       " 'sin alas con que alear,  cómo pretendes volar  ']"
      ]
     },
     "execution_count": 89,
     "metadata": {},
     "output_type": "execute_result"
    }
   ],
   "source": [
    "matching10"
   ]
  },
  {
   "cell_type": "code",
   "execution_count": 90,
   "metadata": {},
   "outputs": [
    {
     "data": {
      "text/plain": [
       "42"
      ]
     },
     "execution_count": 90,
     "metadata": {},
     "output_type": "execute_result"
    }
   ],
   "source": [
    "len (matching10)"
   ]
  },
  {
   "cell_type": "code",
   "execution_count": 91,
   "metadata": {
    "collapsed": true
   },
   "outputs": [],
   "source": [
    "reg= re.compile (r\" a\\b(.[^ ]+ ){0,1}.[^ ]+(ar|er|ir)(\\b|la|le|se|nos|te|me)\")"
   ]
  },
  {
   "cell_type": "code",
   "execution_count": 92,
   "metadata": {
    "scrolled": true
   },
   "outputs": [],
   "source": [
    " matching11 = [x for x in text_div if reg.search(x)]"
   ]
  },
  {
   "cell_type": "code",
   "execution_count": 93,
   "metadata": {},
   "outputs": [
    {
     "data": {
      "text/plain": [
       "['aprende a perder y aprenderás a ganar y a triunfar ',\n",
       " 'aprended a bien callar, para que sepáis bien hablar ',\n",
       " 'cobra buena fama y échate a dormir ',\n",
       " 'cuando las barbas de tu vecino veas pelar, pon las tuyas a remojar ',\n",
       " 'el pez a oler mal empieza, por la cabeza ',\n",
       " 'en la barba del necio, todos aprenden a rapar ',\n",
       " 'errando se aprende a herrar ',\n",
       " 'nadie está obligado a hacer más de lo que sabe y puede ',\n",
       " 'no hay necesidad de enseñar al gato a arañar ',\n",
       " 'poco se gana a hilar, pero menos a mirar ',\n",
       " 'quien anda por la mar, aprende a rezar ',\n",
       " 'quien con lobos anda, a aullar se enseña ',\n",
       " 'quien lejos va a casar, o va engañado o va a engañar ',\n",
       " 'quien quisiere vencer, aprenda a padecer ',\n",
       " 'quien toma, a dar se obliga ',\n",
       " 'si quieres aprender a orar, entra en la mar ',\n",
       " 'siempre sale a hablar quien tiene por qué callar ']"
      ]
     },
     "execution_count": 93,
     "metadata": {},
     "output_type": "execute_result"
    }
   ],
   "source": [
    "matching11"
   ]
  },
  {
   "cell_type": "code",
   "execution_count": 94,
   "metadata": {},
   "outputs": [
    {
     "data": {
      "text/plain": [
       "17"
      ]
     },
     "execution_count": 94,
     "metadata": {},
     "output_type": "execute_result"
    }
   ],
   "source": [
    "len (matching11)"
   ]
  },
  {
   "cell_type": "code",
   "execution_count": 95,
   "metadata": {
    "collapsed": true
   },
   "outputs": [],
   "source": [
    "reg= re.compile (r\" de\\b(.[^ ]+ ){0,1}.[^ ]+(ar|er|ir)(\\b|la|le|se|nos|te|me)\")"
   ]
  },
  {
   "cell_type": "code",
   "execution_count": 96,
   "metadata": {},
   "outputs": [],
   "source": [
    "  matching12 = [x for x in text_div if reg.search(x)]"
   ]
  },
  {
   "cell_type": "code",
   "execution_count": 97,
   "metadata": {},
   "outputs": [
    {
     "data": {
      "text/plain": [
       "['a la mujer y al mar has de respetar ',\n",
       " 'afeites de mujer y cielo aborregado, duran lo que un nublado ',\n",
       " 'agua que no has de beber, déjala correr ',\n",
       " 'al pajarillo que se ha de perder, alillas le han de nacer ',\n",
       " 'antes de hacer nada, consúltalo con la almohada ',\n",
       " 'casa con dos puertas, mala es de guardar ',\n",
       " 'contra el vicio de pedir, la virtud de no dar ',\n",
       " 'después de beber, cada uno dice su parecer ',\n",
       " 'después de comer, ni un sobre leer ',\n",
       " 'después de pera comer, bebe vino si no quieres fenecer ',\n",
       " 'dolor de mujer muerta, dura hasta la puerta ',\n",
       " 'el buen saber es callar, hasta ser tiempo de hablar ',\n",
       " 'el consejo de la mujer es poco y el que no lo toma es loco ',\n",
       " 'el día de placer, víspera de pesar ',\n",
       " 'el enamorado y el pez, frescos han de ser ',\n",
       " 'el lloro de la mujer, no es de creer ',\n",
       " 'el mentiroso ha de ser memorioso ',\n",
       " 'la hija de la cabra,  qué ha de ser sino cabrita  ',\n",
       " 'la mujer del césar, además de ser honesta, debe parecerlo ',\n",
       " 'la oveja que ha de ser para el lobo, es fuerza que lo sea ',\n",
       " 'las mañanitas de abril son muy dulces de dormir ',\n",
       " 'lo que no has de comer, déjalo cocer ',\n",
       " 'malas son de guardar las viñas en septiembre y las doncellas siempre ',\n",
       " 'más se ha de estimar un diente que un diamante ',\n",
       " 'mujer hermosa, viña e higueral, muy malas son de guardar ',\n",
       " 'nadie deje de sembrar por miedo de gorriones ',\n",
       " 'no dejes lo ganado por lo que has de ganar ',\n",
       " 'no hay necesidad de enseñar al gato a arañar ',\n",
       " 'no muerdas la mano del que te da de comer ',\n",
       " 'oficio, bueno o malo, da de comer a su amo ',\n",
       " 'oír, ver y callar, recias cosas son de obrar ',\n",
       " 'por bien estar, mucho se ha de andar ',\n",
       " 'quien a su can quiere matar, rabia le ha de levantar ',\n",
       " 'quien da lo suyo antes de su muerte, merece que le den con un mazo en la frente ',\n",
       " 'quien de joven no trabaja, de viejo duerme en la paja ',\n",
       " 'quien deja de ser amigo, no lo fue nunca ',\n",
       " 'una aguja en un pajar, es difícil de encontrar ']"
      ]
     },
     "execution_count": 97,
     "metadata": {},
     "output_type": "execute_result"
    }
   ],
   "source": [
    "matching12"
   ]
  },
  {
   "cell_type": "code",
   "execution_count": 98,
   "metadata": {},
   "outputs": [
    {
     "data": {
      "text/plain": [
       "37"
      ]
     },
     "execution_count": 98,
     "metadata": {},
     "output_type": "execute_result"
    }
   ],
   "source": [
    "len(matching12)"
   ]
  },
  {
   "cell_type": "code",
   "execution_count": 99,
   "metadata": {
    "collapsed": true
   },
   "outputs": [],
   "source": [
    "reg= re.compile (r\" como\\b(.[^ ]+ ){0,1}.[^ ]+(e|es|os|eis|en|are|aras|aramos|arais| aran|ase|ases|asemos|aseis|asen|are|ares|aremos|areis|aren|ama|ame|emos|ad|amen)(\\b|la|le|se|nos|te|me)\")"
   ]
  },
  {
   "cell_type": "code",
   "execution_count": 100,
   "metadata": {},
   "outputs": [],
   "source": [
    "matching13 = [x for x in text_div if reg.search(x)]"
   ]
  },
  {
   "cell_type": "code",
   "execution_count": 101,
   "metadata": {},
   "outputs": [
    {
     "data": {
      "text/plain": [
       "['cada uno habla de la feria como le va en ella ',\n",
       " 'la verdad, como el aceite, quedan encima siempre ',\n",
       " 'no todo sale como uno quiere ',\n",
       " 'quien de lejanas tierras viene, miente como quiere ',\n",
       " 'rico es quien nada debe y se pasa como puede ',\n",
       " 'si bien me quieres, trátame como sueles ']"
      ]
     },
     "execution_count": 101,
     "metadata": {},
     "output_type": "execute_result"
    }
   ],
   "source": [
    "matching13"
   ]
  },
  {
   "cell_type": "code",
   "execution_count": 102,
   "metadata": {},
   "outputs": [
    {
     "data": {
      "text/plain": [
       "6"
      ]
     },
     "execution_count": 102,
     "metadata": {},
     "output_type": "execute_result"
    }
   ],
   "source": [
    "len(matching13)"
   ]
  },
  {
   "cell_type": "code",
   "execution_count": 103,
   "metadata": {
    "collapsed": true
   },
   "outputs": [],
   "source": [
    "matching14 = [s for s in text_div if \" mientras en \" in s]"
   ]
  },
  {
   "cell_type": "code",
   "execution_count": 104,
   "metadata": {},
   "outputs": [
    {
     "data": {
      "text/plain": [
       "[]"
      ]
     },
     "execution_count": 104,
     "metadata": {},
     "output_type": "execute_result"
    }
   ],
   "source": [
    "matching14"
   ]
  },
  {
   "cell_type": "code",
   "execution_count": 105,
   "metadata": {},
   "outputs": [
    {
     "data": {
      "text/plain": [
       "0"
      ]
     },
     "execution_count": 105,
     "metadata": {},
     "output_type": "execute_result"
    }
   ],
   "source": [
    "len(matching14)"
   ]
  },
  {
   "cell_type": "code",
   "execution_count": 108,
   "metadata": {},
   "outputs": [],
   "source": [
    "reg= re.compile (r\"[^ ]+(pensando|sintiendo|meditando|reflexionando|olvidando|opinando|creyendo|considerando)(\\b|la|le|se|nos|te|me)\")"
   ]
  },
  {
   "cell_type": "code",
   "execution_count": 109,
   "metadata": {
    "collapsed": true
   },
   "outputs": [],
   "source": [
    " matching15 = [x for x in text_div if reg.search(x)]"
   ]
  },
  {
   "cell_type": "code",
   "execution_count": 110,
   "metadata": {},
   "outputs": [
    {
     "data": {
      "text/plain": [
       "0"
      ]
     },
     "execution_count": 110,
     "metadata": {},
     "output_type": "execute_result"
    }
   ],
   "source": [
    "len(matching15)"
   ]
  },
  {
   "cell_type": "code",
   "execution_count": 49,
   "metadata": {},
   "outputs": [],
   "source": [
    "import requests\n",
    "with open ('si2.txt', 'w') as g:\n",
    "    with open ('si1.txt') as f:\n",
    "        for line in f:\n",
    "            line = line.strip()\n",
    "            line = line[:-1]+ '.\\n'\n",
    "            g.write(line)\n",
    "            "
   ]
  },
  {
   "cell_type": "code",
   "execution_count": 50,
   "metadata": {},
   "outputs": [
    {
     "name": "stdout",
     "output_type": "stream",
     "text": [
      "amigo NCMS000 que PR0CN00 no RN da VMIP3S0 y CC cuchillo NCMS000 que PR0CN00 no RN corta VMIP3S0 , Fc si CS se P00CN00 pierden VMIP3P0 poco RG importa VMIP3S0 ' Fe . Fp \n",
      "\n",
      "\n",
      "\n",
      "\n",
      "\n",
      "' Fe bien RG vengas VMIP2S0 , Fc mal RG , Fc si CS vienes VMIP2S0 solo AQ0MS00 ' Fe . Fp \n",
      "\n",
      "\n",
      "\n",
      "\n",
      "\n",
      "' Fe caminante NCCS000 cansado VMP00SM , Fc subirá VMIF3S0 en SP asno NCMS000 , Fc si CS no RN encuentra VMIP3S0 caballo NCMS000 ' Fe . Fp \n",
      "\n",
      "\n",
      "\n",
      "\n",
      "\n",
      "' Fe después_de SP pera NCFS000 comer VMN0000 , Fc bebe VMIP3S0 vino NCMS000 si CS no RN quieres VMIP2S0 fenecer VMN0000 ' Fe . Fp \n",
      "\n",
      "\n",
      "\n",
      "\n",
      "\n",
      "' Fe dos Z no RN riñen VMIP3P0 , Fc si CS uno PI0MS00 no RN quiere VMIP3S0 ' Fe . Fp \n",
      "\n",
      "\n",
      "\n",
      "\n",
      "\n",
      "' Fe el DA0MS0 perro NCMS000 viejo AQ0MS00 , Fc si CS ladra NCFS000 , Fc da VMIP3S0 consejo NCMS000 ' Fe . Fp \n",
      "\n",
      "\n",
      "\n",
      "\n",
      "\n",
      "' Fe el DA0MS0 que PR0CN00 pregunta NCFS000 no RN yerra VMIP3S0 , Fc si CS la DA0FS0 pregunta NCFS000 no RN es VSIP3S0 necia AQ0FS00 ' Fe . Fp \n",
      "\n",
      "\n",
      "\n",
      "\n",
      "\n",
      "' Fe el DA0MS0 que PR0CN00 regala VMIP3S0 bien RG vende VMIP3S0 si CS el DA0MS0 que PR0CN00 recibe VMIP3S0 lo PP3MSA0 entiende VMIP3S0 ' Fe . Fp \n",
      "\n",
      "\n",
      "\n",
      "\n",
      "\n",
      "' Fe ganar VMN0000 sin SP ahorrar VMN0000 casi RG es VSIP3S0 no RN ganar VMN0000 ' Fe . Fp \n",
      "\n",
      "\n",
      "\n",
      "\n",
      "\n",
      "' Fe la DA0FS0 cama NCFS000 es VSIP3S0 buen AQ0MS00 prado NCMS000 : Fd si CS no RN se P00CN00 duerme VMIP3S0 , Fc se P00CN00 está VMIP3S0 echado VMP00SM ' Fe . Fp \n",
      "\n",
      "\n",
      "\n",
      "\n",
      "\n",
      "' Fe lo PP3MSA0 bueno AQ0MS00 , Fc si CS breve AQ0CS00 , Fc dos Z veces NCFP000 bueno AQ0MS00 ' Fe . Fp \n",
      "\n",
      "\n",
      "\n",
      "\n",
      "\n",
      "' Fe más RG vale VMIP3S0 perder VMN0000 se PP3CN00 el DA0MS0 hombre NCMS000 que PR0CN00 , Fc si CS es VSIP3S0 bueno AQ0MS00 , Fc perder VMN0000 el DA0MS0 nombre NCMS000 ' Fe . Fp \n",
      "\n",
      "\n",
      "\n",
      "\n",
      "\n",
      "' Fe no RN hay VMIP3S0 amor NCMS000 feo AQ0MS00 , Fc si CS es VSIP3S0 querido VMP00SM con SP deseo NCMS000 ' Fe . Fp \n",
      "\n",
      "\n",
      "\n",
      "\n",
      "\n",
      "' Fe no RN hay VMIP3S0 cerradura NCFS000 segura AQ0FS00 si CS es VSIP3S0 de SP oro NCMS000 la DA0FS0 ganzúa NCFS000 ' Fe . Fp \n",
      "\n",
      "\n",
      "\n",
      "\n",
      "\n",
      "' Fe no RN hay VMIP3S0 palabra NCFS000 mal RG dicha VMP00SF si CS no RN fuese VSSI3S0 mal RG entendida VMP00SF ' Fe . Fp \n",
      "\n",
      "\n",
      "\n",
      "\n",
      "\n",
      "' Fe no RN seáis VSSP2P0 hornera NCFS000 si CS tenéis VMIP2P0 la DA0FS0 cabeza NCCS000 de SP cera NCFS000 ' Fe . Fp \n",
      "\n",
      "\n",
      "\n",
      "\n",
      "\n",
      "' Fe nunca RG es VSIP3S0 tarde RG si CS la DA0FS0 dicha NCFS000 es VSIP3S0 buena AQ0FS00 ' Fe . Fp \n",
      "\n",
      "\n",
      "\n",
      "\n",
      "\n",
      "' Fe si CS a SP tu DP2CSS vecino NCMS000 quieres VMIP2S0 mal RG , Fc mete VMM02S0 le PP3CSD0 las DA0FP0 cabras NCFP000 en SP el DA0MS0 olivar NCMS000 ' Fe . Fp \n",
      "\n",
      "\n",
      "\n",
      "\n",
      "\n",
      "' Fe si CS agua NCCS000 sola AQ0FS00 es VSIP3S0 tu DP2CSS bebida NCFS000 , Fc será VSIF3S0 más RG larga AQ0FS00 tu DP2CSS vida NCFS000 ' Fe . Fp \n",
      "\n",
      "\n",
      "\n",
      "\n",
      "\n",
      "' Fe si CS bien RG me PP1CS00 quieres VMIP2S0 , Fc trata VMM02S0 me PP1CS00 como CS sueles VMSP2S0 ' Fe . Fp \n",
      "\n",
      "\n",
      "\n",
      "\n",
      "\n",
      "' Fe si CS cantas VMIP2S0 a SP el DA0MS0 asno NCMS000 , Fc te PP2CS00 responderá VMIF3S0 a SP coces NCFP000 ' Fe . Fp \n",
      "\n",
      "\n",
      "\n",
      "\n",
      "\n",
      "' Fe si CS el DA0MS0 cielo NCMS000 se P00CN00 cae VMIP3S0 , Fc quebrar VMN0000 se PP3CN00 han VMIP3P0 las DA0FP0 ollas NCFP000 ' Fe . Fp \n",
      "\n",
      "\n",
      "\n",
      "\n",
      "\n",
      "' Fe si CS el DA0MS0 grande AQ0CS00 fuese VSSI3S0 valiente AQ0CS00 , Fc y CC el DA0MS0 pequeño AQ0MS00 paciente NCCS000 , Fc y CC el DA0MS0 bermejo AQ0MS00 leal NCCS000 , Fc todo DI0MS0 el DA0MS0 mundo NCMS000 sería VSIC1S0 igual AQ0CS00 ' Fe . Fp \n",
      "\n",
      "\n",
      "\n",
      "\n",
      "\n",
      "' Fe si CS el DA0MS0 necio NCMS000 no RN fuese VSSI3S0 a SP el DA0MS0 mercado NCMS000 no RN se P00CN00 vendería VMIC3S0 lo DA00S0 malo AQ0MS00 ' Fe . Fp \n",
      "\n",
      "\n",
      "\n",
      "\n",
      "\n",
      "' Fe si CS el DA0MS0 niño NCMS000 llorare VMSF1S0 , Fc acalle VMM03S0 le PP3CSD0 su DP3CSN madre NCFS000 ; Fx y CC si CS no RN quiere VMIP3S0 callar VMN0000 , Fc deje VMM03S0 le PP3CSD0 llorar VMN0000 ' Fe . Fp \n",
      "\n",
      "\n",
      "\n",
      "\n",
      "\n",
      "' Fe si CS en SP noviembre W oyes VMIP2S0 que CS truena VMIP3S0 , Fc la DA0FS0 cosecha NCFS000 será VSIF3S0 buena AQ0FS00 ' Fe . Fp \n",
      "\n",
      "\n",
      "\n",
      "\n",
      "\n",
      "' Fe si CS fueres VSSF2S0 bueno AQ0MS00 , Fc para SP ti PP2CSO0 el DA0MS0 provecho NCMS000 ; Fx si CS fueres VSSF2S0 malo AQ0MS00 para SP ti PP2CSO0 el DA0MS0 daño NCMS000 ' Fe . Fp \n",
      "\n",
      "\n",
      "\n",
      "\n",
      "\n",
      "' Fe si CS haces NCMP000 barato AQ0MS00 , Fc venderás VMIF2S0 más RG que CS cuatro Z ' Fe . Fp \n",
      "\n",
      "\n",
      "\n",
      "\n",
      "\n",
      "' Fe si CS la DA0FS0 envidia NCFS000 fuera VSSI3S0 tiña NCFS000 , Fc cuántos DT0MP0 tiñosos NCMP000 habría VAIC1S0 ' Fe . Fp \n",
      "\n",
      "\n",
      "\n",
      "\n",
      "\n",
      "' Fe si CS la DA0FS0 montaña NCFS000 no RN va VMIP3S0 a SP mahoma NCFS000 , Fc mahoma NCFS000 va VMIP3S0 a SP la DA0FS0 montaña NCFS000 ' Fe . Fp \n",
      "\n",
      "\n",
      "\n",
      "\n",
      "\n",
      "' Fe si CS la DA0FS0 píldora NCFS000 bien RG supiera VMSI3S0 , Fc no RN la PP3FSA0 doraran VMSI3P0 por SP fuera RG ' Fe . Fp \n",
      "\n",
      "\n",
      "\n",
      "\n",
      "\n",
      "' Fe si CS no RN hace VMIP3S0 viento NCMS000 , Fc no RN hace VMIP3S0 mal RG tiempo NCMS000 ' Fe . Fp \n",
      "\n",
      "\n",
      "\n",
      "\n",
      "\n",
      "' Fe si CS no RN puedes VMIP2S0 con SP tu DP2CSS enemigo NCMS000 , Fc une VMM02S0 te PP2CS00 a SP él PP3MS00 ' Fe . Fp \n",
      "\n",
      "\n",
      "\n",
      "\n",
      "\n",
      "' Fe si CS no RN quieres VMIP2S0 una DI0FS0 taza NCFS000 , Fc taza NCFS000 y CC media AQ0FS00 ' Fe . Fp \n",
      "\n",
      "\n",
      "\n",
      "\n",
      "\n",
      "' Fe si CS no RN te PP2CS00 envidia VMIP3S0 nadie PI0CS00 , Fc poco RG vales NCMP000 ' Fe . Fp \n",
      "\n",
      "\n",
      "\n",
      "\n",
      "\n",
      "' Fe si CS quieres VMIP2S0 aprender VMN0000 a SP orar VMN0000 , Fc entra VMIP3S0 en SP la DA0FS0 mar NCCS000 ' Fe . Fp \n",
      "\n",
      "\n",
      "\n",
      "\n",
      "\n",
      "' Fe si CS quieres VMIP2S0 buenos AQ0MP00 nabos NCMP000 , Fc en SP julio W has VMIP2S0 de SP sembrar VMN0000 los PP3MPA0 ' Fe . Fp \n",
      "\n",
      "\n",
      "\n",
      "\n",
      "\n",
      "' Fe si CS quieres VMIP2S0 el DA0MS0 huevo NCMS000 , Fc sufre VMIP3S0 la DA0FS0 gallina NCFS000 ' Fe . Fp \n",
      "\n",
      "\n",
      "\n",
      "\n",
      "\n",
      "' Fe si CS quieres VMIP2S0 la DA0FS0 col NCFS000 , Fc quieres VMIP2S0 las DA0FP0 hojas NCFP000 de SP alrededor RG ' Fe . Fp \n",
      "\n",
      "\n",
      "\n",
      "\n",
      "\n",
      "' Fe si CS quieres VMIP2S0 que CS te PP2CS00 siga VMSP3S0 el DA0MS0 can NCMS000 , Fc da VMM02S0 le PP3CSD0 pan NCMS000 ' Fe . Fp \n",
      "\n",
      "\n",
      "\n",
      "\n",
      "\n",
      "' Fe si CS quieres VMIP2S0 ser VSN0000 bien RG servido VMP00SM , Fc sirve VMM02S0 te PP2CS00 a SP ti PP2CSO0 mismo AQ0MS00 ' Fe . Fp \n",
      "\n",
      "\n",
      "\n",
      "\n",
      "\n",
      "' Fe si CS quieres VMIP2S0 vivir VMN0000 bien RG , Fc da VMM02S0 y CC ten VMM02S0 ' Fe . Fp \n",
      "\n",
      "\n",
      "\n",
      "\n",
      "\n",
      "' Fe si CS quieres VMIP2S0 vivir VMN0000 en SP paz NCFS000 , Fc oye VMM02S0 , Fc mira VMM02S0 y CC taz AQ0CS00 ' Fe . Fp \n",
      "\n",
      "\n",
      "\n",
      "\n",
      "\n",
      "' Fe si CS quieres VMIP2S0 vivir VMN0000 sano AQ0MS00 , Fc haz VMM02S0 te PP2CS00 viejo AQ0MS00 temprano RG , Fc y CC la DA0FS0 ropa NCFS000 de SP invierno NCMS000 trae VMM02S0 la PP3FSA0 en SP verano NCMS000 ' Fe . Fp \n",
      "\n",
      "\n",
      "\n",
      "\n",
      "\n",
      "' Fe si CS te PP2CS00 mandare VMSF1S0 tu DP2CSS mujer NCFS000 arrojar VMN0000 te PP2CS00 de SP un DI0MS0 tajo NCMS000 , Fc ruega VMIP3S0 a SP dios NCMS000 que PR0CN00 sea VSSP1S0 bajo AQ0MS00 ' Fe . Fp \n",
      "\n",
      "\n",
      "\n",
      "\n",
      "\n",
      "' Fe sigue VMIP3S0 la DA0FS0 hormiga NCFS000 si CS quieres VMIP2S0 vivir VMN0000 sin SP fatiga NCFS000 ' Fe . Fp \n",
      "\n",
      "\n",
      "\n",
      "\n",
      "\n",
      "' Fe ten VMM02S0 siempre RG una DI0FS0 vela NCFS000 encendida VMP00SF por SP si CS otra PI0FS00 se P00CN00 apaga VMIP3S0 . Fp \n",
      "\n",
      "\n",
      "\n",
      "\n",
      "\n"
     ]
    }
   ],
   "source": [
    " #Archivo a ser enviado\n",
    "files = {'file': open(\"si2.txt\", 'rb')}\n",
    "#Parámetros\n",
    "params = {'outf': 'tagged', 'format': 'json'}\n",
    "#Enviar petición\n",
    "url = \"http://www.corpus.unam.mx/servicio-freeling/analyze.php\"\n",
    "r = requests.post(url, files=files, params=params)\n",
    "#Convertir de formato json\n",
    "obj = r.json()\n",
    "\n",
    "#Ejemplo, obtener todos los lemas\n",
    "\n",
    "for sentence in obj:\n",
    "    for w in sentence:\n",
    "        print(w['token'], w['tag'], end=' ')\n",
    "    print('\\n')\n",
    "    print('\\n')\n",
    "    print('\\n')"
   ]
  },
  {
   "cell_type": "code",
   "execution_count": 51,
   "metadata": {
    "collapsed": true
   },
   "outputs": [],
   "source": [
    "with open('aunque2.txt', 'w') as g:\n",
    "    with open('aunque1.txt') as f:\n",
    "        for line in f:\n",
    "            line = line.strip()\n",
    "            line = line[:-1] + '.\\n'\n",
    "            g.write(line)"
   ]
  },
  {
   "cell_type": "code",
   "execution_count": 52,
   "metadata": {},
   "outputs": [
    {
     "name": "stdout",
     "output_type": "stream",
     "text": [
      ". Fp \n",
      "\n",
      "\n",
      "\n",
      "\n",
      "\n",
      ". Fp \n",
      "\n",
      "\n",
      "\n",
      "\n",
      "\n",
      "' Fe el DA0MS0 que PR0CN00 por SP mentiroso NCMS000 es VSIP3S0 tenido VMP00SM , Fc aunque CC diga VMSP3S0 verdad NCFS000 no RN es VSIP3S0 creído VMP00SM ' Fe . Fp \n",
      "\n",
      "\n",
      "\n",
      "\n",
      "\n",
      "' Fe quien PR0CS00 bien RG quiere VMIP3S0 a SP la DA0FS0 rosa NCCS000 , Fc aunque CC se P00CN00 pinche VMSP3S0 , Fc no RN se P00CN00 enoja VMIP3S0 ' Fe . Fp \n",
      "\n",
      "\n",
      "\n",
      "\n",
      "\n",
      "' Fe quien PR0CS00 en SP mentira NCFS000 es VSIP3S0 cogido VMP00SM , Fc aunque CC diga VMSP3S0 verdad NCFS000 no RN es VSIP3S0 creído VMP00SM . Fp \n",
      "\n",
      "\n",
      "\n",
      "\n",
      "\n"
     ]
    }
   ],
   "source": [
    "files = {'file': open(\"aunque2.txt\", 'rb')}\n",
    "#Parámetros\n",
    "params = {'outf': 'tagged', 'format': 'json'}\n",
    "#Enviar petición\n",
    "url = \"http://www.corpus.unam.mx/servicio-freeling/analyze.php\"\n",
    "r = requests.post(url, files=files, params=params)\n",
    "#Convertir de formato json\n",
    "obj = r.json()\n",
    "\n",
    "#Ejemplo, obtener todos los lemas\n",
    "\n",
    "for sentence in obj:\n",
    "    for w in sentence:\n",
    "        print(w['token'], w['tag'], end=' ')\n",
    "    print('\\n')\n",
    "    print('\\n')\n",
    "    print('\\n')"
   ]
  },
  {
   "cell_type": "code",
   "execution_count": 53,
   "metadata": {
    "collapsed": true
   },
   "outputs": [],
   "source": [
    "with open('como2.txt', 'w') as g:\n",
    "    with open('como1.txt') as f:\n",
    "        for line in f:\n",
    "            line = line.strip()\n",
    "            line = line[:-1] + '.\\n'\n",
    "            g.write(line)"
   ]
  },
  {
   "cell_type": "code",
   "execution_count": 54,
   "metadata": {},
   "outputs": [
    {
     "name": "stdout",
     "output_type": "stream",
     "text": [
      "' Fe a SP lo DA00S0 que PR0CN00 está VMIP3S0 de SP moda NCFS000 , Fc todo DI0MS0 el DA0MS0 mundo NCMS000 se P00CN00 acomoda VMIP3S0 ' Fe . Fp \n",
      "\n",
      "\n",
      "\n",
      "\n",
      "\n",
      "' Fe cada DI0CS0 uno PI0MS00 habla VMIP3S0 de SP la DA0FS0 feria NCFS000 como CS le PP3CSD0 va VMIP3S0 en SP ella PP3FS00 ' Fe . Fp \n",
      "\n",
      "\n",
      "\n",
      "\n",
      "\n",
      "' Fe como CS canta VMIP3S0 el DA0MS0 abad NCMS000 responde VMIP3S0 el DA0MS0 monacillo AQ0MS00 ' Fe . Fp \n",
      "\n",
      "\n",
      "\n",
      "\n",
      "\n",
      "' Fe como CS es VSIP3S0 el DA0MS0 pan NCMS000 será VSIF3S0 la DA0FS0 sopa NCFS000 ' Fe . Fp \n",
      "\n",
      "\n",
      "\n",
      "\n",
      "\n",
      "' Fe como CS se P00CN00 vive VMIP3S0 , Fc se P00CN00 muere VMIP3S0 ' Fe . Fp \n",
      "\n",
      "\n",
      "\n",
      "\n",
      "\n",
      "' Fe como CS siembres VMSP2S0 , Fc recogerás VMIF2S0 ' Fe . Fp \n",
      "\n",
      "\n",
      "\n",
      "\n",
      "\n",
      "' Fe el DA0MS0 agua NCCS000 , Fc como CS buey NCMS000 , Fc y CC el DA0MS0 vino NCMS000 , Fc como CS rey NCMS000 ' Fe . Fp \n",
      "\n",
      "\n",
      "\n",
      "\n",
      "\n",
      "' Fe juan VMIP3P0 palomo NCMS000 , Fc yo PP1CSN0 me PP1CS00 lo DA00S0 guiso NCMS000 y CC yo PP1CSN0 me PP1CS00 lo PP3MSA0 como CS ' Fe . Fp \n",
      "\n",
      "\n",
      "\n",
      "\n",
      "\n",
      "' Fe la DA0FS0 carne NCFS000 sobre SP el DA0MS0 hueso NCMS000 reluce VMIP3S0 como CS un DI0MS0 espejo NCMS000 ' Fe . Fp \n",
      "\n",
      "\n",
      "\n",
      "\n",
      "\n",
      "' Fe la DA0FS0 verdad NCFS000 , Fc como CS el DA0MS0 aceite NCMS000 , Fc quedan VMIP3P0 encima RG siempre RG ' Fe . Fp \n",
      "\n",
      "\n",
      "\n",
      "\n",
      "\n",
      "' Fe lo DA00S0 que PR0CN00 es VSIP3S0 moda NCFS000 no RN incomoda VMIP3S0 ' Fe . Fp \n",
      "\n",
      "\n",
      "\n",
      "\n",
      "\n",
      "' Fe no RN es VSIP3S0 tan RG bravo AQ0MS00 el DA0MS0 león NCMS000 como CS lo PP3MSA0 pintan VMIP3P0 ' Fe . Fp \n",
      "\n",
      "\n",
      "\n",
      "\n",
      "\n",
      "' Fe no RN hay VMIP3S0 predicador NCMS000 como CS fray NCMS000 ejemplo NCMS000 ' Fe . Fp \n",
      "\n",
      "\n",
      "\n",
      "\n",
      "\n",
      "' Fe no RN hay VMIP3S0 tesoro NCMS000 como CS la DA0FS0 salud NCFS000 ' Fe . Fp \n",
      "\n",
      "\n",
      "\n",
      "\n",
      "\n",
      "' Fe no RN todo PI0MS00 sale VMSP3S0 como CS uno PI0MS00 quiere VMIP3S0 ' Fe . Fp \n",
      "\n",
      "\n",
      "\n",
      "\n",
      "\n",
      "' Fe placer NCMS000 y CC alegría NCFS000 tan RG pronto RG ida NCFS000 como CS venida NCFS000 ' Fe . Fp \n",
      "\n",
      "\n",
      "\n",
      "\n",
      "\n",
      "' Fe quien PR0CS00 de SP lejanas AQ0FP00 tierras NCFP000 viene VMIP3S0 , Fc miente VMIP3S0 como CS quiere VMIP3S0 ' Fe . Fp \n",
      "\n",
      "\n",
      "\n",
      "\n",
      "\n",
      "' Fe rico AQ0MS00 es VSIP3S0 quien PR0CS00 nada PI0CS00 debe VMIP3S0 y CC se P00CN00 pasa VMIP3S0 como CS puede VMIP3S0 ' Fe . Fp \n",
      "\n",
      "\n",
      "\n",
      "\n",
      "\n",
      "' Fe si CS bien RG me PP1CS00 quieres VMIP2S0 , Fc trata VMM02S0 me PP1CS00 como CS sueles VMSP2S0 ' Fe . Fp \n",
      "\n",
      "\n",
      "\n",
      "\n",
      "\n",
      "' Fe sol NCMS000 de SP marzo W hiere VMIP3S0 como CS mazo NCMS000 ' Fe . Fp \n",
      "\n",
      "\n",
      "\n",
      "\n",
      "\n",
      "' Fe tan RG presto AQ0MS00 se P00CN00 va VMIP3S0 el DA0MS0 cordero NCMS000 como CS el DA0MS0 carnero NCMS000 ' Fe . Fp \n",
      "\n",
      "\n",
      "\n",
      "\n",
      "\n",
      "' Fe tanto RG peca VMIP3S0 el DA0MS0 que PR0CN00 roba VMIP3S0 la DA0FS0 huerta NCFS000 como CS el DA0MS0 queda NCFS000 a SP la DA0FS0 puerta NCFS000 . Fp \n",
      "\n",
      "\n",
      "\n",
      "\n",
      "\n"
     ]
    }
   ],
   "source": [
    "files = {'file': open(\"como2.txt\", 'rb')}\n",
    "#Parámetros\n",
    "params = {'outf': 'tagged', 'format': 'json'}\n",
    "#Enviar petición\n",
    "url = \"http://www.corpus.unam.mx/servicio-freeling/analyze.php\"\n",
    "r = requests.post(url, files=files, params=params)\n",
    "#Convertir de formato json\n",
    "obj = r.json()\n",
    "\n",
    "#Ejemplo, obtener todos los lemas\n",
    "\n",
    "for sentence in obj:\n",
    "    for w in sentence:\n",
    "        print(w['token'], w['tag'], end=' ')\n",
    "    print('\\n')\n",
    "    print('\\n')\n",
    "    print('\\n')"
   ]
  },
  {
   "cell_type": "code",
   "execution_count": 55,
   "metadata": {
    "collapsed": true
   },
   "outputs": [],
   "source": [
    "with open('donde2.txt', 'w') as g:\n",
    "    with open('donde1.txt') as f:\n",
    "        for line in f:\n",
    "            line = line.strip()\n",
    "            line = line[:-1] + '.\\n'\n",
    "            g.write(line)"
   ]
  },
  {
   "cell_type": "code",
   "execution_count": 56,
   "metadata": {},
   "outputs": [
    {
     "name": "stdout",
     "output_type": "stream",
     "text": [
      ". Fp \n",
      "\n",
      "\n",
      "\n",
      "\n",
      "\n",
      "' Fe allá RG miran VMIP3P0 ojos NCMP000 donde PR00000 quieren VMIP3P0 bien RG ' Fe . Fp \n",
      "\n",
      "\n",
      "\n",
      "\n",
      "\n",
      "' Fe cada DI0CS0 uno PI0MS00 donde PR00000 es VSIP3S0 nacido VMP00SM , Fc y CC bien RG se P00CN00 está VMIP3S0 el DA0MS0 pájaro NCMS000 en SP su DP3CSN nido NCMS000 ' Fe . Fp \n",
      "\n",
      "\n",
      "\n",
      "\n",
      "\n",
      "' Fe de SP donde PR00000 no RN hay VMIP3S0 no RN se P00CN00 puede VMIP3S0 sacar VMN0000 ' Fe . Fp \n",
      "\n",
      "\n",
      "\n",
      "\n",
      "\n",
      "' Fe donde PR00000 dije VMIS1S0 digo VMIP1S0 , Fc digo VMIP1S0 diego AQ0MS00 ' Fe . Fp \n",
      "\n",
      "\n",
      "\n",
      "\n",
      "\n",
      "' Fe donde PR00000 entra VMIP3S0 el DA0MS0 sol NCMS000 , Fc no RN entra VMIP3S0 el DA0MS0 doctor NCMS000 ' Fe . Fp \n",
      "\n",
      "\n",
      "\n",
      "\n",
      "\n",
      "' Fe donde PR00000 fueres VSSF2S0 , Fc haz VMM02S0 lo PP3MSA0 que PR0CN00 vieres VMSF2S0 ' Fe . Fp \n",
      "\n",
      "\n",
      "\n",
      "\n",
      "\n",
      "' Fe donde PR00000 hay VMIP3S0 amor NCMS000 , Fc hay VMIP3S0 dolor NCMS000 ' Fe . Fp \n",
      "\n",
      "\n",
      "\n",
      "\n",
      "\n",
      "' Fe donde PR00000 hay VMIP3S0 camino NCMS000 real AQ0CS00 , Fc no RN te PP2CS00 vayas NCFP000 por SP el DA0MS0 matorral NCMS000 ' Fe . Fp \n",
      "\n",
      "\n",
      "\n",
      "\n",
      "\n",
      "' Fe donde PR00000 hay VMIP3S0 celos NCMP000 , Fc hay VMIP3S0 amor NCMS000 ; Fx donde PR00000 hay VMIP3S0 viejos AQ0MP00 , Fc hay VMIP3S0 dolor NCMS000 ' Fe . Fp \n",
      "\n",
      "\n",
      "\n",
      "\n",
      "\n",
      "' Fe donde PR00000 hay VMIP3S0 confianza NCFS000 , Fc da VMIP3S0 asco NCMS000 ' Fe . Fp \n",
      "\n",
      "\n",
      "\n",
      "\n",
      "\n",
      "' Fe donde PR00000 hay VMIP3S0 gana VMIP3S0 , Fc hay VMIP3S0 maña NCFS000 ' Fe . Fp \n",
      "\n",
      "\n",
      "\n",
      "\n",
      "\n",
      "' Fe donde PR00000 hay VMIP3S0 patrón NCMS000 , Fc no RN manda VMIP3S0 marinero NCMS000 ' Fe . Fp \n",
      "\n",
      "\n",
      "\n",
      "\n",
      "\n",
      "' Fe donde PR00000 hay VMIP3S0 saca VMIP3S0 y CC no RN pon VMM02S0 , Fc pronto RG se P00CN00 acaba VMIP3S0 el DA0MS0 bolsón NCMS000 ' Fe . Fp \n",
      "\n",
      "\n",
      "\n",
      "\n",
      "\n",
      "' Fe donde PR00000 hubo VMIS3S0 fuego NCMS000 , Fc siempre RG quedan VMIP3P0 rescoldos NCMP000 ' Fe . Fp \n",
      "\n",
      "\n",
      "\n",
      "\n",
      "\n",
      "' Fe donde PR00000 las PP3FPA0 dan VMIP3P0 , Fc las PP3FPA0 toman VMIP3P0 ' Fe . Fp \n",
      "\n",
      "\n",
      "\n",
      "\n",
      "\n",
      "' Fe donde PR00000 manda VMIP3S0 el DA0MS0 corazón NCMS000 , Fc la DA0FS0 cabeza NCCS000 tiene VMIP3S0 poco PI0MS00 que PR0CN00 decir VMN0000 ' Fe . Fp \n",
      "\n",
      "\n",
      "\n",
      "\n",
      "\n",
      "' Fe donde PR00000 menos RG se P00CN00 piensa VMIP3S0 salta VMIP3S0 la DA0FS0 liebre NCFS000 ' Fe . Fp \n",
      "\n",
      "\n",
      "\n",
      "\n",
      "\n",
      "' Fe donde PR00000 no RN hay VMIP3S0 harina NCFS000 , Fc todo PI0MS00 es VSIP3S0 mohína AQ0FS00 ' Fe . Fp \n",
      "\n",
      "\n",
      "\n",
      "\n",
      "\n",
      "' Fe donde PR00000 no RN hay VMIP3S0 olla NCFS000 , Fc el DA0MS0 diablo NCMS000 mora AQ0FS00 ' Fe . Fp \n",
      "\n",
      "\n",
      "\n",
      "\n",
      "\n",
      "' Fe donde PR00000 no RN te PP2CS00 llaman VMIP3P0 , Fc qué PT00000 querrán VMIF3P0 ' Fe . Fp \n",
      "\n",
      "\n",
      "\n",
      "\n",
      "\n",
      "' Fe donde PR00000 una DI0FS0 cabra NCFS000 va VMIP3S0 , Fc allá RG quieren VMIP3P0 ir VMN0000 todas DI0FP0 ' Fe . Fp \n",
      "\n",
      "\n",
      "\n",
      "\n",
      "\n",
      "' Fe donde PR00000 va VMIP3S0 más RG hondo AQ0MS00 el DA0MS0 río NCMS000 , Fc hace VMIP3S0 menos RG ruido NCMS000 ' Fe . Fp \n",
      "\n",
      "\n",
      "\n",
      "\n",
      "\n",
      "' Fe en SP la DA0FS0 mesa NCFS000 de SP san AQ0CS00 francisco NCMS000 , Fc donde PR00000 comen VMIP3P0 cuatro Z comen VMIP3P0 cinco Z ' Fe . Fp \n",
      "\n",
      "\n",
      "\n",
      "\n",
      "\n",
      "' Fe nadie PI0CS00 se P00CN00 meta VMSP3S0 donde PR00000 no RN le PP3CSD0 llamen VMSP3P0 ' Fe . Fp \n",
      "\n",
      "\n",
      "\n",
      "\n",
      "\n",
      "' Fe triste AQ0CS00 está VMIP3S0 la DA0FS0 casa NCFS000 donde PR00000 la DA0FS0 gallina NCFS000 canta VMIP3S0 y CC el DA0MS0 gallo NCMS000 calla VMIP3S0 ' Fe . Fp \n",
      "\n",
      "\n",
      "\n",
      "\n",
      "\n",
      "' Fe dónde PT00000 va VMIP3S0 vicente AQ0CS00 donde PR00000 va VMIP3S0 la DA0FS0 gente NCFS000 ' Fe . Fp \n",
      "\n",
      "\n",
      "\n",
      "\n",
      "\n"
     ]
    }
   ],
   "source": [
    "files = {'file': open(\"donde2.txt\", 'rb')}\n",
    "#Parámetros\n",
    "params = {'outf': 'tagged', 'format': 'json'}\n",
    "#Enviar petición\n",
    "url = \"http://www.corpus.unam.mx/servicio-freeling/analyze.php\"\n",
    "r = requests.post(url, files=files, params=params)\n",
    "#Convertir de formato json\n",
    "obj = r.json()\n",
    "\n",
    "#Ejemplo, obtener todos los lemas\n",
    "\n",
    "for sentence in obj:\n",
    "    for w in sentence:\n",
    "        print(w['token'], w['tag'], end=' ')\n",
    "    print('\\n')\n",
    "    print('\\n')\n",
    "    print('\\n')"
   ]
  },
  {
   "cell_type": "code",
   "execution_count": null,
   "metadata": {
    "collapsed": true
   },
   "outputs": [],
   "source": []
  },
  {
   "cell_type": "code",
   "execution_count": null,
   "metadata": {
    "collapsed": true
   },
   "outputs": [],
   "source": []
  }
 ],
 "metadata": {
  "kernelspec": {
   "display_name": "Python 3",
   "language": "python",
   "name": "python3"
  },
  "language_info": {
   "codemirror_mode": {
    "name": "ipython",
    "version": 3
   },
   "file_extension": ".py",
   "mimetype": "text/x-python",
   "name": "python",
   "nbconvert_exporter": "python",
   "pygments_lexer": "ipython3",
   "version": "3.6.2"
  }
 },
 "nbformat": 4,
 "nbformat_minor": 2
}
