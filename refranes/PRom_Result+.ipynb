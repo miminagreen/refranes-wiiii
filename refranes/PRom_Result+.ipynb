{
 "cells": [
  {
   "cell_type": "code",
   "execution_count": 11,
   "metadata": {
    "collapsed": true
   },
   "outputs": [],
   "source": [
    "achivo = open (r\"PRom.txt\" , encoding = \"utf-8\")\n",
    "text= achivo.read().lower ()\n",
    "for x in (\" \\” \\“\\\"#$%&/()'¿?¡!\"):\n",
    "    text= text.replace(x, \" \")    "
   ]
  },
  {
   "cell_type": "code",
   "execution_count": 12,
   "metadata": {
    "collapsed": false
   },
   "outputs": [],
   "source": [
    "text= text [1:]"
   ]
  },
  {
   "cell_type": "code",
   "execution_count": 13,
   "metadata": {
    "collapsed": true
   },
   "outputs": [],
   "source": [
    " text_div= text.split ( \"\\n\")"
   ]
  },
  {
   "cell_type": "code",
   "execution_count": 14,
   "metadata": {
    "collapsed": false
   },
   "outputs": [
    {
     "data": {
      "text/plain": [
       "['a 3 de abril  el cuclillo ha de venir;  y si no viniere el 8,  o es preso o es morto',\n",
       " 'a abril con sus chaparrones, sigue mayo con sus flores',\n",
       " 'a concejo de mañana y agua de tarde, no hay que temblarle',\n",
       " 'a helada de abril, hambre ha de seguir',\n",
       " 'a invierno malhechor, primavera peor',\n",
       " 'a la primera agua de octubre, siembra y cubre',\n",
       " 'a las tres escarchas, la lluvia no falta',\n",
       " 'a los tres días de abril, el cuclillo ha de haber vuelto; si no ha llegado a los ocho, o lo cogieron o ha muerto',\n",
       " 'a marzo alabo, si no vuelve el rabo',\n",
       " 'a nube madrugadora, piedra traidora',\n",
       " 'a quien quieras mal mándalo a écija a veranear',\n",
       " 'a quince de marzo, da el sol en la umbría y canta la totovía',\n",
       " 'a turbonada de oviedo, no tengas miedo',\n",
       " 'abejas revueltas, tempestad a vueltas',\n",
       " 'abriga la nieve al trigo, como la madre a su hijo',\n",
       " 'abril abrilero, siempre es traicionero',\n",
       " 'abril empezado, invierno acabado',\n",
       " 'abril frío y mojado hinche el granero y hasta el ganado',\n",
       " 'abril fuera bueno si el gallego no anduviera',\n",
       " 'abril hace las puertas cerrar y abrir, y a los cochinos gruñir']"
      ]
     },
     "execution_count": 14,
     "metadata": {},
     "output_type": "execute_result"
    }
   ],
   "source": [
    "text_div [:20]"
   ]
  },
  {
   "cell_type": "code",
   "execution_count": 15,
   "metadata": {
    "collapsed": false
   },
   "outputs": [
    {
     "data": {
      "text/plain": [
       "1100"
      ]
     },
     "execution_count": 15,
     "metadata": {},
     "output_type": "execute_result"
    }
   ],
   "source": [
    "len( text_div)"
   ]
  },
  {
   "cell_type": "code",
   "execution_count": 16,
   "metadata": {
    "collapsed": true
   },
   "outputs": [],
   "source": [
    "matching = [s for s in text_div if  \" si \" in s]"
   ]
  },
  {
   "cell_type": "code",
   "execution_count": 17,
   "metadata": {
    "collapsed": false
   },
   "outputs": [
    {
     "data": {
      "text/plain": [
       "['a 3 de abril  el cuclillo ha de venir;  y si no viniere el 8,  o es preso o es morto',\n",
       " 'a los tres días de abril, el cuclillo ha de haber vuelto; si no ha llegado a los ocho, o lo cogieron o ha muerto',\n",
       " 'a marzo alabo, si no vuelve el rabo',\n",
       " 'abril fuera bueno si el gallego no anduviera',\n",
       " 'abril, ruin, si no es el principio, es el fin',\n",
       " 'agua de arco no hinche charco; mas si lo hinche, corre barranco',\n",
       " 'araña por la mañana, señal mala; pero si por la tarde la encuentras, señal buena',\n",
       " 'arco de vieja  no llena charco  y, si lo llena,  corre barranco',\n",
       " 'arco iris por levante, cuando lo veas, no te espante; mas si lo ves por poniente, coge los bueyes y vente',\n",
       " 'año de nieves, año de bienes, en tu casa si los tienes',\n",
       " 'bebí agua porque no hubo agua, que si agua hubiera, vino bebiera',\n",
       " 'cerco lleva la luna y estrellas dentro. si a los tres días no ha llovido es aire cierto',\n",
       " 'cielo aborregado, a los cuarenta días suelo mojado; y si no ha llovido a los noventa, nueva cuenta',\n",
       " 'con cerco el sol, moja al pastor; con cerco de luna, le enjuga; si en los tres días siguientes no cae la lluvia',\n",
       " 'cuando el fu lleva la manta, si no llueve, escampa',\n",
       " 'cuando el cuco llega, entonces es primavera; si el cuco aún no llegó, es que la primavera no comenzó',\n",
       " 'cuando en castilla llueve, cataluña vende; y si en castilla no lloviera, cataluña no vendiera',\n",
       " 'cuando la candelaria plora, el invierno ya está fora, y si no plora, ni dentro ni fora',\n",
       " 'cuando lleva cerco la luna, si no llueve por aquí, lloverá por cataluña',\n",
       " 'de daimiel,  ni hombre ni mujer,  ni aire si puede ser',\n",
       " 'el día de la candelaria, está el invierno fuera; pero si no ha nevado y quiere nevar, invierno por comenzar',\n",
       " 'el día de la candelora, que llueva que no llueva, invierno fora; y si llueve y hace viento, invierno dentro',\n",
       " 'el viento del norte, si no muere al tercer día, dura una semana',\n",
       " 'en san blas la cigüeña verás, si no la vieres ano de nieves ',\n",
       " 'en el mes de abril toda el agua cabe en un barril; pero si el barril está desfondado, todo el campo está anegado',\n",
       " 'en febrero busca la sombra el perro, y si el aire viene de morón, deja la sombra y se va al sol',\n",
       " 'en mayo, no dejes el sayo, por si en vez de derechero viene de soslayo',\n",
       " 'enero es el mes primero; si viene frío, es buen caballero',\n",
       " 'escampada de viernes nunca a domingo llegó, y si llegó no pasó, y si pasó aseguró',\n",
       " 'febrerillo, el loco: un día peor que otro  si malo es un día, peor es el otro',\n",
       " 'hasta el cuarenta de mayo  no te quites el sayo;  y si el tiempo es importuno,  hasta el cuarenta de junio',\n",
       " 'la de navidad al sol y la de flores al fuego, si quieres año derechero',\n",
       " 'la neblina, del agua es madrina; pero si es con seca, más seca',\n",
       " 'las aguas de abril todas caben en un barril; pero si el barril no tiene culo, se anegará medio mundo',\n",
       " 'lleva cerco la luna, cerca el sol. si a los tres días no ha llovido, se toque los cojones el pastor',\n",
       " 'marzo y abril, si no la pegan al entrar, la pegan al salir',\n",
       " 'mayo frío, cría trigo; pero si es muy frío, ni paja ni trigo',\n",
       " 'niebla en el guadiana, si no llueve hoy, lloverá mañana',\n",
       " 'nieve de febrero, buena si es a primeros',\n",
       " 'no hay abril que no deje de ser vil  y si no es a la entrada es al salir,  y si no en el medio, por no mentir.',\n",
       " 'por san blas, la cigüeña verás; y si no la vieres, año de nieves',\n",
       " 'por san martino, el invierno viene de camino; si le dicen detente, llega por san clemente; y aunque venga retrasado, por san andrés ya ha llegado',\n",
       " 'por la candelera, está el invierno fuera; pero si nieva por san blas, treinta días más',\n",
       " 'si abril fuere frío, habrá pan y vino; y si fuere frío y mojado, seguro está el año',\n",
       " 'si alto vuela la golondrina, buen tiempo se avecina; pero si van por tierra, luego, luego, se anega',\n",
       " 'si el agua vien antes del viento, arriza vela sin perder momento; pero si el viento vien primero, no hay novedad, marinero',\n",
       " 'si en once de marzo rocío vieres, espera buen año; mejor si lloviere',\n",
       " 'si la candelaria llora,  es que el invierno ya va fora;  y si la candelaria ríe,  es que está de por venir',\n",
       " 'si la candelaria plora, el invierno ya está fora, si plora ni deja de plorar, el invierno está por pasar',\n",
       " 'si la candelaria plora, invierno fora; y si no plora, ni dentro ni fora',\n",
       " 'si la candeloria plora, está el invierno fora; si ríe, está por venir',\n",
       " 'si por la candelaria plora,  ya está el invierno fora;  y, si no plora,  ni dentro ni fora',\n",
       " 'ten el invierno por pasado, si ves a febrero empapado',\n",
       " 'vaca esoyá, a los tres días mojá;  si se ve en jueves,  a los tres días llueve.  si es castiza,  desde el primer día atiza',\n",
       " 'viento del sur, ponte las botas si amas la salud']"
      ]
     },
     "execution_count": 17,
     "metadata": {},
     "output_type": "execute_result"
    }
   ],
   "source": [
    "matching"
   ]
  },
  {
   "cell_type": "code",
   "execution_count": 18,
   "metadata": {
    "collapsed": false
   },
   "outputs": [
    {
     "data": {
      "text/plain": [
       "55"
      ]
     },
     "execution_count": 18,
     "metadata": {},
     "output_type": "execute_result"
    }
   ],
   "source": [
    "len(matching)"
   ]
  },
  {
   "cell_type": "code",
   "execution_count": 19,
   "metadata": {
    "collapsed": true
   },
   "outputs": [],
   "source": [
    "matching2 = [s for s in text_div if  \" aunque \" in s]"
   ]
  },
  {
   "cell_type": "code",
   "execution_count": 20,
   "metadata": {
    "collapsed": false
   },
   "outputs": [
    {
     "data": {
      "text/plain": [
       "['cuando el cid se pone el gorro y san pascual la montera, llueve a los tres días, aunque el demonio no quiera',\n",
       " 'cuando parapanda se pone la montera, llueve aunque dios no quiera',\n",
       " 'jabalcuz con montera, llueve aunque dios no quiera',\n",
       " 'por san martino, el invierno viene de camino; si le dicen detente, llega por san clemente; y aunque venga retrasado, por san andrés ya ha llegado',\n",
       " 'si san ginés se pone montera, ha de llover aunque no quiera',\n",
       " 'si el latín tiene montera,  lloverá aunque dios no quiera ',\n",
       " 'venga febrero lluvioso, aunque salga furioso']"
      ]
     },
     "execution_count": 20,
     "metadata": {},
     "output_type": "execute_result"
    }
   ],
   "source": [
    "matching2"
   ]
  },
  {
   "cell_type": "code",
   "execution_count": 21,
   "metadata": {
    "collapsed": false
   },
   "outputs": [
    {
     "data": {
      "text/plain": [
       "7"
      ]
     },
     "execution_count": 21,
     "metadata": {},
     "output_type": "execute_result"
    }
   ],
   "source": [
    "len (matching2)"
   ]
  },
  {
   "cell_type": "code",
   "execution_count": 22,
   "metadata": {
    "collapsed": true
   },
   "outputs": [],
   "source": [
    "matching3 = [s for s in text_div if  \"con tal de que\" in s]"
   ]
  },
  {
   "cell_type": "code",
   "execution_count": 23,
   "metadata": {
    "collapsed": false
   },
   "outputs": [
    {
     "data": {
      "text/plain": [
       "[]"
      ]
     },
     "execution_count": 23,
     "metadata": {},
     "output_type": "execute_result"
    }
   ],
   "source": [
    "matching3"
   ]
  },
  {
   "cell_type": "code",
   "execution_count": 24,
   "metadata": {
    "collapsed": true
   },
   "outputs": [],
   "source": [
    "matching4 = [s for s in text_div if  \"con tal que\" in s]"
   ]
  },
  {
   "cell_type": "code",
   "execution_count": 25,
   "metadata": {
    "collapsed": false
   },
   "outputs": [
    {
     "data": {
      "text/plain": [
       "[]"
      ]
     },
     "execution_count": 25,
     "metadata": {},
     "output_type": "execute_result"
    }
   ],
   "source": [
    "matching4"
   ]
  },
  {
   "cell_type": "code",
   "execution_count": 26,
   "metadata": {
    "collapsed": true
   },
   "outputs": [],
   "source": [
    "matching5 = [s for s in text_div if  \"a menos de que\" in s]"
   ]
  },
  {
   "cell_type": "code",
   "execution_count": 27,
   "metadata": {
    "collapsed": false
   },
   "outputs": [
    {
     "data": {
      "text/plain": [
       "[]"
      ]
     },
     "execution_count": 27,
     "metadata": {},
     "output_type": "execute_result"
    }
   ],
   "source": [
    "matching5"
   ]
  },
  {
   "cell_type": "code",
   "execution_count": 28,
   "metadata": {
    "collapsed": true
   },
   "outputs": [],
   "source": [
    "matching6 = [s for s in text_div if  \"a menos que\" in s]"
   ]
  },
  {
   "cell_type": "code",
   "execution_count": 29,
   "metadata": {
    "collapsed": false
   },
   "outputs": [
    {
     "data": {
      "text/plain": [
       "[]"
      ]
     },
     "execution_count": 29,
     "metadata": {},
     "output_type": "execute_result"
    }
   ],
   "source": [
    "matching6"
   ]
  },
  {
   "cell_type": "code",
   "execution_count": 30,
   "metadata": {
    "collapsed": false
   },
   "outputs": [
    {
     "data": {
      "text/plain": [
       "[]"
      ]
     },
     "execution_count": 30,
     "metadata": {},
     "output_type": "execute_result"
    }
   ],
   "source": [
    "matching7 = [s for s in text_div if  \" yo que \" in s]\n",
    "matching7"
   ]
  },
  {
   "cell_type": "code",
   "execution_count": 31,
   "metadata": {
    "collapsed": false
   },
   "outputs": [
    {
     "data": {
      "text/plain": [
       "['a quince de marzo, da el sol en la umbría y canta la totovía',\n",
       " 'agosto está en el secreto de doce meses completos',\n",
       " 'agua de enero,  cada gota vale un dinero;  en marzo  toda en un paellazo;  en abril  ruixadetes mil;  en mayo  más que en todo el año;  en junio  más que en ninguno',\n",
       " 'agua en agosto, agua el mosto',\n",
       " 'agua en junio, infortunio',\n",
       " 'agua en marzo,  peor que mancha en paño',\n",
       " 'agua que en agosto viene, la mitad va al mosto y la otra mitad al aceite',\n",
       " 'aguas en enero, mal por villalgordo y peor por martinsonero',\n",
       " 'aire de monzón, agua en aragón',\n",
       " 'aire de toledo, agua en el suelo',\n",
       " 'aire morellano,  el agua en la mano',\n",
       " 'aire serrano, agua en la mano',\n",
       " 'aire solano, agua en la mano; en el invierno, no en el verano',\n",
       " 'aire solano, en verano seca las fuentes y en verano tira los puentes ',\n",
       " 'algas derechas, levante en puerto',\n",
       " 'arbolitos que estáis en flor, libráos de los bruscos de la encarnación',\n",
       " 'arco en la bellesa, agua cierta',\n",
       " 'arco en la tarde, no viene en balde',\n",
       " 'arco iris, o pronto llueve, o aclarará en breve',\n",
       " 'arroyos en mes de mayo, sardina pa todo  l año',\n",
       " 'año de nieves, año de bienes, en tu casa si los tienes',\n",
       " 'año en que hasta el nueve de enero nieva, mucho pan espera',\n",
       " 'barra en el guadiana, agua a la semana',\n",
       " 'bochorno, agua en torno',\n",
       " 'boira en turbón, agua en aragón',\n",
       " 'boira en la mañana, tarde muy galana',\n",
       " 'boiras en creciente, buen tiempo siguiente',\n",
       " 'boiras en la espluga de toledo, sígueles agua presto',\n",
       " 'borias en menguante, mal tiempo en adelante',\n",
       " 'borregos en el cielo, agua en el suelo',\n",
       " 'cabañuelas en febrero, en lluvias junio certero',\n",
       " 'castellano, malo en invierno y peor en verano',\n",
       " 'cerco de luna, agua en la laguna',\n",
       " 'cerco la luna y estrellas en medio, agua sin remedio',\n",
       " 'cielo aguado, hierba en prado',\n",
       " 'cielo emborregado, agua en tierra',\n",
       " 'cielo escamudo, vendaval en puño',\n",
       " 'cielo galano, el agua en la mano',\n",
       " 'como llueva en abril y mayo, más que no llueva en todo el año',\n",
       " 'con cerco el sol, moja al pastor; con cerco de luna, le enjuga; si en los tres días siguientes no cae la lluvia',\n",
       " 'con cierzo, llueve de cierto; en verano, mas no en invierno',\n",
       " 'corona rasa,  el agua en casa',\n",
       " 'cuando beringes tiene capa, no dejes la tuya en casa',\n",
       " 'cuando serantes veáis nublao, probable lluvia en bilbao',\n",
       " 'cuando el grajo vuela bajo, hace un frío del carajo, y cuando se posa en los balcones hace un frío de c...',\n",
       " 'cuando el sol se pone cubierto en jueves, a los tres días llueve',\n",
       " 'cuando en castilla llueve, cataluña vende; y si en castilla no lloviera, cataluña no vendiera',\n",
       " 'cuando en diciembre mucho llueve, buen año el que viene',\n",
       " 'cuando en marzo hay nieblas, mayo nieva o hiela',\n",
       " 'cuando la villuerca se toca de niebla, agua en tierra',\n",
       " 'cuando la perdiz canta en el  prado verde , es la mejor  señá  para cuando llueve',\n",
       " 'cuando la sierra está tocada, en la mano tiene el agua',\n",
       " 'cuando llueva mucho en agosto,  no gastes dinero en mosto',\n",
       " 'cuando llueve en agosto, llueve miel y mosto',\n",
       " 'cuando llueve en febrero,  no hay año fullero',\n",
       " 'cuando llueve y hace sol,  canta el gallo en el mesón;  cuando llueve y hace frío,  canta el gallo en el lejío',\n",
       " 'cuando por los santos oigas atronar, vende los bueyes y gástalos en pan',\n",
       " 'cuando veas la sierra de santa maría con capa, no dejes la tuya en casa',\n",
       " 'cuando veas las nubes en la montaña de sasa, coge el capotón y vente a casa',\n",
       " 'cuantas nieblas en marzo, tantas heladas en mayo',\n",
       " 'el invierno en burgos y el verano en sevilla',\n",
       " 'el mejor tizón  en mayo lo pon',\n",
       " 'el mes de enero  es la llave del granero;  lluvia de febrero  cada gota vale un dinero;  en marzo  cada gota quita un cuarto;  en mayo  más que en todo el año',\n",
       " 'el pan y el niño en agosto tienen frío',\n",
       " 'el sol en la era y agua en el nabal',\n",
       " 'en diciembre y enero la borrina, y en febrero y marzo nieve hasta la petrina',\n",
       " 'en lumías pega el sol en las umbrías',\n",
       " 'en abril quemó la vieja el mandil y en mayo quemó la vieja el gastayo',\n",
       " 'en día ventoso, en ningún sitio hay reposo',\n",
       " 'en el mes de abril toda el agua cabe en un barril; pero si el barril está desfondado, todo el campo está anegado',\n",
       " 'en enero se guiela el agua en el puchero y la vieja en el cuquero',\n",
       " 'en febrero, busca la sombra el perro; y en marzo, el perro y el amo',\n",
       " 'en invierno y en verano, el fuego es agasajado',\n",
       " 'en invierno y en verano, siempre con la capa en la mano',\n",
       " 'en invierno, de cara; y en verano, de espalda',\n",
       " 'en llorar y en reír se le pasa el tiempo a abril',\n",
       " 'en mayo, no dejes el sayo, por si en vez de derechero viene de soslayo',\n",
       " 'en seco o en mojado, por san lucas ten sembrado',\n",
       " 'en tiempo de verano, no te dejes la capa en casa de tu amo',\n",
       " 'enero caliente, -er diablo trae en er bientre',\n",
       " 'enero, hiela el caldo en el puchero',\n",
       " 'escarchas en marzo, aguas en mayo',\n",
       " 'febrero engañó a su madre en el lavadero: la sacó al sol, y luego la apedreó',\n",
       " 'febrero y las mujeres, tienen en un día diez pareceres',\n",
       " 'fraile callejero, mujer que habla latín y golondrina en febrero, mal agüero',\n",
       " 'golondrinas en bajo vuelo, esperan lluvia del cielo',\n",
       " 'la lluvia de san fermín, en unas horas da fin',\n",
       " 'la masa y el niño en agosto tienen frío',\n",
       " 'la niebla en la montaña, antes a la noche que a la mañana',\n",
       " 'la oración de juan portal, que pedía sol en su era y agua en su nabal',\n",
       " 'la primavera, en sevilla, y el verano, en granada',\n",
       " 'las aguas de abril todas caben en un barril; pero si el barril no tiene culo, se anegará medio mundo',\n",
       " 'llueva o no llueva, trigo en orihuela',\n",
       " 'lluvia en san lorenzo, llueve a buen tiempo',\n",
       " 'lluvias en san juan quita vino y no da pan',\n",
       " 'lodos en mayo,  espigas en agosto',\n",
       " 'luna acostada, marinero en pie',\n",
       " 'luna blanca, tiempo en calma; con cara roja, viento sopla; cara amarilla, agua en la frente o en la colilla',\n",
       " 'luna con cerco, labajo  lleno; estrella en medio, labajo  seco',\n",
       " 'luna en pie, marinero acostado; luna echada, marinero en pie',\n",
       " 'luna en pie, marinero tendido; luna tendida, marinero en pie',\n",
       " 'mar de fondo en esta costa, malo para la langosta',\n",
       " 'mar rocha, agua en clocha',\n",
       " 'mientras en guara haya nieve  como cola de sardina,  no está segura la viña',\n",
       " 'más vale agua entre abril y mayo que toda la plata que hay en el ochavo',\n",
       " 'neblina en el valle, pescador a la calle; neblinas sobre la montaña, pescador a la cabaña',\n",
       " 'ni creas en invierno claro, ni en verano nublado',\n",
       " 'ni en invierno ni en verano dejes la cobija en el tramo',\n",
       " 'ni en invierno sin capa, ni en verano sin calabaza',\n",
       " 'ni mujer ni caracol  cuando en julio abrasa el sol',\n",
       " 'niebla de marzo, agua en la mano',\n",
       " 'niebla en peluquillo,  agua a porrillo',\n",
       " 'niebla en el guadiana, si no llueve hoy, lloverá mañana',\n",
       " 'niebla en el valle, gente a la calle',\n",
       " 'niebla en la peña, agua en la tierra',\n",
       " 'niebla en los cerros, señal de aguaceros',\n",
       " 'niebla en los puntales, agua a mares',\n",
       " 'niebla en noviembre, trae el sur en el vientre',\n",
       " 'niebla en sierra, agua en tierra',\n",
       " 'nieblas en cebollera, segura la tormenta',\n",
       " 'nieblas en alto,  aguas en bajo;  nieblas bajas,  nubes altas;  nieblas en hondo,  agua en abondo',\n",
       " 'nieblas en alto, lluvias en bajo',\n",
       " 'nieblas en la sierra, coge las alforjas y vete al campo',\n",
       " 'nieblas en marzo, heladas en mayo',\n",
       " 'nieve en turbón, ponte el capotón',\n",
       " 'nieve en la sierra, abundancia en la vega',\n",
       " 'no hay abril que no deje de ser vil  y si no es a la entrada es al salir,  y si no en el medio, por no mentir.',\n",
       " 'no te fíes en cielo estrellado, ni en gato que miaña',\n",
       " 'nubarrones en tierra, bonanza en la mar',\n",
       " 'nube blanca en castelfrío, crecida en el río',\n",
       " 'pa todos santos los montes blancos; para san andrés la nieve en los pies e pa santa catalina, la nieve en la esquina',\n",
       " 'pajarillos en banda, las tardes son de agua',\n",
       " 'pascuas nevadas, en primavera galas',\n",
       " 'por san andrés, hielo en los pies',\n",
       " 'por san bartolomé, el que no haya acabado la era agua en él',\n",
       " 'por san eugenio, pon las castañas al fuego, la leña en el hogar y las ovejas a encerrar',\n",
       " 'por san marcos, agua en los charcos',\n",
       " 'por san nicolao la nieve en lo llano',\n",
       " 'por todos santos, hielo en lo alto; por san andrés, hielo en los pies',\n",
       " 'por todos los santos, agua en estella, nieve en los altos',\n",
       " 'por calor que haga, no dejes tu capa en casa',\n",
       " 'por los santos;  la nieve en los cantos;  por san andrés,  la nieve en los pies',\n",
       " 'por sol que en diciembre haga, no sueltes la capa',\n",
       " 'pájaros en bandadas, nieve a capazadas',\n",
       " 'que llueva, que no llueva, pan se coge en orihuela; en la de alicante, mas no en la de la sierra',\n",
       " 'quien en marzo ve nevar, piensa que no ha parar',\n",
       " 'quien no se ha visto  ni en puerto ni en mar,  no sabe qué es rezar',\n",
       " 'quien toma el sol en navidad, fuego de pascua buscará',\n",
       " 'relámpagos en monzón,  agua en aragón',\n",
       " 'rubias en el puerto, agua en el huerto',\n",
       " 'san antón,  viejo y meón,  mete las niñas  en un rincón;  san sebastián,  mocito y galán,  saca las niñas a pasear',\n",
       " 'san telmo en la arboladura  el buen tiempo poco dura',\n",
       " 'si a las doce de la noche canta el gallo, en invierno nieva, y hiela en verano',\n",
       " 'si canta el rano en febrero,  apontona tu granero',\n",
       " 'si corre viento norte, embózate en el capote',\n",
       " 'si el murgañón tapa la casa, coge en seguida la capa',\n",
       " 'si en agosto frío en rostro, mal judiar, y poco mosto',\n",
       " 'si en enero oyes tronar, ensancha el granero y agranda el pajar',\n",
       " 'si en febrero la cigüeña para, la nieve será rara',\n",
       " 'si en julio llueve, en invierno, nieve',\n",
       " 'si en la florada llueve o ventea, no granjean cosecha las colmenas',\n",
       " 'si en noviembre oyes que truena, la cosecha será buena',\n",
       " 'si en once de marzo rocío vieres, espera buen año; mejor si lloviere',\n",
       " 'si hay faja en el guadiana, agua habrá por la mañana',\n",
       " 'si hiela en san blas, treinta más',\n",
       " 'si hiela en enero, llueve en febrero',\n",
       " 'si la boira se arrastra entre diez y once por las faldas del turbón, agua en aragón',\n",
       " 'si la sardina está por aguas, el tiempo se aguanta en calma',\n",
       " 'si la sierra del arquillo tiene capa, no dejes la tuya en casa',\n",
       " 'si nieva en madrid, a los dos días aquí',\n",
       " 'si quieres casa que no se te llueva, hazla en muera',\n",
       " 'si truena en enero,  apontona el granero',\n",
       " 'si truena en enero, echa las trillas al gallinero',\n",
       " 'si vieres la niebla en los cerros de marina, gañanes a la cocina',\n",
       " 'sol cubierto en jueves, a los tres días llueve',\n",
       " 'sol en invierno al ponerse arrebolado, tiempo helado',\n",
       " 'sol en la ciudad y agua en el nabal',\n",
       " 'sol en la era; en el nabal, llueva',\n",
       " 'sol limpio y hermoso, el tiempo en reposo',\n",
       " 'sol poniente en cielo grana, buen día mañana',\n",
       " 'sol tapado en jueves, antes del domingo llueve',\n",
       " 'solano, ni en invierno ni en verano',\n",
       " 'tantas veces como canta en enero el gri, tantas heladas en abril',\n",
       " 'tanto frío hace en enero, que se hiela hasta el puchero',\n",
       " 'terral en españa, levante en campaña',\n",
       " 'todas las aguas de abril caben en un candil',\n",
       " 'todos los santos anuncian con verdad lo que va a suceder en navidad',\n",
       " 'tormenta en la mar, cera en el altar; pasaron las tormentas, y se acabó la cera',\n",
       " 'tormentas en marzo, la cebada con un mazo',\n",
       " 'torrejones por monzón, agua en aragón',\n",
       " 'tortosano, ni en invierno ni en verano',\n",
       " 'tramontana en la albufera, ni pesquera ni cacera',\n",
       " 'tras el aire templado, rocío en el prado',\n",
       " 'tronada en monzón, cierzo en aragón',\n",
       " 'truena en enero, se ensancha la era y se agranda el granero',\n",
       " 'truenos en enero, cuelga el ajo en el humero',\n",
       " 'truenos en la marina, agua contina',\n",
       " 'truenos sordos, agua en charcos',\n",
       " 'una marica sola en primavera, pícaro tiempo lleva',\n",
       " 'vaca esoyá, a los tres días mojá;  si se ve en jueves,  a los tres días llueve.  si es castiza,  desde el primer día atiza',\n",
       " 'ventana en cataluña, agua en aragón segura',\n",
       " 'viento del nordés, botas d’agua en los pies',\n",
       " 'viento del sur en invierno, demonios del infierno',\n",
       " 'viento solano, agua en la mano',\n",
       " 'viento solano, agua en la mano; en invierno, que no en verano',\n",
       " 'viento solano, malo en invierno, peor en verano',\n",
       " 'vientos fijos del sudoeste acaban en nordeste',\n",
       " 'ya que en invierno ha de helar, ni al fin ni al empezar',\n",
       " ' no se apaga la vela en la candelaria  buen año aguarda',\n",
       " ' relampaguea por los picotes  el agua en los bigotes']"
      ]
     },
     "execution_count": 31,
     "metadata": {},
     "output_type": "execute_result"
    }
   ],
   "source": [
    "matching8 = [s for s in text_div if  \" en \" in s]\n",
    "matching8"
   ]
  },
  {
   "cell_type": "code",
   "execution_count": 32,
   "metadata": {
    "collapsed": false
   },
   "outputs": [
    {
     "data": {
      "text/plain": [
       "['a los tres días de abril, el cuclillo ha de haber vuelto; si no ha llegado a los ocho, o lo cogieron o ha muerto',\n",
       " 'a quien quieras mal mándalo a écija a veranear',\n",
       " 'abejas revueltas, tempestad a vueltas',\n",
       " 'abriga la nieve al trigo, como la madre a su hijo',\n",
       " 'abril hace las puertas cerrar y abrir, y a los cochinos gruñir',\n",
       " 'abriles y hombres viles, desde que el mundo fué mundo los hubo a miles',\n",
       " 'agua a la entrada de la luna, o mucha o ninguna',\n",
       " 'aire de puerto antes de san miguel, el labrador torna a mirar al ciel',\n",
       " 'aire, airecito que de ávila vienes, a catorce reales me hueles',\n",
       " 'al oír tronar, salen los sapos a bailar',\n",
       " 'arco a la matina, apareja la gabardina',\n",
       " 'arco a la sera, buena noche espera',\n",
       " 'arco de san juan a la tarde, prevén la capa para el aire; arco de san juan por la mañana, prevén la capa para el agua',\n",
       " 'arrebolada por la mañana, a la tarde agua',\n",
       " 'arreboles a la mañana, a la noche son agua',\n",
       " 'arreboles a la oración, mañana de sol',\n",
       " 'arreboles a la oración, por la mañana son sol',\n",
       " 'arreboles a poniente, coge los bueyes y vente',\n",
       " 'arreboles a todos vientos, tiempo revuelto',\n",
       " 'arreboles al ocaso, a la mañana el cielo raso -o sol claro-',\n",
       " 'arreboles de aragón, a la noche con agua son',\n",
       " 'arreboles de castilla,  viejas a la cocina',\n",
       " 'arreboles de la mañana,  a la noche son con agua',\n",
       " 'arreboles de la noche, a la mañana son soles',\n",
       " 'arreboles de tarde, a la mañana aire',\n",
       " 'año zagüeñil,  coge la capa y vete a dormir',\n",
       " 'barra en el guadiana, agua a la semana',\n",
       " 'cerco de luna estrellado, a los tres días pastor mojado',\n",
       " 'cerco lleva la luna y estrellas dentro. si a los tres días no ha llovido es aire cierto',\n",
       " 'cielo a carneros, agua a calderos',\n",
       " 'cielo a montanicos, agua a capacicos',\n",
       " 'cielo aborregaoemborregao, a los trescuatro días mojao',\n",
       " 'cielo aborregado, a los cuarenta días suelo mojado; y si no ha llovido a los noventa, nueva cuenta',\n",
       " 'cielo encabricao, a los tres días mojao',\n",
       " 'cuando el cid se pone el gorro y san pascual la montera, llueve a los tres días, aunque el demonio no quiera',\n",
       " 'cuando montegil se pone la capilla, deja los bueyes y vete a la villa',\n",
       " 'cuando canta el cuco, de día mojado y a la noche enjuto',\n",
       " 'cuando el cielo amanece empedráo, a los tres días mojao',\n",
       " 'cuando el sol se pone cubierto en jueves, a los tres días llueve',\n",
       " 'cuando las grullas van a la peña,  coge el carro y vete a por leña;  y cuando las grullas van al mar,  coge el arado y vete a arar',\n",
       " 'cuando las grullas van para castilla,  coge el hacha y haz astillas;  y cuando van para el mar,  coge el arao y vete a arar',\n",
       " 'cuando llueve y hace sol , el diablo casa a su hija',\n",
       " 'cuando llueve y hace sol, deja el perro a su pastor',\n",
       " 'cuando mayo va a mediar, debe el invierno acabar',\n",
       " 'cuando veas las nubes en la montaña de sasa, coge el capotón y vente a casa',\n",
       " 'cuando vieres el arco hacia ledesma, desuñe los bueyes y vete a la aldea, o a la taberna',\n",
       " 'cuando l sol sale por burgos y s esconde por oviedo, pobre del hijo de madre que a jornal gane dinero',\n",
       " 'de medardo a bernabé, la lluvia debe volver',\n",
       " 'de todos los santos a navidad, o bien llover o bien helar',\n",
       " 'de virgen a virgen, los sesos se derriten',\n",
       " 'después de san antón, ninguna niebla llega a las dos',\n",
       " 'dijo a la lluvia el viento:  cuando tú vienes, yo me ausento ',\n",
       " 'día de agua, a la taberna o la fragua',\n",
       " 'el buen tiempo a fin de mayo asegura un buen año',\n",
       " 'el cielo a corralillos,  el agua a cantarillos',\n",
       " 'el jueves sol cubierto, a los tres días revuelto',\n",
       " 'el sol de invierno y las nubes de verano engañan a los sandios',\n",
       " 'el sol que sale a bon matín, y la mujer que parla latín, y el perlado que ama lo buen vin, nunca habrán buen fin',\n",
       " 'en abril no hay granizada a que no siga la helada',\n",
       " 'en abril, la helada sigue a la granizada',\n",
       " 'en febrero busca la sombra el perro y a veces el  socuello ',\n",
       " 'en febrero, un día malo, y otro, a ratos',\n",
       " 'en llorar y en reír se le pasa el tiempo a abril',\n",
       " 'enero helado, febrero trasnochado, marzo airoso, abril lluvioso sacan a mayo florido y hermoso',\n",
       " 'escampada de viernes nunca a domingo llegó, y si llegó no pasó, y si pasó aseguró',\n",
       " 'escarcha peluda, a los tres días suda',\n",
       " 'febrerillo el loco con sus días veintiocho, echa a su madre aguas abajo y la busca aguas arriba',\n",
       " 'febrerillo loco  no pasó de veintiocho;  sacó a su padre al sol  y allí lo apaleó',\n",
       " 'febrero el loco  sacó a su hermano al sol  y apaleólo',\n",
       " 'febrero engañó a su madre en el lavadero: la sacó al sol, y luego la apedreó',\n",
       " 'febrero revuelto  y abril lluvioso  hacen a mayo florido y hermoso',\n",
       " 'frío de abril, a las peñas vaya a herir; que a las viñas suele ir',\n",
       " 'guarda pan para mayo y leña para abril, que no sabes el tiempo que va a venir',\n",
       " 'hay que temer más a una mala vecina que a la nieve marcina',\n",
       " 'hielo sobre barro, agua a jarros',\n",
       " 'junta de moscas al sol, o de mosquitos al oscurecer, avisan que va a llover',\n",
       " 'la niebla en la montaña, antes a la noche que a la mañana',\n",
       " 'la ribera nubla,  la sierra rasa,  coge tu capa  y márchate a casa',\n",
       " 'lleva cerco la luna, cerca el sol. si a los tres días no ha llovido, se toque los cojones el pastor',\n",
       " 'lluvia en san lorenzo, llueve a buen tiempo',\n",
       " 'los truenos y la mar, enseñan a rezar',\n",
       " 'luna que mucho reluce, un tronco más a la lumbre',\n",
       " 'marzo airoso y abril aguanoso, sacan a mayo florido y hermoso',\n",
       " 'marzo loco, abril lluvioso, sacan a mayo florido y hermoso',\n",
       " 'marzo ventoso, abril aguanoso, sacan a mayo florido y hermoso',\n",
       " 'montaña cargada, nordeste a la barba',\n",
       " 'neblina en el valle, pescador a la calle; neblinas sobre la montaña, pescador a la cabaña',\n",
       " 'niebla en peluquillo,  agua a porrillo',\n",
       " 'niebla en el valle, gente a la calle',\n",
       " 'niebla en los puntales, agua a mares',\n",
       " 'nieve de febrero, buena si es a primeros',\n",
       " 'no dé dios a españa lo que quiere la meseta de ocaña',\n",
       " 'no hay abril que no deje de ser vil  y si no es a la entrada es al salir,  y si no en el medio, por no mentir.',\n",
       " 'noroeste fresco a soplar, estrellas a bailar',\n",
       " 'patarraez a la salida, ventanía',\n",
       " 'peñamayor encabezada, a la noche, que no a la mañana',\n",
       " 'por san eugenio, pon las castañas al fuego, la leña en el hogar y las ovejas a encerrar',\n",
       " 'por san martino, las nieblas vienen ya de camino; pero san antón, barre las nieblas a un rincón',\n",
       " 'por san matías, sácame de esta solana y llévame a aquella ombría, y me darás un buen día',\n",
       " 'por santa cecilia, la nieve a la rodilla y la vaca a la cebilla',\n",
       " 'pájaros en bandadas, nieve a capazadas',\n",
       " 'raso a prima, agua encima',\n",
       " 'reniego de aire que sopla a la vez de varias partes',\n",
       " 'rubias para burón, sol a montón',\n",
       " 'san antón,  viejo y meón,  mete las niñas  en un rincón;  san sebastián,  mocito y galán,  saca las niñas a pasear',\n",
       " 'san antón, viejo y tristón, convida a las muchachas a la oración',\n",
       " 'san marcos llena los charcos, san lucas los desocupa, y san andrés los vuelve a llenar otra vez',\n",
       " 'san matías, marzo a cinco días, entra el sol por las umbrías, calienta las casas frías y cantan las totovías',\n",
       " 'semblante por oviedo, a la mar sin miedo',\n",
       " 'señales de agua todas marran; no hay más señal cierta que cuando sudan los cuernos a los bueyes',\n",
       " 'si a las doce de la noche canta el gallo, en invierno nieva, y hiela en verano',\n",
       " 'si el cuco no canta  pal tres de abril,  o se ha muerto, o ha ido  a otras tierras a vivir',\n",
       " 'si el cuco no ha venido  para el quince de abril,  o se ha muerto o se ha ido  a otras tierras a vivir',\n",
       " 'si el peculillo no canta  pal veinticinco de abril,  el peculillo se ha muerto,  o el fin va a venir',\n",
       " 'si el sol es amarillento a la salida y hay nubes, el día sin lluvia no se escurre',\n",
       " 'si el sol se pone a cubierto el jueves, antes del domingo llueve',\n",
       " 'si el viento del sur es, botas de agua a los pies',\n",
       " 'si el ábrego vien de malas, a la mujer y hasta al pasiego engaña',\n",
       " 'si las nubes bajan a los campos, pronto corren los barrancos',\n",
       " 'si los vencejos chillan a la una, por la tarde, fresca segura',\n",
       " 'si nieva en madrid, a los dos días aquí',\n",
       " 'si quieres saber cuándo es abril, la golondrina te lo vendrá a decir',\n",
       " 'si sale por la tarde, va a andar mucho aire',\n",
       " 'si se nubla la altarrasa, coge el hato y vete a casa',\n",
       " 'si viene abierto por monsaraz, coge la yunta y vete a arar',\n",
       " 'si vieres la niebla en los cerros de marina, gañanes a la cocina',\n",
       " 'sol a mediodía, tarde dura y noche fría',\n",
       " 'sol cubierto en jueves, a los tres días llueve',\n",
       " 'sol de febrero, saca a la lagartija del agujero',\n",
       " 'sol empozado, a las veinticuatro horas mojado',\n",
       " 'sol tapado, prepárate a estar mojado',\n",
       " 'ten el invierno por pasado, si ves a febrero empapado',\n",
       " 'todas las tormentas van a burguillos',\n",
       " 'todas las tormentas van a carmona',\n",
       " 'todos los santos anuncian con verdad lo que va a suceder en navidad',\n",
       " 'una nevada equivale a una estercolada',\n",
       " 'vaca  soyá  y a los tres días  mojá ',\n",
       " 'vaca desollada a saliente, agua a poniente',\n",
       " 'vaca esoyá, a los tres días mojá;  si se ve en jueves,  a los tres días llueve.  si es castiza,  desde el primer día atiza',\n",
       " 'vaca que huele el suelo y después mira al cielo, te dice que va a cambiar el tiempo',\n",
       " 'vendaval agudo, aguas a menudo',\n",
       " 'viento a berbería, levante al otro día',\n",
       " 'viento a rachas, pronto calma',\n",
       " 'viento que se queda a cenar, se levantará para almorzar',\n",
       " 'viento solano, a todos hace daño',\n",
       " ' cuándo hace frío   cuando va a llover o ha llovido']"
      ]
     },
     "execution_count": 32,
     "metadata": {},
     "output_type": "execute_result"
    }
   ],
   "source": [
    "matching9 = [s for s in text_div if  \" a \" in s]\n",
    "matching9"
   ]
  },
  {
   "cell_type": "code",
   "execution_count": 33,
   "metadata": {
    "collapsed": false
   },
   "outputs": [
    {
     "data": {
      "text/plain": [
       "['grullas volando, calladas o cantando, señal de que el tiempo está cambiando']"
      ]
     },
     "execution_count": 33,
     "metadata": {},
     "output_type": "execute_result"
    }
   ],
   "source": [
    "matching10 = [s for s in text_div if  \" de que\" in s]\n",
    "matching10"
   ]
  },
  {
   "cell_type": "code",
   "execution_count": 34,
   "metadata": {
    "collapsed": true
   },
   "outputs": [],
   "source": [
    "import re"
   ]
  },
  {
   "cell_type": "code",
   "execution_count": 35,
   "metadata": {
    "collapsed": true
   },
   "outputs": [],
   "source": [
    "reg= re.compile (r\"que\\b(.[^ ]+ ){0,1}.[^ ]+(ar|er|ir)(\\b|la|le|se|nos|te|me)\")"
   ]
  },
  {
   "cell_type": "code",
   "execution_count": 36,
   "metadata": {
    "collapsed": false
   },
   "outputs": [],
   "source": [
    "s= text_div"
   ]
  },
  {
   "cell_type": "code",
   "execution_count": 37,
   "metadata": {
    "collapsed": true
   },
   "outputs": [],
   "source": [
    "matching11= [x for x in s if reg.search(x)]"
   ]
  },
  {
   "cell_type": "code",
   "execution_count": 38,
   "metadata": {
    "collapsed": false
   },
   "outputs": [
    {
     "data": {
      "text/plain": [
       "['a concejo de mañana y agua de tarde, no hay que temblarle',\n",
       " 'agua de mañana y justicia de tarde, no hay que temblarlas',\n",
       " 'el que quiera tener ovejas mil, líbrelas de las heladas de marzo y de los orbajos de abril',\n",
       " 'el sol que sale a bon matín, y la mujer que parla latín, y el perlado que ama lo buen vin, nunca habrán buen fin',\n",
       " 'hacia santa margalita, la lluvia más que dar, quita',\n",
       " 'hay que temer más a una mala vecina que a la nieve marcina',\n",
       " 'por santa margarita, la lluvia más que dar quita']"
      ]
     },
     "execution_count": 38,
     "metadata": {},
     "output_type": "execute_result"
    }
   ],
   "source": [
    "matching11"
   ]
  },
  {
   "cell_type": "code",
   "execution_count": 39,
   "metadata": {
    "collapsed": true
   },
   "outputs": [],
   "source": [
    "ques = [x for x in s if 'que ' in x]"
   ]
  },
  {
   "cell_type": "code",
   "execution_count": 40,
   "metadata": {
    "collapsed": false
   },
   "outputs": [
    {
     "data": {
      "text/plain": [
       "['a concejo de mañana y agua de tarde, no hay que temblarle',\n",
       " 'abril lluvioso, mayo pardo y junio claro, valen más que los bueyes y el carro',\n",
       " 'abril no es padre,  que es compadre',\n",
       " 'abril, abrilete y el mes que se entremete',\n",
       " 'abriles y hombres viles, desde que el mundo fué mundo los hubo a miles',\n",
       " 'adivino de murviedre, cuando chorran los canales, señal que llueve',\n",
       " 'agua de enero,  cada gota vale un dinero;  en marzo  toda en un paellazo;  en abril  ruixadetes mil;  en mayo  más que en todo el año;  en junio  más que en ninguno',\n",
       " 'agua de mayo, la mejor de todo el año;  agua de junio, más que de bondad, de infortunio',\n",
       " 'agua de mañana y justicia de tarde, no hay que temblarlas',\n",
       " 'agua en marzo,  peor que mancha en paño',\n",
       " 'agua que en agosto viene, la mitad va al mosto y la otra mitad al aceite',\n",
       " 'aire que almuerza y cena, durará una quincena',\n",
       " 'aire, airecito que de ávila vienes, a catorce reales me hueles',\n",
       " 'amor y viento, por uno que se va vienen ciento',\n",
       " 'antes le falta la madre al hijo  que la helada al granizo',\n",
       " 'arbolitos que estáis en flor, libráos de los bruscos de la encarnación',\n",
       " 'arrebolada hacia aragón, agua más que sol',\n",
       " 'año en que hasta el nueve de enero nieva, mucho pan espera',\n",
       " 'año que empieza helando, año de grano',\n",
       " 'bebí agua porque no hubo agua, que si agua hubiera, vino bebiera',\n",
       " 'boira que amanece, levanta y no agarra, buen tiempo que no falla',\n",
       " 'buen enero y buen abril nadie lo verá venir... y ese es más largo... uno que vivió ciento uno no lo vió ninguno',\n",
       " 'cabras que mucho estornudan, tiempo que se muda',\n",
       " 'cigarra que al quince avanza, nos indica gran bonanza',\n",
       " 'coloráu por navarra, los pastores que se pongan la zamarra',\n",
       " 'como hace el veintisiete y el veintiocho hace el veintinueve, mes siguiente, que no miente',\n",
       " 'como llueva en abril y mayo, más que no llueva en todo el año',\n",
       " 'cuando el cid se pone el gorro y san pascual la montera, llueve a los tres días, aunque el demonio no quiera',\n",
       " 'cuando parapanda se pone la montera, llueve aunque dios no quiera',\n",
       " 'cuando corre aire, no hay sol que dañe',\n",
       " 'cuando el cuco llega, entonces es primavera; si el cuco aún no llegó, es que la primavera no comenzó',\n",
       " 'cuando en diciembre mucho llueve, buen año el que viene',\n",
       " 'cuando la candelaria chora, el invierno está fora; ni que plore ni que deje de plorar, el invierno queda por pasar',\n",
       " 'cuando las candelas plora,  l ivierno fora.  cuando las candelas canta,  l ivierno falta.  ni que plore ni que cante,  hay ivierno por detrás y por delante',\n",
       " 'cuando truena la cuba e rota, -el agua biene que trota',\n",
       " 'cuando van los nublados para león, el que dice que llueve tiene razón',\n",
       " 'cuando l sol sale por burgos y s esconde por oviedo, pobre del hijo de madre que a jornal gane dinero',\n",
       " 'de herrera, ni el aire que venga',\n",
       " 'de jaén, ni hombre ni mujer, ni aire que venga de él',\n",
       " 'de los santos frioleros, san sebastián el primero; detente varón, que el primero es san antón',\n",
       " 'del mes que entra con abad y sale con fraile, dios nos guarde',\n",
       " 'diciembre hace al hombre que tiemble',\n",
       " 'dura más la mala vecina que la nieve marzalina',\n",
       " 'el guadarrama sutil, que mata un hombre y no apaga un candil',\n",
       " 'el agua del bobo:  parece que no llueve  y lo moja todo',\n",
       " 'el día de la candelora, que llueva que no llueva, invierno fora; y si llueve y hace viento, invierno dentro',\n",
       " 'el día que cae el asado -o el quemado-, cae todo el apostolado',\n",
       " 'el mes de enero  es la llave del granero;  lluvia de febrero  cada gota vale un dinero;  en marzo  cada gota quita un cuarto;  en mayo  más que en todo el año',\n",
       " 'el que quiera tener ovejas mil, líbrelas de las heladas de marzo y de los orbajos de abril',\n",
       " 'el sol que sale a bon matín, y la mujer que parla latín, y el perlado que ama lo buen vin, nunca habrán buen fin',\n",
       " 'el tiempo que hace el veintisiete, hace el mes siguiente',\n",
       " 'el veintisiete, como el siguiente; el veintinueve, como el que viene',\n",
       " 'el viento que anda el día de san martín domina hasta el fin',\n",
       " 'el viento que corra por san juan, todo el año correrá',\n",
       " 'en abril aguadas mil, al entrar que no al salir',\n",
       " 'en burgos no hay más que dos estaciones: el invierno y la estación del ferrocarril',\n",
       " 'en abril no hay granizada a que no siga la helada',\n",
       " 'en el campo de barahona  más vale mala capa que buena azcona',\n",
       " 'en enero, vale más una gorra que un sombrero',\n",
       " 'en invierno noche muy clara, el sol que sigue no da la cara',\n",
       " 'en marzo, pega el sol como un pelmazo; al abrigo, que no al raso',\n",
       " 'febrerillo, el loco: un día peor que otro  si malo es un día, peor es el otro',\n",
       " 'fraile callejero, mujer que habla latín y golondrina en febrero, mal agüero',\n",
       " 'frío de abril, a las peñas vaya a herir; que a las viñas suele ir',\n",
       " 'frío de abril, peor que el eneril',\n",
       " 'gallina que mucho escarba, gallo que mucho canta, y ganso que mucho grazna, son tres muchos que traen agua',\n",
       " 'gatos que estornudan, anuncian lluvia',\n",
       " 'golfín que salta, calma espanta',\n",
       " 'golondrina que con el ala roza la tierra, lluvia recela',\n",
       " 'granizo y nube negra, peor que la suegra',\n",
       " 'grullas volando, calladas o cantando, señal de que el tiempo está cambiando',\n",
       " 'guarda pan para mayo y leña para abril, que no sabes el tiempo que va a venir',\n",
       " 'hacia santa margalita, la lluvia más que dar, quita',\n",
       " 'hasta pasado santo germán, no digas que tienes vino ni pan',\n",
       " 'hasta que no pase la cruceta, no esquiles la burreta',\n",
       " 'hasta que pases abril, no aligeres el vestir',\n",
       " 'hay que temer más a una mala vecina que a la nieve marcina',\n",
       " 'jabalcuz con montera, llueve aunque dios no quiera',\n",
       " 'junta de moscas al sol, o de mosquitos al oscurecer, avisan que va a llover',\n",
       " 'la niebla en la montaña, antes a la noche que a la mañana',\n",
       " 'la oración de juan portal, que pedía sol en su era y agua en su nabal',\n",
       " 'lleva cerco la luna, cerca el sol. si a los tres días no ha llovido, se toque los cojones el pastor',\n",
       " 'lloviese y nevase, y no ventiscase: que cuando hace viento, entonces hace mal tiempo',\n",
       " 'lo que defiende del frío, defiende del calor',\n",
       " 'lo que quiere la oveja quiere el valle de corneja: que hiele, que hiele, hasta que el rabo se le pele',\n",
       " 'luna que mucho reluce, un tronco más a la lumbre',\n",
       " 'marzo, marzueco, déjame uno para manso y otro pa mureco, y otro para que lleve el cencerro hueco',\n",
       " 'mes que entra con abad  y sale con fraile,  guárdale el aire',\n",
       " 'más vale agua entre abril y mayo que toda la plata que hay en el ochavo',\n",
       " 'más valen las aguas de abril, que los bueyes y el carro de david',\n",
       " 'niebla que pasta, agua asegurada',\n",
       " 'no dejes los pellejos  hasta que vengan los galileos',\n",
       " 'no dé dios a españa lo que quiere la meseta de ocaña',\n",
       " 'no hay abril que no deje de ser vil  y si no es a la entrada es al salir,  y si no en el medio, por no mentir.',\n",
       " 'no hay mirlo blanco ni septiembre que no sea malo',\n",
       " 'no hay sábado sin sol,  ni mocita sin amor,  ni callejuela sin revuelta,  ni vieja que no sea alcahueta',\n",
       " 'no pasa un mes de abril sin que granizos caigan mil',\n",
       " 'no te fíes en cielo estrellado, ni en gato que miaña',\n",
       " 'no vienen mal las nevadas que sostienen las heladas',\n",
       " 'non dure más la mala vecina que la nieve marzalina',\n",
       " 'nunca vi abril que no fuera ruin, ora al entrar ora al salir',\n",
       " 'para que la otoñada sea buena, por san bartolomé las aguas primeras',\n",
       " 'pedro, no vayas de costera, que ruge la lera',\n",
       " 'peñamayor encabezada, a la noche, que no a la mañana',\n",
       " 'por san bartolomé, el que no haya acabado la era agua en él',\n",
       " 'por san martino, el invierno viene de camino; si le dicen detente, llega por san clemente; y aunque venga retrasado, por san andrés ya ha llegado',\n",
       " 'por santa margarita, la lluvia más que dar quita',\n",
       " 'por calor que haga, no dejes tu capa en casa',\n",
       " 'por sol que en diciembre haga, no sueltes la capa',\n",
       " 'primero le falta el padre al hijo que la helada al granizo',\n",
       " 'que la candelaria llore o cante, invierno atrás y adelante',\n",
       " 'que llueva, que no llueva, pan se coge en orihuela; en la de alicante, mas no en la de la sierra',\n",
       " 'quien en marzo ve nevar, piensa que no ha parar',\n",
       " 'refranes que no sean verdaderos  y febreros que no sean locos,  pocos',\n",
       " 'reniego de aire que sopla a la vez de varias partes',\n",
       " 'san marcos tiene un verano, que además de ser cortico, no viene todos los años',\n",
       " 'santa rita todo lo quita y san wenceslao lo que ha quedao',\n",
       " 'según haga el veintisiete, hará el mes que arremete',\n",
       " 'septiembre,  el que no tenga ropa que tiemble',\n",
       " 'señales de agua todas marran; no hay más señal cierta que cuando sudan los cuernos a los bueyes',\n",
       " 'si san ginés se pone montera, ha de llover aunque no quiera',\n",
       " 'si el latín tiene montera,  lloverá aunque dios no quiera ',\n",
       " 'si en noviembre oyes que truena, la cosecha será buena',\n",
       " 'si la candelaria chora,  el invierno está fora;  que chore, que deje de chorar,  el invierno está sin pasar',\n",
       " 'si la candelaria llora,  es que el invierno ya va fora;  y si la candelaria ríe,  es que está de por venir',\n",
       " 'si la luna el cuerno ha perdido, no lo encuentras hasta después que ha llovido',\n",
       " 'si los gatos viejos retozan, es que los campos se mojan',\n",
       " 'si quieres casa que no se te llueva, hazla en muera',\n",
       " 'sol madrugadín, cura callejín y mujer que habla latín, no pueden tener buen fin',\n",
       " 'sol madrugador y cura callejero  y mujer que habla latín  nunca tendrá buen fin',\n",
       " 'sol que mucho madruga, ni tres horas dura',\n",
       " 'sol que mucho madruga, poco dura',\n",
       " 'sol que mucho pica, o llueve o graniza',\n",
       " 'sol que pica, cambio de tiempo significa',\n",
       " 'sol que pica, lluvia indica',\n",
       " 'tanto frío hace en enero, que se hiela hasta el puchero',\n",
       " 'todos los santos anuncian con verdad lo que va a suceder en navidad',\n",
       " 'tras abril que sale lloviendo, entra mayo sonriendo',\n",
       " 'un enero helado, un febrero amoroso, un marzo airoso, un abril lluvioso, un mayo pardo, un san juan claro, ya valen más que la mula y su carro',\n",
       " 'un febrero chapucero, un marzo airoso, un abril lluvioso, un mayo pardo, un san juan claro, valen mucho más que tu mula y tu carro',\n",
       " 'vaca que huele el suelo y después mira al cielo, te dice que va a cambiar el tiempo',\n",
       " 'venga febrero lluvioso, aunque salga furioso',\n",
       " 'viento nordeste con gotas, no dura lo que dos motas',\n",
       " 'viento que come y cena, una quincena',\n",
       " 'viento que se acuesta al anochecer, se levanta al amanecer',\n",
       " 'viento que se queda a cenar, se levantará para almorzar',\n",
       " 'viento solano, agua en la mano; en invierno, que no en verano',\n",
       " 'viento sur con gotas,  no dura lo que dos motas',\n",
       " 'ya que en invierno ha de helar, ni al fin ni al empezar',\n",
       " ' caray con los castellanos, que al frío le llaman fresco ']"
      ]
     },
     "execution_count": 40,
     "metadata": {},
     "output_type": "execute_result"
    }
   ],
   "source": [
    "ques"
   ]
  },
  {
   "cell_type": "code",
   "execution_count": 41,
   "metadata": {
    "collapsed": false
   },
   "outputs": [
    {
     "data": {
      "text/plain": [
       "['mientras en guara haya nieve  como cola de sardina,  no está segura la viña']"
      ]
     },
     "execution_count": 41,
     "metadata": {},
     "output_type": "execute_result"
    }
   ],
   "source": [
    "matching12 = [s for s in text_div if  \"mientras en\" in s]\n",
    "matching12"
   ]
  },
  {
   "cell_type": "code",
   "execution_count": 42,
   "metadata": {
    "collapsed": false
   },
   "outputs": [],
   "source": [
    "reg2= re.compile (r\" a\\b(.[^ ]+ ){0,1}.[^ ]+(ar|er|ir)(\\b|la|le|se|nos|te|me)\")"
   ]
  },
  {
   "cell_type": "code",
   "execution_count": 43,
   "metadata": {
    "collapsed": true
   },
   "outputs": [],
   "source": [
    "matching13= [x for x in s if reg2.search(x)]"
   ]
  },
  {
   "cell_type": "code",
   "execution_count": 44,
   "metadata": {
    "collapsed": false
   },
   "outputs": [
    {
     "data": {
      "text/plain": [
       "['a quien quieras mal mándalo a écija a veranear',\n",
       " 'aire de puerto antes de san miguel, el labrador torna a mirar al ciel',\n",
       " 'al oír tronar, salen los sapos a bailar',\n",
       " 'año zagüeñil,  coge la capa y vete a dormir',\n",
       " 'cuando las grullas van a la peña,  coge el carro y vete a por leña;  y cuando las grullas van al mar,  coge el arado y vete a arar',\n",
       " 'cuando las grullas van para castilla,  coge el hacha y haz astillas;  y cuando van para el mar,  coge el arao y vete a arar',\n",
       " 'cuando mayo va a mediar, debe el invierno acabar',\n",
       " 'frío de abril, a las peñas vaya a herir; que a las viñas suele ir',\n",
       " 'guarda pan para mayo y leña para abril, que no sabes el tiempo que va a venir',\n",
       " 'junta de moscas al sol, o de mosquitos al oscurecer, avisan que va a llover',\n",
       " 'los truenos y la mar, enseñan a rezar',\n",
       " 'noroeste fresco a soplar, estrellas a bailar',\n",
       " 'por san eugenio, pon las castañas al fuego, la leña en el hogar y las ovejas a encerrar',\n",
       " 'san antón,  viejo y meón,  mete las niñas  en un rincón;  san sebastián,  mocito y galán,  saca las niñas a pasear',\n",
       " 'san marcos llena los charcos, san lucas los desocupa, y san andrés los vuelve a llenar otra vez',\n",
       " 'si el cuco no canta  pal tres de abril,  o se ha muerto, o ha ido  a otras tierras a vivir',\n",
       " 'si el cuco no ha venido  para el quince de abril,  o se ha muerto o se ha ido  a otras tierras a vivir',\n",
       " 'si el peculillo no canta  pal veinticinco de abril,  el peculillo se ha muerto,  o el fin va a venir',\n",
       " 'si el ábrego vien de malas, a la mujer y hasta al pasiego engaña',\n",
       " 'si quieres saber cuándo es abril, la golondrina te lo vendrá a decir',\n",
       " 'si sale por la tarde, va a andar mucho aire',\n",
       " 'si viene abierto por monsaraz, coge la yunta y vete a arar',\n",
       " 'sol tapado, prepárate a estar mojado',\n",
       " 'todos los santos anuncian con verdad lo que va a suceder en navidad',\n",
       " 'vaca que huele el suelo y después mira al cielo, te dice que va a cambiar el tiempo',\n",
       " 'viento que se queda a cenar, se levantará para almorzar',\n",
       " ' cuándo hace frío   cuando va a llover o ha llovido']"
      ]
     },
     "execution_count": 44,
     "metadata": {},
     "output_type": "execute_result"
    }
   ],
   "source": [
    "matching13"
   ]
  },
  {
   "cell_type": "code",
   "execution_count": 45,
   "metadata": {
    "collapsed": false
   },
   "outputs": [],
   "source": [
    "reg3= re.compile (r\" de\\b(.[^ ]+ ){0,1}.[^ ]+(ar|er|ir)(\\b|la|le|se|nos|te|me)\")"
   ]
  },
  {
   "cell_type": "code",
   "execution_count": 46,
   "metadata": {
    "collapsed": true
   },
   "outputs": [],
   "source": [
    "matching14 = [x for x in s if reg3.search(x)]"
   ]
  },
  {
   "cell_type": "code",
   "execution_count": 47,
   "metadata": {
    "collapsed": false
   },
   "outputs": [
    {
     "data": {
      "text/plain": [
       "['a 3 de abril  el cuclillo ha de venir;  y si no viniere el 8,  o es preso o es morto',\n",
       " 'a helada de abril, hambre ha de seguir',\n",
       " 'a los tres días de abril, el cuclillo ha de haber vuelto; si no ha llegado a los ocho, o lo cogieron o ha muerto',\n",
       " 'abril, abril, cada mil años debieras de venir',\n",
       " 'arco iris al amanecer, agua antes de anochecer',\n",
       " 'cuando montejurra tiene capa, de llover, no se escapa',\n",
       " 'cuando ha de hacer buen sol, comienza por la mañana',\n",
       " 'cuando la candelaria chora, el invierno está fora; ni que plore ni que deje de plorar, el invierno queda por pasar',\n",
       " 'de ronda, ni buen viento, ni buen casamiento, ni buena hoz de podar, ni buen buey de arar',\n",
       " 'el cordonazo de san francisco,  por tierra y por mar se ha de notar',\n",
       " 'helar y nublar, señal de nevar',\n",
       " 'no hay abril que no deje de ser vil  y si no es a la entrada es al salir,  y si no en el medio, por no mentir.',\n",
       " 'san andrés, agua o nieve ha de traer',\n",
       " 'san marcos tiene un verano, que además de ser cortico, no viene todos los años',\n",
       " 'si san ginés se pone montera, ha de llover aunque no quiera',\n",
       " 'si la candelaria chora,  el invierno está fora;  que chore, que deje de chorar,  el invierno está sin pasar',\n",
       " 'si la candelaria llora,  es que el invierno ya va fora;  y si la candelaria ríe,  es que está de por venir',\n",
       " 'si la candelaria plora, el invierno ya está fora, si plora ni deja de plorar, el invierno está por pasar',\n",
       " 'tronada de guara,  fuerte pedregada',\n",
       " 'viento rachear, de poco durar',\n",
       " 'ya que en invierno ha de helar, ni al fin ni al empezar']"
      ]
     },
     "execution_count": 47,
     "metadata": {},
     "output_type": "execute_result"
    }
   ],
   "source": [
    "matching14"
   ]
  },
  {
   "cell_type": "code",
   "execution_count": 48,
   "metadata": {
    "collapsed": false
   },
   "outputs": [],
   "source": [
    "reg4= re.compile (r\" como\\b(.[^ ]+ ){0,1}.[^ ]+(e|es|os|eis|en|are|aras|aramos|arais|aran|ase|ases|asemos|aseis|asen|are|ares|aremos|areis|aren|a|e|emos|ad|amen)(\\b|la|le|se|nos|te|me)\")\n"
   ]
  },
  {
   "cell_type": "code",
   "execution_count": 49,
   "metadata": {
    "collapsed": true
   },
   "outputs": [],
   "source": [
    "matching15 =[x for x in s if reg4.search(x)]"
   ]
  },
  {
   "cell_type": "code",
   "execution_count": 50,
   "metadata": {
    "collapsed": false
   },
   "outputs": [
    {
     "data": {
      "text/plain": [
       "['abriga la nieve al trigo, como la madre a su hijo',\n",
       " 'cuando la sierra de anillo tiene moño, huyen los porquecillos como demonios',\n",
       " 'el veintisiete, como el siguiente; el veintinueve, como el que viene',\n",
       " 'en diciembre, como el tres, todo el mes',\n",
       " 'mientras en guara haya nieve  como cola de sardina,  no está segura la viña',\n",
       " 'tantas veces como canta en enero el gri, tantas heladas en abril',\n",
       " 'tanto viento como haga, tanta agua',\n",
       " 'tiempo, viento, mujer y fortuna, son tan mudables como la luna',\n",
       " 'viento, mujer y fortuna, mudables como la luna']"
      ]
     },
     "execution_count": 50,
     "metadata": {},
     "output_type": "execute_result"
    }
   ],
   "source": [
    "matching15"
   ]
  },
  {
   "cell_type": "code",
   "execution_count": 51,
   "metadata": {
    "collapsed": true
   },
   "outputs": [],
   "source": [
    "reg5= re.compile (r\"[^ ]+(pensando|sintiendo|meditando|reflexionando|olvidando|opinando|creyendo|considerando)(\\b|la|le|se|nos|te|me)\")"
   ]
  },
  {
   "cell_type": "code",
   "execution_count": 52,
   "metadata": {
    "collapsed": false
   },
   "outputs": [],
   "source": [
    "matching16= [x for x in s if reg5.search(x)]"
   ]
  },
  {
   "cell_type": "code",
   "execution_count": 53,
   "metadata": {
    "collapsed": false
   },
   "outputs": [
    {
     "data": {
      "text/plain": [
       "[]"
      ]
     },
     "execution_count": 53,
     "metadata": {},
     "output_type": "execute_result"
    }
   ],
   "source": [
    "matching16"
   ]
  },
  {
   "cell_type": "code",
   "execution_count": 54,
   "metadata": {
    "collapsed": false
   },
   "outputs": [
    {
     "data": {
      "text/plain": [
       "['abriga la nieve al trigo, como la madre a su hijo',\n",
       " 'abril, tan pronto llorar como reír',\n",
       " 'como es san blas, es semana santa y carnaval',\n",
       " 'como hace el veintisiete y el veintiocho hace el veintinueve, mes siguiente, que no miente',\n",
       " 'como llueva en abril y mayo, más que no llueva en todo el año',\n",
       " 'cuando la sierra de anillo tiene moño, huyen los porquecillos como demonios',\n",
       " 'el día ñublo, vase como el humo',\n",
       " 'el veintisiete, como el siguiente; el veintinueve, como el que viene',\n",
       " 'en ures, matos y ríosalido , como gastan polainas, no tienen frío',\n",
       " 'en diciembre, como el tres, todo el mes',\n",
       " 'en marzo, calienta el solo como un escarzo ',\n",
       " 'en marzo, pega el sol como un pelmazo; al abrigo, que no al raso',\n",
       " 'marzo marcero, o tan frío como enero, o tan falso como febrero',\n",
       " 'mientras en guara haya nieve  como cola de sardina,  no está segura la viña',\n",
       " 'sol de marzo  pone la cabeza como un mazo',\n",
       " 'tantas veces como canta en enero el gri, tantas heladas en abril',\n",
       " 'tanto viento como haga, tanta agua',\n",
       " 'tiempo, viento, mujer y fortuna, son tan mudables como la luna',\n",
       " 'viento, mujer y fortuna, mudables como la luna']"
      ]
     },
     "execution_count": 54,
     "metadata": {},
     "output_type": "execute_result"
    }
   ],
   "source": [
    "matching17 = [s for s in text_div if  \"como\" in s]\n",
    "matching17"
   ]
  },
  {
   "cell_type": "code",
   "execution_count": 55,
   "metadata": {
    "collapsed": false
   },
   "outputs": [],
   "source": [
    "def porc (i,x):\n",
    "    return (len(i)*100)/ len(x)"
   ]
  },
  {
   "cell_type": "code",
   "execution_count": 56,
   "metadata": {
    "collapsed": false
   },
   "outputs": [
    {
     "data": {
      "text/plain": [
       "5.0"
      ]
     },
     "execution_count": 56,
     "metadata": {},
     "output_type": "execute_result"
    }
   ],
   "source": [
    "porc(matching,s)"
   ]
  },
  {
   "cell_type": "code",
   "execution_count": 57,
   "metadata": {
    "collapsed": false
   },
   "outputs": [
    {
     "data": {
      "text/plain": [
       "0.6363636363636364"
      ]
     },
     "execution_count": 57,
     "metadata": {},
     "output_type": "execute_result"
    }
   ],
   "source": [
    "porc(matching2,s)"
   ]
  },
  {
   "cell_type": "code",
   "execution_count": 58,
   "metadata": {
    "collapsed": false
   },
   "outputs": [
    {
     "data": {
      "text/plain": [
       "0.0"
      ]
     },
     "execution_count": 58,
     "metadata": {},
     "output_type": "execute_result"
    }
   ],
   "source": [
    "porc(matching3,s)"
   ]
  },
  {
   "cell_type": "code",
   "execution_count": 59,
   "metadata": {
    "collapsed": false
   },
   "outputs": [
    {
     "data": {
      "text/plain": [
       "0.0"
      ]
     },
     "execution_count": 59,
     "metadata": {},
     "output_type": "execute_result"
    }
   ],
   "source": [
    "porc(matching4,s)"
   ]
  },
  {
   "cell_type": "code",
   "execution_count": 60,
   "metadata": {
    "collapsed": false
   },
   "outputs": [
    {
     "data": {
      "text/plain": [
       "0.0"
      ]
     },
     "execution_count": 60,
     "metadata": {},
     "output_type": "execute_result"
    }
   ],
   "source": [
    "porc(matching5,s)"
   ]
  },
  {
   "cell_type": "code",
   "execution_count": 61,
   "metadata": {
    "collapsed": false
   },
   "outputs": [
    {
     "data": {
      "text/plain": [
       "0.0"
      ]
     },
     "execution_count": 61,
     "metadata": {},
     "output_type": "execute_result"
    }
   ],
   "source": [
    "porc(matching6,s)"
   ]
  },
  {
   "cell_type": "code",
   "execution_count": 62,
   "metadata": {
    "collapsed": false
   },
   "outputs": [
    {
     "data": {
      "text/plain": [
       "0.0"
      ]
     },
     "execution_count": 62,
     "metadata": {},
     "output_type": "execute_result"
    }
   ],
   "source": [
    "porc(matching7,s)"
   ]
  },
  {
   "cell_type": "code",
   "execution_count": 63,
   "metadata": {
    "collapsed": false
   },
   "outputs": [
    {
     "data": {
      "text/plain": [
       "19.09090909090909"
      ]
     },
     "execution_count": 63,
     "metadata": {},
     "output_type": "execute_result"
    }
   ],
   "source": [
    "porc(matching8,s)"
   ]
  },
  {
   "cell_type": "code",
   "execution_count": 64,
   "metadata": {
    "collapsed": false
   },
   "outputs": [
    {
     "data": {
      "text/plain": [
       "13.272727272727273"
      ]
     },
     "execution_count": 64,
     "metadata": {},
     "output_type": "execute_result"
    }
   ],
   "source": [
    "porc(matching9,s)"
   ]
  },
  {
   "cell_type": "code",
   "execution_count": 65,
   "metadata": {
    "collapsed": false
   },
   "outputs": [
    {
     "data": {
      "text/plain": [
       "0.09090909090909091"
      ]
     },
     "execution_count": 65,
     "metadata": {},
     "output_type": "execute_result"
    }
   ],
   "source": [
    "porc(matching10,s)"
   ]
  },
  {
   "cell_type": "code",
   "execution_count": 66,
   "metadata": {
    "collapsed": false
   },
   "outputs": [
    {
     "data": {
      "text/plain": [
       "0.6363636363636364"
      ]
     },
     "execution_count": 66,
     "metadata": {},
     "output_type": "execute_result"
    }
   ],
   "source": [
    "porc(matching11,s)"
   ]
  },
  {
   "cell_type": "code",
   "execution_count": 67,
   "metadata": {
    "collapsed": false
   },
   "outputs": [
    {
     "data": {
      "text/plain": [
       "0.09090909090909091"
      ]
     },
     "execution_count": 67,
     "metadata": {},
     "output_type": "execute_result"
    }
   ],
   "source": [
    "porc(matching12,s)"
   ]
  },
  {
   "cell_type": "code",
   "execution_count": 68,
   "metadata": {
    "collapsed": false
   },
   "outputs": [
    {
     "data": {
      "text/plain": [
       "2.4545454545454546"
      ]
     },
     "execution_count": 68,
     "metadata": {},
     "output_type": "execute_result"
    }
   ],
   "source": [
    "porc(matching13,s)"
   ]
  },
  {
   "cell_type": "code",
   "execution_count": 69,
   "metadata": {
    "collapsed": false
   },
   "outputs": [
    {
     "data": {
      "text/plain": [
       "1.9090909090909092"
      ]
     },
     "execution_count": 69,
     "metadata": {},
     "output_type": "execute_result"
    }
   ],
   "source": [
    "porc(matching14,s)"
   ]
  },
  {
   "cell_type": "code",
   "execution_count": 70,
   "metadata": {
    "collapsed": false
   },
   "outputs": [
    {
     "data": {
      "text/plain": [
       "0.8181818181818182"
      ]
     },
     "execution_count": 70,
     "metadata": {},
     "output_type": "execute_result"
    }
   ],
   "source": [
    "porc(matching15,s)"
   ]
  },
  {
   "cell_type": "code",
   "execution_count": 71,
   "metadata": {
    "collapsed": false
   },
   "outputs": [
    {
     "data": {
      "text/plain": [
       "0.0"
      ]
     },
     "execution_count": 71,
     "metadata": {},
     "output_type": "execute_result"
    }
   ],
   "source": [
    "porc(matching16,s)"
   ]
  },
  {
   "cell_type": "code",
   "execution_count": 72,
   "metadata": {
    "collapsed": false
   },
   "outputs": [
    {
     "data": {
      "text/plain": [
       "1.7272727272727273"
      ]
     },
     "execution_count": 72,
     "metadata": {},
     "output_type": "execute_result"
    }
   ],
   "source": [
    "porc(matching17,s)"
   ]
  },
  {
   "cell_type": "code",
   "execution_count": 73,
   "metadata": {
    "collapsed": false
   },
   "outputs": [
    {
     "data": {
      "text/plain": [
       "1100"
      ]
     },
     "execution_count": 73,
     "metadata": {},
     "output_type": "execute_result"
    }
   ],
   "source": [
    "len(text_div)"
   ]
  },
  {
   "cell_type": "code",
   "execution_count": null,
   "metadata": {
    "collapsed": true
   },
   "outputs": [],
   "source": []
  }
 ],
 "metadata": {
  "kernelspec": {
   "display_name": "Python 3",
   "language": "python",
   "name": "python3"
  },
  "language_info": {
   "codemirror_mode": {
    "name": "ipython",
    "version": 3
   },
   "file_extension": ".py",
   "mimetype": "text/x-python",
   "name": "python",
   "nbconvert_exporter": "python",
   "pygments_lexer": "ipython3",
   "version": "3.6.0"
  }
 },
 "nbformat": 4,
 "nbformat_minor": 2
}
