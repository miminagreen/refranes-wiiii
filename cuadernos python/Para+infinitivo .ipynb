{
 "cells": [
  {
   "cell_type": "code",
   "execution_count": 1,
   "metadata": {
    "collapsed": true
   },
   "outputs": [],
   "source": [
    "achivo = open (r\"PRom.txt\" , encoding = \"utf-8\")"
   ]
  },
  {
   "cell_type": "code",
   "execution_count": 2,
   "metadata": {
    "collapsed": true
   },
   "outputs": [],
   "source": [
    "text= achivo.read().lower ()"
   ]
  },
  {
   "cell_type": "code",
   "execution_count": 3,
   "metadata": {
    "collapsed": true
   },
   "outputs": [],
   "source": [
    "for x in (\" \\” \\“\\\"#$%&/()'¿?¡!\"):\n",
    "    text= text.replace(x, \" \")"
   ]
  },
  {
   "cell_type": "code",
   "execution_count": 4,
   "metadata": {
    "collapsed": true
   },
   "outputs": [],
   "source": [
    "text= text [1:]"
   ]
  },
  {
   "cell_type": "code",
   "execution_count": 5,
   "metadata": {},
   "outputs": [
    {
     "data": {
      "text/plain": [
       "'a 3 de abril  el cuclillo ha de venir;  y si no vi'"
      ]
     },
     "execution_count": 5,
     "metadata": {},
     "output_type": "execute_result"
    }
   ],
   "source": [
    "text[: 50]"
   ]
  },
  {
   "cell_type": "code",
   "execution_count": 6,
   "metadata": {
    "collapsed": true
   },
   "outputs": [],
   "source": [
    "text_div= text.split ( \"\\n\")"
   ]
  },
  {
   "cell_type": "code",
   "execution_count": 7,
   "metadata": {},
   "outputs": [
    {
     "data": {
      "text/plain": [
       "['a 3 de abril  el cuclillo ha de venir;  y si no viniere el 8,  o es preso o es morto',\n",
       " 'a abril con sus chaparrones, sigue mayo con sus flores',\n",
       " 'a concejo de mañana y agua de tarde, no hay que temblarle',\n",
       " 'a helada de abril, hambre ha de seguir',\n",
       " 'a invierno malhechor, primavera peor',\n",
       " 'a la primera agua de octubre, siembra y cubre',\n",
       " 'a las tres escarchas, la lluvia no falta',\n",
       " 'a los tres días de abril, el cuclillo ha de haber vuelto; si no ha llegado a los ocho, o lo cogieron o ha muerto',\n",
       " 'a marzo alabo, si no vuelve el rabo',\n",
       " 'a nube madrugadora, piedra traidora',\n",
       " 'a quien quieras mal mándalo a écija a veranear',\n",
       " 'a quince de marzo, da el sol en la umbría y canta la totovía',\n",
       " 'a turbonada de oviedo, no tengas miedo',\n",
       " 'abejas revueltas, tempestad a vueltas',\n",
       " 'abriga la nieve al trigo, como la madre a su hijo',\n",
       " 'abril abrilero, siempre es traicionero',\n",
       " 'abril empezado, invierno acabado',\n",
       " 'abril frío y mojado hinche el granero y hasta el ganado',\n",
       " 'abril fuera bueno si el gallego no anduviera',\n",
       " 'abril hace las puertas cerrar y abrir, y a los cochinos gruñir']"
      ]
     },
     "execution_count": 7,
     "metadata": {},
     "output_type": "execute_result"
    }
   ],
   "source": [
    "text_div [:20]"
   ]
  },
  {
   "cell_type": "code",
   "execution_count": 2,
   "metadata": {},
   "outputs": [
    {
     "ename": "NameError",
     "evalue": "name 'text_div' is not defined",
     "output_type": "error",
     "traceback": [
      "\u001b[0;31m---------------------------------------------------------------------------\u001b[0m",
      "\u001b[0;31mNameError\u001b[0m                                 Traceback (most recent call last)",
      "\u001b[0;32m<ipython-input-2-e8dd98b91c6a>\u001b[0m in \u001b[0;36m<module>\u001b[0;34m()\u001b[0m\n\u001b[1;32m      1\u001b[0m \u001b[0;32mimport\u001b[0m \u001b[0mre\u001b[0m\u001b[0;34m\u001b[0m\u001b[0m\n\u001b[1;32m      2\u001b[0m \u001b[0mpat\u001b[0m \u001b[0;34m=\u001b[0m \u001b[0mre\u001b[0m\u001b[0;34m.\u001b[0m\u001b[0mcompile\u001b[0m\u001b[0;34m(\u001b[0m\u001b[0;34mr'para\\b(.[^ ]+ ){0,1}.[^ ]+(a|e|i)(\\b|la|le|se|nos|te|me)'\u001b[0m\u001b[0;34m)\u001b[0m\u001b[0;34m\u001b[0m\u001b[0m\n\u001b[0;32m----> 3\u001b[0;31m \u001b[0mmatching\u001b[0m \u001b[0;34m=\u001b[0m \u001b[0;34m[\u001b[0m\u001b[0ms\u001b[0m \u001b[0;32mfor\u001b[0m \u001b[0ms\u001b[0m \u001b[0;32min\u001b[0m \u001b[0mtext_div\u001b[0m \u001b[0;32mif\u001b[0m \u001b[0mpat\u001b[0m\u001b[0;34m.\u001b[0m\u001b[0msearch\u001b[0m\u001b[0;34m(\u001b[0m\u001b[0ms\u001b[0m\u001b[0;34m.\u001b[0m\u001b[0mlower\u001b[0m\u001b[0;34m(\u001b[0m\u001b[0;34m)\u001b[0m\u001b[0;34m)\u001b[0m\u001b[0;34m]\u001b[0m\u001b[0;34m\u001b[0m\u001b[0m\n\u001b[0m",
      "\u001b[0;31mNameError\u001b[0m: name 'text_div' is not defined"
     ]
    }
   ],
   "source": [
    "import re\n",
    "pat = re.compile(r'para\\b(.[^ ]+ ){0,1}.[^ ]+(a|er|ir)(\\b|la|le|se|nos|te|me)')\n",
    "matching = [s for s in text_div if pat.search(s.lower())]"
   ]
  },
  {
   "cell_type": "code",
   "execution_count": 11,
   "metadata": {},
   "outputs": [
    {
     "data": {
      "text/plain": [
       "['viento que se queda a cenar, se levantará para almorzar']"
      ]
     },
     "execution_count": 11,
     "metadata": {},
     "output_type": "execute_result"
    }
   ],
   "source": [
    "matching"
   ]
  },
  {
   "cell_type": "code",
   "execution_count": 13,
   "metadata": {
    "collapsed": true
   },
   "outputs": [],
   "source": [
    "achivo = open (r\"RMulti.txt\" , encoding = \"utf-8\")"
   ]
  },
  {
   "cell_type": "code",
   "execution_count": 14,
   "metadata": {
    "collapsed": true
   },
   "outputs": [],
   "source": [
    "text= achivo.read().lower ()"
   ]
  },
  {
   "cell_type": "code",
   "execution_count": 15,
   "metadata": {
    "collapsed": true
   },
   "outputs": [],
   "source": [
    "for x in (\" \\” \\“\\\"#$%&/()'¿?¡!\"):\n",
    "    text= text.replace(x, \" \")"
   ]
  },
  {
   "cell_type": "code",
   "execution_count": 16,
   "metadata": {
    "collapsed": true
   },
   "outputs": [],
   "source": [
    "text= text [1:]"
   ]
  },
  {
   "cell_type": "code",
   "execution_count": 17,
   "metadata": {},
   "outputs": [
    {
     "data": {
      "text/plain": [
       "' amor mal correspondido, ausencia y olvido\\na barri'"
      ]
     },
     "execution_count": 17,
     "metadata": {},
     "output_type": "execute_result"
    }
   ],
   "source": [
    "text[: 50]"
   ]
  },
  {
   "cell_type": "code",
   "execution_count": 18,
   "metadata": {
    "collapsed": true
   },
   "outputs": [],
   "source": [
    "text_div= text.split ( \"\\n\")"
   ]
  },
  {
   "cell_type": "code",
   "execution_count": 19,
   "metadata": {},
   "outputs": [
    {
     "data": {
      "text/plain": [
       "[' amor mal correspondido, ausencia y olvido',\n",
       " 'a barriga llena, corazón contento',\n",
       " 'a bien obrar, bien pagar',\n",
       " 'a boda ni bautizo, no vayas sin ser llamado',\n",
       " 'a buen entendedor, pocas palabras bastan',\n",
       " 'a buen gato, buen rato',\n",
       " 'a buen hambre no hay pan duro',\n",
       " 'a buen servicio, mal galardón',\n",
       " 'a buen sueño no hay mala cama',\n",
       " 'a buenas horas, mangas verdes',\n",
       " 'a buey viejo, cencerro nuevo',\n",
       " 'a burro muerto, la cebada al rabo',\n",
       " 'a caballero nuevo, caballo viejo',\n",
       " 'a caballo nuevo, jinete viejo',\n",
       " 'a caballo regalado, no le mires el diente',\n",
       " 'a cada cerdo le llega su san martín',\n",
       " 'a cada olla, su cobertera',\n",
       " 'a cada pajarillo le gusta su nidillo',\n",
       " 'a cada puerta, su dueña',\n",
       " 'a cada uno lo suyo']"
      ]
     },
     "execution_count": 19,
     "metadata": {},
     "output_type": "execute_result"
    }
   ],
   "source": [
    "text_div [:20]"
   ]
  },
  {
   "cell_type": "code",
   "execution_count": 20,
   "metadata": {
    "collapsed": true
   },
   "outputs": [],
   "source": [
    "pat = re.compile(r'para\\b(.[^ ]+ ){0,1}.[^ ]+(ar|er|ir)(\\b|la|le|se|nos|te|me)')\n",
    "matching1 = [s for s in text_div if pat.search(s.lower())]"
   ]
  },
  {
   "cell_type": "code",
   "execution_count": 21,
   "metadata": {},
   "outputs": [
    {
     "data": {
      "text/plain": [
       "['desnudar un santo para vestir otro',\n",
       " 'huir del fuego para caer en las brasas',\n",
       " 'la noche para pensar, el día para obrar',\n",
       " 'no es mucho perder un boquerón para pescar un salmón',\n",
       " 'para enfermedad de años no hay medicina',\n",
       " 'para presumir hay que sufrir',\n",
       " 'para todo hay remedio, sino para la muerte',\n",
       " 'unos sirven para vendimiar, y otros para sacar cestos']"
      ]
     },
     "execution_count": 21,
     "metadata": {},
     "output_type": "execute_result"
    }
   ],
   "source": [
    "matching1"
   ]
  },
  {
   "cell_type": "code",
   "execution_count": 22,
   "metadata": {
    "collapsed": true
   },
   "outputs": [],
   "source": [
    "achivo = open (r\"RMx.txt\" , encoding = \"utf-8\")"
   ]
  },
  {
   "cell_type": "code",
   "execution_count": 23,
   "metadata": {
    "collapsed": true
   },
   "outputs": [],
   "source": [
    "text= achivo.read().lower ()"
   ]
  },
  {
   "cell_type": "code",
   "execution_count": 24,
   "metadata": {
    "collapsed": true
   },
   "outputs": [],
   "source": [
    "for x in (\" \\” \\“\\\"#$%&/()'¿?¡!\"):\n",
    "    text= text.replace(x, \" \")"
   ]
  },
  {
   "cell_type": "code",
   "execution_count": 25,
   "metadata": {
    "collapsed": true
   },
   "outputs": [],
   "source": [
    "text= text [1:]"
   ]
  },
  {
   "cell_type": "code",
   "execution_count": 26,
   "metadata": {},
   "outputs": [
    {
     "data": {
      "text/plain": [
       "'ay del que dice  ay  y lo dice porque no hay \\n cóm'"
      ]
     },
     "execution_count": 26,
     "metadata": {},
     "output_type": "execute_result"
    }
   ],
   "source": [
    "text[: 50]"
   ]
  },
  {
   "cell_type": "code",
   "execution_count": 27,
   "metadata": {
    "collapsed": true
   },
   "outputs": [],
   "source": [
    "text_div= text.split ( \"\\n\")"
   ]
  },
  {
   "cell_type": "code",
   "execution_count": 28,
   "metadata": {},
   "outputs": [
    {
     "data": {
      "text/plain": [
       "['ay del que dice  ay  y lo dice porque no hay ',\n",
       " ' cómo estarán los infiernos, que hasta los diablos se salen ',\n",
       " ' cuántas veces sollozando se está riendo una mujer ',\n",
       " ' sácale cañas al tercio, aunque se afloje la carga ',\n",
       " ' ser poco el amor, y que se vaya en celos ',\n",
       " ' chata, china y chaparra ,  que ande el burro ',\n",
       " ' cómo dios no da hijos a los ricos ',\n",
       " ' con atolito vamos sanando , pues atolito vámosle dando',\n",
       " ' cuándo se ha visto al gato hacer ronda con los ratones ',\n",
       " ' de dónde le viene a bartolo el  me , si su padre no era borrego ',\n",
       " ' dónde es tu tierra ; donde la pases, no donde naces',\n",
       " ' ir a méxico a bobear ; en tu casa quedar',\n",
       " ' las quieres enamoradas ; que se sientan despreciadas',\n",
       " ' no le tienes cariño a tu dinero , métete a minero',\n",
       " ' no te busca un rico , malo;  te busca un pobre , peor',\n",
       " ' para qué son las campanas, si se asustan del repique ',\n",
       " ' para qué son tantos brincos, estando el suelo parejo ',\n",
       " ' por qué te asustas, colima, de ver la tierra salada ',\n",
       " ' qué entendéis por los infiernos ; suegros, cuñados y yernos',\n",
       " ' qué ha de dar san sebastián, cuando ni calzones tiene ']"
      ]
     },
     "execution_count": 28,
     "metadata": {},
     "output_type": "execute_result"
    }
   ],
   "source": [
    "text_div [:20]"
   ]
  },
  {
   "cell_type": "code",
   "execution_count": 29,
   "metadata": {
    "collapsed": true
   },
   "outputs": [],
   "source": [
    "pat = re.compile(r'para\\b(.[^ ]+ ){0,1}.[^ ]+(ar|er|ir)(\\b|la|le|se|nos|te|me)')\n",
    "matching2= [s for s in text_div if pat.search(s.lower())]"
   ]
  },
  {
   "cell_type": "code",
   "execution_count": 30,
   "metadata": {},
   "outputs": [
    {
     "data": {
      "text/plain": [
       "['ahi dios me dará lo mío, para no desear lo ajeno',\n",
       " 'da gracias que el coscorrón sirve para dar sombra',\n",
       " 'debemos comer para vivir y de ningún modo vivir para comer',\n",
       " 'dos, para quererse, deben parecerse',\n",
       " 'el camino más corto para hacer muchas cosas, es hacer una sola sucesivamente',\n",
       " 'el peine que más raspa, es el mejor para quitar la caspa',\n",
       " 'el que presta la mujer para bailar o el caballo para torear, no tiene que reclamar',\n",
       " 'el trabajo es la virtud de los que no tienen mérito para vivir sin trabajar',\n",
       " 'es necesario pensar para hablar, y no hablar para pensar',\n",
       " 'hace falta un huevo para tener un pollo',\n",
       " 'hasta de una piedra necesita uno para darse un hocicazo',\n",
       " 'hay huevos que no sirven para echar',\n",
       " 'hay que perdonar el pasado, para disfrutar el presente',\n",
       " 'hondear para tablerar',\n",
       " 'los cuernos son como los dientes: primero suelen doler, y después sirven para comer',\n",
       " 'maderas hay para santos, y otras para hacer carbón',\n",
       " 'maíz para mantener, trigo para enriquecer y cebada para empobrecer',\n",
       " 'no salgas a la garita para recibir los males',\n",
       " 'nunca obres para pensar, mejor piensa para obrar',\n",
       " 'para afanar al descuento, hay que tener truchas baisas',\n",
       " 'para agarrar borrachera, bueno es el vino cualquiera',\n",
       " 'para amar a dios, no hay que dar de gritos',\n",
       " 'para bailar jarabe, con quien lo sabe',\n",
       " 'para chorar o burear, ni beruco ni beruca',\n",
       " 'para colear, arción corta; para el pueblo, arción mediana, y para el camino, larga',\n",
       " 'para criar, los padres; para malcriar, los abuelos',\n",
       " 'para dejar de llover, por san miguel',\n",
       " 'para dejar el pellejo, lo mismo es hoy que mañana',\n",
       " 'para ensillar, uno; para desensillar, cualquiera',\n",
       " 'para lazar y no mancar, ni una ni más de dos amarrar',\n",
       " 'para morirse, nacer, estornudar y calzonear, no se puede uno esperar',\n",
       " 'para no emborracharse, hay que beber con tasa y medida',\n",
       " 'para poco ganar, vale más vagar',\n",
       " 'para poder calar, buena labradora',\n",
       " 'para poder chinar, ondear',\n",
       " 'para recibir dinero, todo tiempo es bueno',\n",
       " 'para saber mandar, saber hacerlo',\n",
       " 'para tener cien yernos no es necesario tener cien hijas; basta con una que salga coqueta',\n",
       " 'pretextos quiere la muerte, para llevarse al enfermo',\n",
       " 'se me hace chico el mar para hacer un buche de agua',\n",
       " 'si te buscan para apañarte, a tiempo pírate',\n",
       " 'teniendo capital para abrir un restaurante, no temo al estómago más voraz del mundo']"
      ]
     },
     "execution_count": 30,
     "metadata": {},
     "output_type": "execute_result"
    }
   ],
   "source": [
    "matching2"
   ]
  },
  {
   "cell_type": "code",
   "execution_count": null,
   "metadata": {
    "collapsed": true
   },
   "outputs": [],
   "source": []
  }
 ],
 "metadata": {
  "kernelspec": {
   "display_name": "Python 3",
   "language": "python",
   "name": "python3"
  },
  "language_info": {
   "codemirror_mode": {
    "name": "ipython",
    "version": 3
   },
   "file_extension": ".py",
   "mimetype": "text/x-python",
   "name": "python",
   "nbconvert_exporter": "python",
   "pygments_lexer": "ipython3",
   "version": "3.6.3"
  }
 },
 "nbformat": 4,
 "nbformat_minor": 2
}
