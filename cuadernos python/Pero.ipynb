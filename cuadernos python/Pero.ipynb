{
 "cells": [
  {
   "cell_type": "code",
   "execution_count": 1,
   "metadata": {
    "collapsed": true
   },
   "outputs": [],
   "source": [
    "achivo = open (r\"PRom.txt\" , encoding = \"utf-8\")"
   ]
  },
  {
   "cell_type": "code",
   "execution_count": 2,
   "metadata": {
    "collapsed": true
   },
   "outputs": [],
   "source": [
    "text= achivo.read().lower ()"
   ]
  },
  {
   "cell_type": "code",
   "execution_count": 3,
   "metadata": {
    "collapsed": true
   },
   "outputs": [],
   "source": [
    "for x in (\" \\” \\“\\\"#$%&/()'¿?¡!\"):\n",
    "    text= text.replace(x, \" \")"
   ]
  },
  {
   "cell_type": "code",
   "execution_count": 4,
   "metadata": {
    "collapsed": true
   },
   "outputs": [],
   "source": [
    "text= text [1:]"
   ]
  },
  {
   "cell_type": "code",
   "execution_count": 5,
   "metadata": {},
   "outputs": [
    {
     "data": {
      "text/plain": [
       "'a 3 de abril  el cuclillo ha de venir;  y si no vi'"
      ]
     },
     "execution_count": 5,
     "metadata": {},
     "output_type": "execute_result"
    }
   ],
   "source": [
    "text[: 50]"
   ]
  },
  {
   "cell_type": "code",
   "execution_count": 6,
   "metadata": {
    "collapsed": true
   },
   "outputs": [],
   "source": [
    "text_div= text.split ( \"\\n\")"
   ]
  },
  {
   "cell_type": "code",
   "execution_count": 7,
   "metadata": {},
   "outputs": [
    {
     "data": {
      "text/plain": [
       "['a 3 de abril  el cuclillo ha de venir;  y si no viniere el 8,  o es preso o es morto',\n",
       " 'a abril con sus chaparrones, sigue mayo con sus flores',\n",
       " 'a concejo de mañana y agua de tarde, no hay que temblarle',\n",
       " 'a helada de abril, hambre ha de seguir',\n",
       " 'a invierno malhechor, primavera peor',\n",
       " 'a la primera agua de octubre, siembra y cubre',\n",
       " 'a las tres escarchas, la lluvia no falta',\n",
       " 'a los tres días de abril, el cuclillo ha de haber vuelto; si no ha llegado a los ocho, o lo cogieron o ha muerto',\n",
       " 'a marzo alabo, si no vuelve el rabo',\n",
       " 'a nube madrugadora, piedra traidora',\n",
       " 'a quien quieras mal mándalo a écija a veranear',\n",
       " 'a quince de marzo, da el sol en la umbría y canta la totovía',\n",
       " 'a turbonada de oviedo, no tengas miedo',\n",
       " 'abejas revueltas, tempestad a vueltas',\n",
       " 'abriga la nieve al trigo, como la madre a su hijo',\n",
       " 'abril abrilero, siempre es traicionero',\n",
       " 'abril empezado, invierno acabado',\n",
       " 'abril frío y mojado hinche el granero y hasta el ganado',\n",
       " 'abril fuera bueno si el gallego no anduviera',\n",
       " 'abril hace las puertas cerrar y abrir, y a los cochinos gruñir']"
      ]
     },
     "execution_count": 7,
     "metadata": {},
     "output_type": "execute_result"
    }
   ],
   "source": [
    "text_div [:20]"
   ]
  },
  {
   "cell_type": "code",
   "execution_count": 8,
   "metadata": {
    "collapsed": true
   },
   "outputs": [],
   "source": [
    "matching = [s for s in text_div if  \" pero \" in s]"
   ]
  },
  {
   "cell_type": "code",
   "execution_count": 9,
   "metadata": {},
   "outputs": [
    {
     "data": {
      "text/plain": [
       "['araña por la mañana, señal mala; pero si por la tarde la encuentras, señal buena',\n",
       " 'cuando la aloda canta, agua viene. pero aún es señal mas  clara, cuando llueve',\n",
       " 'el día de la candelaria, está el invierno fuera; pero si no ha nevado y quiere nevar, invierno por comenzar',\n",
       " 'en el mes de abril toda el agua cabe en un barril; pero si el barril está desfondado, todo el campo está anegado',\n",
       " 'esta brochina de guara no se oye, pero corta la cara',\n",
       " 'la neblina, del agua es madrina; pero si es con seca, más seca',\n",
       " 'las aguas de abril todas caben en un barril; pero si el barril no tiene culo, se anegará medio mundo',\n",
       " 'marzo, marzueco, déjame dos: uno pa manso y otro pa mureco. - sí te lo dejaré, pero te lo rabotearé',\n",
       " 'mayo frío, cría trigo; pero si es muy frío, ni paja ni trigo',\n",
       " 'por san martino, las nieblas vienen ya de camino; pero san antón, barre las nieblas a un rincón',\n",
       " 'por la candelera, está el invierno fuera; pero si nieva por san blas, treinta días más',\n",
       " 'si alto vuela la golondrina, buen tiempo se avecina; pero si van por tierra, luego, luego, se anega',\n",
       " 'si el agua vien antes del viento, arriza vela sin perder momento; pero si el viento vien primero, no hay novedad, marinero']"
      ]
     },
     "execution_count": 9,
     "metadata": {},
     "output_type": "execute_result"
    }
   ],
   "source": [
    "matching"
   ]
  },
  {
   "cell_type": "code",
   "execution_count": 10,
   "metadata": {
    "collapsed": true
   },
   "outputs": [],
   "source": [
    "achivo = open (r\"RMulti.txt\" , encoding = \"utf-8\")"
   ]
  },
  {
   "cell_type": "code",
   "execution_count": 11,
   "metadata": {
    "collapsed": true
   },
   "outputs": [],
   "source": [
    "text= achivo.read().lower ()"
   ]
  },
  {
   "cell_type": "code",
   "execution_count": 12,
   "metadata": {
    "collapsed": true
   },
   "outputs": [],
   "source": [
    "for x in (\" \\” \\“\\\"#$%&/()'¿?¡!\"):\n",
    "    text= text.replace(x, \" \")"
   ]
  },
  {
   "cell_type": "code",
   "execution_count": 13,
   "metadata": {
    "collapsed": true
   },
   "outputs": [],
   "source": [
    "text= text [1:]"
   ]
  },
  {
   "cell_type": "code",
   "execution_count": 14,
   "metadata": {},
   "outputs": [
    {
     "data": {
      "text/plain": [
       "' amor mal correspondido, ausencia y olvido\\na barri'"
      ]
     },
     "execution_count": 14,
     "metadata": {},
     "output_type": "execute_result"
    }
   ],
   "source": [
    "text[: 50]"
   ]
  },
  {
   "cell_type": "code",
   "execution_count": 15,
   "metadata": {
    "collapsed": true
   },
   "outputs": [],
   "source": [
    "text_div= text.split ( \"\\n\")"
   ]
  },
  {
   "cell_type": "code",
   "execution_count": 16,
   "metadata": {},
   "outputs": [
    {
     "data": {
      "text/plain": [
       "[' amor mal correspondido, ausencia y olvido',\n",
       " 'a barriga llena, corazón contento',\n",
       " 'a bien obrar, bien pagar',\n",
       " 'a boda ni bautizo, no vayas sin ser llamado',\n",
       " 'a buen entendedor, pocas palabras bastan',\n",
       " 'a buen gato, buen rato',\n",
       " 'a buen hambre no hay pan duro',\n",
       " 'a buen servicio, mal galardón',\n",
       " 'a buen sueño no hay mala cama',\n",
       " 'a buenas horas, mangas verdes',\n",
       " 'a buey viejo, cencerro nuevo',\n",
       " 'a burro muerto, la cebada al rabo',\n",
       " 'a caballero nuevo, caballo viejo',\n",
       " 'a caballo nuevo, jinete viejo',\n",
       " 'a caballo regalado, no le mires el diente',\n",
       " 'a cada cerdo le llega su san martín',\n",
       " 'a cada olla, su cobertera',\n",
       " 'a cada pajarillo le gusta su nidillo',\n",
       " 'a cada puerta, su dueña',\n",
       " 'a cada uno lo suyo']"
      ]
     },
     "execution_count": 16,
     "metadata": {},
     "output_type": "execute_result"
    }
   ],
   "source": [
    "text_div [:20]"
   ]
  },
  {
   "cell_type": "code",
   "execution_count": 17,
   "metadata": {
    "collapsed": true
   },
   "outputs": [],
   "source": [
    "matching1 = [s for s in text_div if   \" pero \" in s]"
   ]
  },
  {
   "cell_type": "code",
   "execution_count": 18,
   "metadata": {},
   "outputs": [
    {
     "data": {
      "text/plain": [
       "['besos y abrazos no hacen chiquillos, pero tocan a vísperas',\n",
       " 'de mí te reirás, pero de mi dinero, no',\n",
       " 'dios aprieta, pero no ahoga',\n",
       " 'formajo, pero y pan, pasto de villán',\n",
       " 'la gordura no es hermosura, pero muchos defectos disimula',\n",
       " 'la lengua no tiene hueso, pero corta lo más grueso',\n",
       " 'la pimienta es chica, pero pica',\n",
       " 'la verdad adelgaza, pero no quiebra',\n",
       " 'los huéspedes mucho gusto dan, pero cuando se van',\n",
       " 'mucho sabe la zorra, pero más el que la toma',\n",
       " 'poco se gana a hilar, pero menos a mirar',\n",
       " 'se dice el pecado pero no el pecador',\n",
       " 'sembrarás cuando podrás, pero en junio segarás',\n",
       " 'un grano no hace granero, pero ayuda al compañero']"
      ]
     },
     "execution_count": 18,
     "metadata": {},
     "output_type": "execute_result"
    }
   ],
   "source": [
    "matching1"
   ]
  },
  {
   "cell_type": "code",
   "execution_count": 19,
   "metadata": {
    "collapsed": true
   },
   "outputs": [],
   "source": [
    "achivo = open (r\"RMx.txt\" , encoding = \"utf-8\")"
   ]
  },
  {
   "cell_type": "code",
   "execution_count": 20,
   "metadata": {
    "collapsed": true
   },
   "outputs": [],
   "source": [
    "text= achivo.read().lower ()"
   ]
  },
  {
   "cell_type": "code",
   "execution_count": 21,
   "metadata": {
    "collapsed": true
   },
   "outputs": [],
   "source": [
    "for x in (\" \\” \\“\\\"#$%&/()'¿?¡!\"):\n",
    "    text= text.replace(x, \" \")"
   ]
  },
  {
   "cell_type": "code",
   "execution_count": 22,
   "metadata": {
    "collapsed": true
   },
   "outputs": [],
   "source": [
    "text= text [1:]"
   ]
  },
  {
   "cell_type": "code",
   "execution_count": 23,
   "metadata": {},
   "outputs": [
    {
     "data": {
      "text/plain": [
       "'ay del que dice  ay  y lo dice porque no hay \\n cóm'"
      ]
     },
     "execution_count": 23,
     "metadata": {},
     "output_type": "execute_result"
    }
   ],
   "source": [
    "text[:50]"
   ]
  },
  {
   "cell_type": "code",
   "execution_count": 24,
   "metadata": {
    "collapsed": true
   },
   "outputs": [],
   "source": [
    "text_div= text.split ( \"\\n\")"
   ]
  },
  {
   "cell_type": "code",
   "execution_count": 25,
   "metadata": {},
   "outputs": [
    {
     "data": {
      "text/plain": [
       "['ay del que dice  ay  y lo dice porque no hay ',\n",
       " ' cómo estarán los infiernos, que hasta los diablos se salen ',\n",
       " ' cuántas veces sollozando se está riendo una mujer ',\n",
       " ' sácale cañas al tercio, aunque se afloje la carga ',\n",
       " ' ser poco el amor, y que se vaya en celos ',\n",
       " ' chata, china y chaparra ,  que ande el burro ',\n",
       " ' cómo dios no da hijos a los ricos ',\n",
       " ' con atolito vamos sanando , pues atolito vámosle dando',\n",
       " ' cuándo se ha visto al gato hacer ronda con los ratones ',\n",
       " ' de dónde le viene a bartolo el  me , si su padre no era borrego ',\n",
       " ' dónde es tu tierra ; donde la pases, no donde naces',\n",
       " ' ir a méxico a bobear ; en tu casa quedar',\n",
       " ' las quieres enamoradas ; que se sientan despreciadas',\n",
       " ' no le tienes cariño a tu dinero , métete a minero',\n",
       " ' no te busca un rico , malo;  te busca un pobre , peor',\n",
       " ' para qué son las campanas, si se asustan del repique ',\n",
       " ' para qué son tantos brincos, estando el suelo parejo ',\n",
       " ' por qué te asustas, colima, de ver la tierra salada ',\n",
       " ' qué entendéis por los infiernos ; suegros, cuñados y yernos',\n",
       " ' qué ha de dar san sebastián, cuando ni calzones tiene ']"
      ]
     },
     "execution_count": 25,
     "metadata": {},
     "output_type": "execute_result"
    }
   ],
   "source": [
    "text_div [:20]"
   ]
  },
  {
   "cell_type": "code",
   "execution_count": 26,
   "metadata": {
    "collapsed": true
   },
   "outputs": [],
   "source": [
    "matching2 = [s for s in text_div if  \" pero \" in s]"
   ]
  },
  {
   "cell_type": "code",
   "execution_count": 27,
   "metadata": {},
   "outputs": [
    {
     "data": {
      "text/plain": [
       "['al pasar el río,   ay, santito mío  ; pero ya pasado, santo olvidado',\n",
       " 'al viejo, un potro; pero al muchacho, caballo viejo',\n",
       " 'amigos hasta morir, pero de prestarte, nada hay que decir',\n",
       " 'andando en el campo llano, como lo quiera el cristiano; pero en subiendo la cuesta, como lo quiera la bestia',\n",
       " 'baila, pero no cantes',\n",
       " 'bailar, pero no hormiguear',\n",
       " 'buena es la marcialidad, pero no pelarse tanto',\n",
       " 'bueno es fregar con jabón, pero no con estropajo',\n",
       " 'bueno es hacerse el tupé, pero no pelarse tanto',\n",
       " 'bueno es por gusto bailar, pero no pelarse tanto',\n",
       " 'bueno es raspar, pero no arrancar los magueyes',\n",
       " 'bueno es, fregona, el ostentar la persona, pero no pelarse tanto',\n",
       " 'compañeros del camino, pero no del itacate',\n",
       " 'correr es vergonzoso, pero saludable',\n",
       " 'cualquiera toca el cilindro, pero no todos lo cargan',\n",
       " 'cuando el tecolote canta, el indio muere; no es cierto, pero sucede',\n",
       " 'cuesta mucho el saber, pero cuesta más el no saber',\n",
       " 'de la mujer mal puedes hablar, pero sólo hasta que llega la hora de acostar',\n",
       " 'del enemigo de fuera se puede escapar; pero del de dentro, no',\n",
       " 'del rayo se salva uno, pero de la raya, no',\n",
       " 'dios castiga, pero da de comer',\n",
       " 'dios castiga, pero no destruye',\n",
       " 'dios tarda, pero no olvida',\n",
       " 'el amor de los pobres es como el espinazo de puerco: pelado, pero muy sabroso',\n",
       " 'el arranque es duro, pero no muy seguro',\n",
       " 'el dinero rueda y a veces vuelve, pero la vida no retoña',\n",
       " 'el dinero se paga, pero el favor no',\n",
       " 'el gallo tiene buenas alas, pero nunca quiso usarlas',\n",
       " 'el mal de amores duele, pero no mata',\n",
       " 'el trabajo te ennoblece, pero también te envejece',\n",
       " 'el vino anima, pero no ayuda',\n",
       " 'en todas las casas debe haber un viejo y un burro; pero que ni el viejo sea tan burro ni el burro tan viejo',\n",
       " 'es bonito rasguñar, pero es feo clavar las uñas',\n",
       " 'es bueno acostarse en la zalea, pero no arrancar la lana',\n",
       " 'es bueno comer, pero no patear el pesebre',\n",
       " 'es bueno cortar el pelo, pero no raparse tanto',\n",
       " 'es bueno el encaje, pero no tan ancho',\n",
       " 'es bueno entrar al potrero, pero no arrancar el pasto',\n",
       " 'es bueno ser algo feo, pero no tan cacarizo',\n",
       " 'es bueno ser puerco, pero no tan trompudo',\n",
       " 'espuelas de las mejores para el caballo mejor, pero en mejores tacones',\n",
       " 'frío o caliente, pero a sus horas',\n",
       " 'fuerte es el dolor de viuda, pero pronto pasa',\n",
       " 'hay que ser franco, pero no tanto',\n",
       " 'hay quien dé, pero no quien ruegue',\n",
       " 'la embriaguez anima, pero no ayuda',\n",
       " 'las veredas quitarán, pero la querencia,  cuándo ',\n",
       " 'lazar bien o regular, en el campo es indiferente; pero delante de la gente, lazar bien o no lazar',\n",
       " 'lo robado no luce, pero mantiene',\n",
       " 'los muertos nada se llevan, pero nada dejan',\n",
       " 'los pollos crecen en el campo, pero en la ciudad se los comen',\n",
       " 'no es buena la venganza, pero sí la desquitanza',\n",
       " 'puede el peón mudar de dueño, pero no de condición',\n",
       " 'quien presta un libro es pendejo, pero es más quien lo devuelve',\n",
       " 'quítese el agrio a un limón, pero no se le extraiga el zumo',\n",
       " 'si sueñas que tienes dinero, no lo creas; pero si sueñas que el diablo te lleva, no lo dudes',\n",
       " 'son muchos los burros pardos, pero el de juan es otro',\n",
       " 'todo árbol es madera, pero el ocote no es caoba',\n",
       " 'una vez es chiste, dos es gracia, pero la tercera es una chingadera',\n",
       " 'viuda y fea, pero platuda, es siempre una hermosa viuda']"
      ]
     },
     "execution_count": 27,
     "metadata": {},
     "output_type": "execute_result"
    }
   ],
   "source": [
    "matching2"
   ]
  },
  {
   "cell_type": "code",
   "execution_count": null,
   "metadata": {
    "collapsed": true
   },
   "outputs": [],
   "source": []
  }
 ],
 "metadata": {
  "kernelspec": {
   "display_name": "Python 3",
   "language": "python",
   "name": "python3"
  },
  "language_info": {
   "codemirror_mode": {
    "name": "ipython",
    "version": 3
   },
   "file_extension": ".py",
   "mimetype": "text/x-python",
   "name": "python",
   "nbconvert_exporter": "python",
   "pygments_lexer": "ipython3",
   "version": "3.6.2"
  }
 },
 "nbformat": 4,
 "nbformat_minor": 2
}
