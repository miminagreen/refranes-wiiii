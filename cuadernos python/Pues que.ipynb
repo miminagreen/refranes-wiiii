{
 "cells": [
  {
   "cell_type": "code",
   "execution_count": 1,
   "metadata": {
    "collapsed": true
   },
   "outputs": [],
   "source": [
    "achivo = open (r\"PRom.txt\" , encoding = \"utf-8\")"
   ]
  },
  {
   "cell_type": "code",
   "execution_count": 2,
   "metadata": {
    "collapsed": true
   },
   "outputs": [],
   "source": [
    "text= achivo.read().lower ()"
   ]
  },
  {
   "cell_type": "code",
   "execution_count": 3,
   "metadata": {
    "collapsed": true
   },
   "outputs": [],
   "source": [
    "for x in (\" \\” \\“\\\"#$%&/()'¿?¡!\"):\n",
    "    text= text.replace(x, \" \")"
   ]
  },
  {
   "cell_type": "code",
   "execution_count": 4,
   "metadata": {
    "collapsed": true
   },
   "outputs": [],
   "source": [
    "text= text [1:]"
   ]
  },
  {
   "cell_type": "code",
   "execution_count": 5,
   "metadata": {},
   "outputs": [
    {
     "data": {
      "text/plain": [
       "'a 3 de abril  el cuclillo ha de venir;  y si no vi'"
      ]
     },
     "execution_count": 5,
     "metadata": {},
     "output_type": "execute_result"
    }
   ],
   "source": [
    "text[: 50]"
   ]
  },
  {
   "cell_type": "code",
   "execution_count": 6,
   "metadata": {
    "collapsed": true
   },
   "outputs": [],
   "source": [
    "text_div= text.split ( \"\\n\")"
   ]
  },
  {
   "cell_type": "code",
   "execution_count": 7,
   "metadata": {},
   "outputs": [
    {
     "data": {
      "text/plain": [
       "['a 3 de abril  el cuclillo ha de venir;  y si no viniere el 8,  o es preso o es morto',\n",
       " 'a abril con sus chaparrones, sigue mayo con sus flores',\n",
       " 'a concejo de mañana y agua de tarde, no hay que temblarle',\n",
       " 'a helada de abril, hambre ha de seguir',\n",
       " 'a invierno malhechor, primavera peor',\n",
       " 'a la primera agua de octubre, siembra y cubre',\n",
       " 'a las tres escarchas, la lluvia no falta',\n",
       " 'a los tres días de abril, el cuclillo ha de haber vuelto; si no ha llegado a los ocho, o lo cogieron o ha muerto',\n",
       " 'a marzo alabo, si no vuelve el rabo',\n",
       " 'a nube madrugadora, piedra traidora',\n",
       " 'a quien quieras mal mándalo a écija a veranear',\n",
       " 'a quince de marzo, da el sol en la umbría y canta la totovía',\n",
       " 'a turbonada de oviedo, no tengas miedo',\n",
       " 'abejas revueltas, tempestad a vueltas',\n",
       " 'abriga la nieve al trigo, como la madre a su hijo',\n",
       " 'abril abrilero, siempre es traicionero',\n",
       " 'abril empezado, invierno acabado',\n",
       " 'abril frío y mojado hinche el granero y hasta el ganado',\n",
       " 'abril fuera bueno si el gallego no anduviera',\n",
       " 'abril hace las puertas cerrar y abrir, y a los cochinos gruñir']"
      ]
     },
     "execution_count": 7,
     "metadata": {},
     "output_type": "execute_result"
    }
   ],
   "source": [
    "text_div [:20]"
   ]
  },
  {
   "cell_type": "code",
   "execution_count": 8,
   "metadata": {
    "collapsed": true
   },
   "outputs": [],
   "source": [
    "matching = [s for s in text_div if  \"pues que\" in s]"
   ]
  },
  {
   "cell_type": "code",
   "execution_count": 9,
   "metadata": {},
   "outputs": [
    {
     "data": {
      "text/plain": [
       "[]"
      ]
     },
     "execution_count": 9,
     "metadata": {},
     "output_type": "execute_result"
    }
   ],
   "source": [
    "matching"
   ]
  },
  {
   "cell_type": "code",
   "execution_count": 10,
   "metadata": {
    "collapsed": true
   },
   "outputs": [],
   "source": [
    "achivo = open (r\"RMulti.txt\" , encoding = \"utf-8\")"
   ]
  },
  {
   "cell_type": "code",
   "execution_count": 11,
   "metadata": {
    "collapsed": true
   },
   "outputs": [],
   "source": [
    "text= achivo.read().lower ()"
   ]
  },
  {
   "cell_type": "code",
   "execution_count": 12,
   "metadata": {
    "collapsed": true
   },
   "outputs": [],
   "source": [
    "for x in (\" \\” \\“\\\"#$%&/()'¿?¡!\"):\n",
    "    text= text.replace(x, \" \")"
   ]
  },
  {
   "cell_type": "code",
   "execution_count": 13,
   "metadata": {
    "collapsed": true
   },
   "outputs": [],
   "source": [
    "text= text [1:]"
   ]
  },
  {
   "cell_type": "code",
   "execution_count": 14,
   "metadata": {},
   "outputs": [
    {
     "data": {
      "text/plain": [
       "' amor mal correspondido, ausencia y olvido\\na barri'"
      ]
     },
     "execution_count": 14,
     "metadata": {},
     "output_type": "execute_result"
    }
   ],
   "source": [
    "text[: 50]"
   ]
  },
  {
   "cell_type": "code",
   "execution_count": 15,
   "metadata": {
    "collapsed": true
   },
   "outputs": [],
   "source": [
    "text_div= text.split ( \"\\n\")"
   ]
  },
  {
   "cell_type": "code",
   "execution_count": 16,
   "metadata": {},
   "outputs": [
    {
     "data": {
      "text/plain": [
       "[' amor mal correspondido, ausencia y olvido',\n",
       " 'a barriga llena, corazón contento',\n",
       " 'a bien obrar, bien pagar',\n",
       " 'a boda ni bautizo, no vayas sin ser llamado',\n",
       " 'a buen entendedor, pocas palabras bastan',\n",
       " 'a buen gato, buen rato',\n",
       " 'a buen hambre no hay pan duro',\n",
       " 'a buen servicio, mal galardón',\n",
       " 'a buen sueño no hay mala cama',\n",
       " 'a buenas horas, mangas verdes',\n",
       " 'a buey viejo, cencerro nuevo',\n",
       " 'a burro muerto, la cebada al rabo',\n",
       " 'a caballero nuevo, caballo viejo',\n",
       " 'a caballo nuevo, jinete viejo',\n",
       " 'a caballo regalado, no le mires el diente',\n",
       " 'a cada cerdo le llega su san martín',\n",
       " 'a cada olla, su cobertera',\n",
       " 'a cada pajarillo le gusta su nidillo',\n",
       " 'a cada puerta, su dueña',\n",
       " 'a cada uno lo suyo']"
      ]
     },
     "execution_count": 16,
     "metadata": {},
     "output_type": "execute_result"
    }
   ],
   "source": [
    "text_div [:20]"
   ]
  },
  {
   "cell_type": "code",
   "execution_count": 17,
   "metadata": {
    "collapsed": true
   },
   "outputs": [],
   "source": [
    "matching1 = [s for s in text_div if  \"pues que\" in s]"
   ]
  },
  {
   "cell_type": "code",
   "execution_count": 18,
   "metadata": {},
   "outputs": [
    {
     "data": {
      "text/plain": [
       "[]"
      ]
     },
     "execution_count": 18,
     "metadata": {},
     "output_type": "execute_result"
    }
   ],
   "source": [
    "matching1"
   ]
  },
  {
   "cell_type": "code",
   "execution_count": 19,
   "metadata": {
    "collapsed": true
   },
   "outputs": [],
   "source": [
    "achivo = open (r\"RMx.txt\" , encoding = \"utf-8\")"
   ]
  },
  {
   "cell_type": "code",
   "execution_count": 20,
   "metadata": {
    "collapsed": true
   },
   "outputs": [],
   "source": [
    "text= achivo.read().lower ()"
   ]
  },
  {
   "cell_type": "code",
   "execution_count": 21,
   "metadata": {
    "collapsed": true
   },
   "outputs": [],
   "source": [
    "for x in (\" \\” \\“\\\"#$%&/()'¿?¡!\"):\n",
    "    text= text.replace(x, \" \")"
   ]
  },
  {
   "cell_type": "code",
   "execution_count": 22,
   "metadata": {
    "collapsed": true
   },
   "outputs": [],
   "source": [
    "text= text [1:]"
   ]
  },
  {
   "cell_type": "code",
   "execution_count": 23,
   "metadata": {},
   "outputs": [
    {
     "data": {
      "text/plain": [
       "'ay del que dice  ay  y lo dice porque no hay \\n cóm'"
      ]
     },
     "execution_count": 23,
     "metadata": {},
     "output_type": "execute_result"
    }
   ],
   "source": [
    "text[:50]"
   ]
  },
  {
   "cell_type": "code",
   "execution_count": 24,
   "metadata": {
    "collapsed": true
   },
   "outputs": [],
   "source": [
    "text_div= text.split ( \"\\n\")"
   ]
  },
  {
   "cell_type": "code",
   "execution_count": 25,
   "metadata": {},
   "outputs": [
    {
     "data": {
      "text/plain": [
       "['ay del que dice  ay  y lo dice porque no hay ',\n",
       " ' cómo estarán los infiernos, que hasta los diablos se salen ',\n",
       " ' cuántas veces sollozando se está riendo una mujer ',\n",
       " ' sácale cañas al tercio, aunque se afloje la carga ',\n",
       " ' ser poco el amor, y que se vaya en celos ',\n",
       " ' chata, china y chaparra ,  que ande el burro ',\n",
       " ' cómo dios no da hijos a los ricos ',\n",
       " ' con atolito vamos sanando , pues atolito vámosle dando',\n",
       " ' cuándo se ha visto al gato hacer ronda con los ratones ',\n",
       " ' de dónde le viene a bartolo el  me , si su padre no era borrego ',\n",
       " ' dónde es tu tierra ; donde la pases, no donde naces',\n",
       " ' ir a méxico a bobear ; en tu casa quedar',\n",
       " ' las quieres enamoradas ; que se sientan despreciadas',\n",
       " ' no le tienes cariño a tu dinero , métete a minero',\n",
       " ' no te busca un rico , malo;  te busca un pobre , peor',\n",
       " ' para qué son las campanas, si se asustan del repique ',\n",
       " ' para qué son tantos brincos, estando el suelo parejo ',\n",
       " ' por qué te asustas, colima, de ver la tierra salada ',\n",
       " ' qué entendéis por los infiernos ; suegros, cuñados y yernos',\n",
       " ' qué ha de dar san sebastián, cuando ni calzones tiene ']"
      ]
     },
     "execution_count": 25,
     "metadata": {},
     "output_type": "execute_result"
    }
   ],
   "source": [
    "text_div [:20]"
   ]
  },
  {
   "cell_type": "code",
   "execution_count": 26,
   "metadata": {
    "collapsed": true
   },
   "outputs": [],
   "source": [
    "matching2 = [s for s in text_div if  \"pues que\" in s]"
   ]
  },
  {
   "cell_type": "code",
   "execution_count": 27,
   "metadata": {},
   "outputs": [
    {
     "data": {
      "text/plain": [
       "['caballo blanco, sólo de lejos, pues que montarlo, los muy pendejos']"
      ]
     },
     "execution_count": 27,
     "metadata": {},
     "output_type": "execute_result"
    }
   ],
   "source": [
    "matching2"
   ]
  },
  {
   "cell_type": "code",
   "execution_count": null,
   "metadata": {
    "collapsed": true
   },
   "outputs": [],
   "source": []
  }
 ],
 "metadata": {
  "kernelspec": {
   "display_name": "Python 3",
   "language": "python",
   "name": "python3"
  },
  "language_info": {
   "codemirror_mode": {
    "name": "ipython",
    "version": 3
   },
   "file_extension": ".py",
   "mimetype": "text/x-python",
   "name": "python",
   "nbconvert_exporter": "python",
   "pygments_lexer": "ipython3",
   "version": "3.6.2"
  }
 },
 "nbformat": 4,
 "nbformat_minor": 2
}
