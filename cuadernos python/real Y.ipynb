{
 "cells": [
  {
   "cell_type": "code",
   "execution_count": 44,
   "metadata": {
    "collapsed": true
   },
   "outputs": [],
   "source": [
    "achivo = open (r\"/home/nalvaradoa/tesis/txt/RMulti.txt\" , encoding = \"utf-8\")"
   ]
  },
  {
   "cell_type": "code",
   "execution_count": 45,
   "metadata": {
    "collapsed": true
   },
   "outputs": [],
   "source": [
    "text= achivo.read().lower ()"
   ]
  },
  {
   "cell_type": "code",
   "execution_count": 46,
   "metadata": {
    "collapsed": true
   },
   "outputs": [],
   "source": [
    "for x in (\" \\” \\“\\\"#$%&/()'¿?¡!\"):\n",
    "    text= text.replace(x, \" \")"
   ]
  },
  {
   "cell_type": "code",
   "execution_count": 47,
   "metadata": {
    "collapsed": true
   },
   "outputs": [],
   "source": [
    "text= text [1:]"
   ]
  },
  {
   "cell_type": "code",
   "execution_count": 48,
   "metadata": {},
   "outputs": [
    {
     "data": {
      "text/plain": [
       "' amor mal correspondido, ausencia y olvido\\na barri'"
      ]
     },
     "execution_count": 48,
     "metadata": {},
     "output_type": "execute_result"
    }
   ],
   "source": [
    "text[: 50]"
   ]
  },
  {
   "cell_type": "code",
   "execution_count": 49,
   "metadata": {
    "collapsed": true
   },
   "outputs": [],
   "source": [
    "text_div= text.split ( \"\\n\")"
   ]
  },
  {
   "cell_type": "code",
   "execution_count": 50,
   "metadata": {},
   "outputs": [
    {
     "data": {
      "text/plain": [
       "[' amor mal correspondido, ausencia y olvido',\n",
       " 'a barriga llena, corazón contento',\n",
       " 'a bien obrar, bien pagar',\n",
       " 'a boda ni bautizo, no vayas sin ser llamado',\n",
       " 'a buen entendedor, pocas palabras bastan',\n",
       " 'a buen gato, buen rato',\n",
       " 'a buen hambre no hay pan duro',\n",
       " 'a buen servicio, mal galardón',\n",
       " 'a buen sueño no hay mala cama',\n",
       " 'a buenas horas, mangas verdes',\n",
       " 'a buey viejo, cencerro nuevo',\n",
       " 'a burro muerto, la cebada al rabo',\n",
       " 'a caballero nuevo, caballo viejo',\n",
       " 'a caballo nuevo, jinete viejo',\n",
       " 'a caballo regalado, no le mires el diente',\n",
       " 'a cada cerdo le llega su san martín',\n",
       " 'a cada olla, su cobertera',\n",
       " 'a cada pajarillo le gusta su nidillo',\n",
       " 'a cada puerta, su dueña',\n",
       " 'a cada uno lo suyo']"
      ]
     },
     "execution_count": 50,
     "metadata": {},
     "output_type": "execute_result"
    }
   ],
   "source": [
    "text_div [:20]"
   ]
  },
  {
   "cell_type": "code",
   "execution_count": 51,
   "metadata": {
    "collapsed": true
   },
   "outputs": [],
   "source": [
    "import re\n",
    "pat = re.compile(r' , \\b(.[^ ]+ ){0,1}.[^ ]+(a|e|i)(\\b|la|le|se|nos|te|me)')\n",
    "patSub = re.compile(r' , \\b(.[^ ]+ ){0,1}.[^ ]+(e|es|éis|os|en|ara|aras|aramos|arais|aran|ase|ases|ásemos|aseis|asen|are|ares|áremos|aren|areis|ad)(\\b|la|le|se|nos|te|me)')\n",
    "matching = [s for s in text_div if pat.search(s.lower()) or patSub.search(s.lower())]"
   ]
  },
  {
   "cell_type": "code",
   "execution_count": 52,
   "metadata": {},
   "outputs": [
    {
     "data": {
      "text/plain": [
       "[]"
      ]
     },
     "execution_count": 52,
     "metadata": {},
     "output_type": "execute_result"
    }
   ],
   "source": [
    "matching"
   ]
  },
  {
   "cell_type": "code",
   "execution_count": 53,
   "metadata": {},
   "outputs": [
    {
     "data": {
      "text/plain": [
       "0"
      ]
     },
     "execution_count": 53,
     "metadata": {},
     "output_type": "execute_result"
    }
   ],
   "source": [
    "len (matching)"
   ]
  },
  {
   "cell_type": "code",
   "execution_count": 54,
   "metadata": {
    "collapsed": true
   },
   "outputs": [],
   "source": [
    "achivo = open (r\"/home/nalvaradoa/tesis/txt/PRom.txt\" , encoding = \"utf-8\")"
   ]
  },
  {
   "cell_type": "code",
   "execution_count": 55,
   "metadata": {
    "collapsed": true
   },
   "outputs": [],
   "source": [
    "text= achivo.read().lower ()"
   ]
  },
  {
   "cell_type": "code",
   "execution_count": 56,
   "metadata": {
    "collapsed": true
   },
   "outputs": [],
   "source": [
    "for x in (\" \\” \\“\\\"#$%&/()'¿?¡!\"):\n",
    "    text= text.replace(x, \" \")"
   ]
  },
  {
   "cell_type": "code",
   "execution_count": 57,
   "metadata": {
    "collapsed": true
   },
   "outputs": [],
   "source": [
    "text= text [1:]"
   ]
  },
  {
   "cell_type": "code",
   "execution_count": 58,
   "metadata": {},
   "outputs": [
    {
     "data": {
      "text/plain": [
       "'a 3 de abril  el cuclillo ha de venir;  y si no vi'"
      ]
     },
     "execution_count": 58,
     "metadata": {},
     "output_type": "execute_result"
    }
   ],
   "source": [
    "text[: 50]"
   ]
  },
  {
   "cell_type": "code",
   "execution_count": 59,
   "metadata": {
    "collapsed": true
   },
   "outputs": [],
   "source": [
    "text_div= text.split ( \"\\n\")"
   ]
  },
  {
   "cell_type": "code",
   "execution_count": 60,
   "metadata": {},
   "outputs": [
    {
     "data": {
      "text/plain": [
       "['a 3 de abril  el cuclillo ha de venir;  y si no viniere el 8,  o es preso o es morto',\n",
       " 'a abril con sus chaparrones, sigue mayo con sus flores',\n",
       " 'a concejo de mañana y agua de tarde, no hay que temblarle',\n",
       " 'a helada de abril, hambre ha de seguir',\n",
       " 'a invierno malhechor, primavera peor',\n",
       " 'a la primera agua de octubre, siembra y cubre',\n",
       " 'a las tres escarchas, la lluvia no falta',\n",
       " 'a los tres días de abril, el cuclillo ha de haber vuelto; si no ha llegado a los ocho, o lo cogieron o ha muerto',\n",
       " 'a marzo alabo, si no vuelve el rabo',\n",
       " 'a nube madrugadora, piedra traidora',\n",
       " 'a quien quieras mal mándalo a écija a veranear',\n",
       " 'a quince de marzo, da el sol en la umbría y canta la totovía',\n",
       " 'a turbonada de oviedo, no tengas miedo',\n",
       " 'abejas revueltas, tempestad a vueltas',\n",
       " 'abriga la nieve al trigo, como la madre a su hijo',\n",
       " 'abril abrilero, siempre es traicionero',\n",
       " 'abril empezado, invierno acabado',\n",
       " 'abril frío y mojado hinche el granero y hasta el ganado',\n",
       " 'abril fuera bueno si el gallego no anduviera',\n",
       " 'abril hace las puertas cerrar y abrir, y a los cochinos gruñir']"
      ]
     },
     "execution_count": 60,
     "metadata": {},
     "output_type": "execute_result"
    }
   ],
   "source": [
    "text_div [:20]"
   ]
  },
  {
   "cell_type": "code",
   "execution_count": 61,
   "metadata": {
    "collapsed": true
   },
   "outputs": [],
   "source": [
    "pat = re.compile(r' , \\b(.[^ ]+ ){0,1}.[^ ]+(a|e|i)(\\b|la|le|se|nos|te|me)')\n",
    "patSub = re.compile(r' . \\b(.[^ ]+ ){0,1}.[^ ]+(e|es|éis|os|en|ara|aras|aramos|arais|aran|ase|ases|ásemos|aseis|asen|are|ares|áremos|aren|areis|ad)(\\b|la|le|se|nos|te|me)')\n",
    "rgx_list = re.compile (r'(:?|\\W)(aunque|cuando|pues que|apenas|si|pero|mas|aun|asi|si bien|siquiera|mas|aún|donde| a | )(:?|\\W|$)')\n",
    "matching1 = [s for s in text_div if pat.search(s.lower()) or patSub.search(s.lower())]"
   ]
  },
  {
   "cell_type": "code",
   "execution_count": 62,
   "metadata": {
    "collapsed": true
   },
   "outputs": [],
   "source": [
    "def clean_text(rgx_list, matching1):\n",
    "    new_text = text\n",
    "    for rgx_match in rgx_list:\n",
    "        new_text = re.sub(rgx_match, '',new_text)\n",
    "    return new_text"
   ]
  },
  {
   "cell_type": "code",
   "execution_count": 63,
   "metadata": {
    "collapsed": true
   },
   "outputs": [],
   "source": [
    "#regex = re.compile(r'(:?|\\W)(aunque|cuando|pues que|apenas|si|pero|mas|aun|asi|si bien|siquiera|más|aun|donde )(:?|\\W|$)')\n",
    "#pat = re.compile(r'y\\b(.[^ ]+ ){0,1}.[^ ]+(a|e|i)(\\b|la|le|se|nos|te|me)')\n",
    "#matching1 = [s for s in text_div if pat.search(s.lower())]"
   ]
  },
  {
   "cell_type": "code",
   "execution_count": 64,
   "metadata": {},
   "outputs": [
    {
     "data": {
      "text/plain": [
       "170"
      ]
     },
     "execution_count": 64,
     "metadata": {},
     "output_type": "execute_result"
    }
   ],
   "source": [
    "len (matching1)"
   ]
  },
  {
   "cell_type": "code",
   "execution_count": 65,
   "metadata": {},
   "outputs": [
    {
     "data": {
      "text/plain": [
       "['a la primera agua de octubre, siembra y cubre',\n",
       " 'abril frío y mojado hinche el granero y hasta el ganado',\n",
       " 'abril hace las puertas cerrar y abrir, y a los cochinos gruñir',\n",
       " 'abriles buenos y buenos hidalgos,  muy escasos',\n",
       " 'abriles y caballeros, todos son traicioneros',\n",
       " 'abriles y hombres viles, desde que el mundo fué mundo los hubo a miles',\n",
       " 'abriles y yernos, pocos hay buenos',\n",
       " 'agua por san mateo, puercos, vendimias y gordos borregos',\n",
       " 'agua, sol y fiemo, hacen al hortelano bueno',\n",
       " 'agua, viento y cuchilladas, desde la cama',\n",
       " 'aire, airecito que de ávila vienes, a catorce reales me hueles',\n",
       " 'arco al poniente, deja el arado y vente',\n",
       " 'arco de san juan a la tarde, prevén la capa para el aire; arco de san juan por la mañana, prevén la capa para el agua',\n",
       " 'arco iris al poniente, suelta los bueyes y vente',\n",
       " 'arco iris por levante, cuando lo veas, no te espante; mas si lo ves por poniente, coge los bueyes y vente',\n",
       " 'arco iris por levante,  levanta el tiempo al instante;  arco iris por poniente,  coge los bueyes y vente',\n",
       " 'arco iris, o pronto llueve, o aclarará en breve',\n",
       " 'arrebolada por la mañana, a la tarde agua',\n",
       " 'arreboles a la mañana, a la noche son agua',\n",
       " 'arreboles a poniente, coge los bueyes y vente',\n",
       " 'arreboles a todos vientos, tiempo revuelto',\n",
       " 'arreboles de aragón, a la noche con agua son',\n",
       " 'arreboles de la mañana,  a la noche son con agua',\n",
       " 'arreboles por la tarde, lluvia o aire',\n",
       " 'año zagüeñil,  coge la capa y vete a dormir',\n",
       " 'barra al poniente, deja los bueyes y vente',\n",
       " 'buen enero y buen abril nadie lo verá venir... y ese es más largo... uno que vivió ciento uno no lo vió ninguno',\n",
       " 'buenos abriles y buenos hidalgos, siempre escasos',\n",
       " 'cerco de luna estrellado, a los tres días pastor mojado',\n",
       " 'cerco lleva la luna y estrellas dentro. si a los tres días no ha llovido es aire cierto',\n",
       " 'ceuta clara y norte oscuro, temporal seguro',\n",
       " 'cielo a carneros, agua a calderos',\n",
       " 'cielo a montanicos, agua a capacicos',\n",
       " 'cielo borreguero, o levante o marero',\n",
       " 'cielo encabricao, a los tres días mojao',\n",
       " 'cuando el cid se pone el gorro y san pascual la montera, llueve a los tres días, aunque el demonio no quiera',\n",
       " 'cuando montegil se pone la capilla, deja los bueyes y vete a la villa',\n",
       " 'cuando canta el cuco, de día mojado y a la noche enjuto',\n",
       " 'cuando el señor muere y nace, tiempo de los demonios hace',\n",
       " 'cuando el cielo amanece empedráo, a los tres días mojao',\n",
       " 'cuando el gallo canta y después bebe, pronto truena y llueve',\n",
       " 'cuando el sol se pone cubierto en jueves, a los tres días llueve',\n",
       " 'cuando en marzo hay nieblas, mayo nieva o hiela',\n",
       " 'cuando la sierra se toca, o llueve, o está loca',\n",
       " 'cuando las candelas plora,  l ivierno fora.  cuando las candelas canta,  l ivierno falta.  ni que plore ni que cante,  hay ivierno por detrás y por delante',\n",
       " 'cuando las grullas van a la peña,  coge el carro y vete a por leña;  y cuando las grullas van al mar,  coge el arado y vete a arar',\n",
       " 'cuando las grullas van para castilla,  coge el hacha y haz astillas;  y cuando van para el mar,  coge el arao y vete a arar',\n",
       " 'cuando las grullas veas pasar, quita las mulas y vete al lugar',\n",
       " 'cuando llueve y hace frío, sale el arco del judío',\n",
       " 'cuando llueve y hace sol , el diablo casa a su hija',\n",
       " 'cuando llueve y hace sol,  canta el gallo en el mesón;  cuando llueve y hace frío,  canta el gallo en el lejío',\n",
       " 'cuando llueve y hace sol, alegre está el pastor',\n",
       " 'cuando llueve y hace sol, cantan los gallos de malagón',\n",
       " 'cuando llueve y hace sol, deja el perro a su pastor',\n",
       " 'cuando llueve y hace sol, sale el arco del señor',\n",
       " 'cuando llueve y hace sol, son las bodas del pastor',\n",
       " 'cuando mayo va a mediar, debe el invierno acabar',\n",
       " 'cuando por los santos oigas atronar, vende los bueyes y gástalos en pan',\n",
       " 'cuando runfla la cueva de oreña, unce los güeis y vete por leña',\n",
       " 'cuando veas las nubes en la montaña de sasa, coge el capotón y vente a casa',\n",
       " 'cuando vieres el arco hacia ledesma, desuñe los bueyes y vete a la aldea, o a la taberna',\n",
       " 'cuando l sol sale por burgos y s esconde por oviedo, pobre del hijo de madre que a jornal gane dinero',\n",
       " 'de todos los santos a navidad, o bien llover o bien helar',\n",
       " 'de virgen a virgen, los sesos se derriten',\n",
       " 'de nublados por la mañana y concejos por la tarde, dios nos guarde',\n",
       " 'del mes que entra con abad y sale con fraile, dios nos guarde',\n",
       " 'día frío y caliente, hace del sano doliente',\n",
       " 'el aire gallego y cierzo, nieve',\n",
       " 'el año seco tras el mojado,  guarda la lana y vende el hilado',\n",
       " 'el cielo a corralillos,  el agua a cantarillos',\n",
       " 'el día de la candelaria, está el invierno fuera; pero si no ha nevado y quiere nevar, invierno por comenzar',\n",
       " 'el día de la candelora, que llueva que no llueva, invierno fora; y si llueve y hace viento, invierno dentro',\n",
       " 'el jueves sol cubierto, a los tres días revuelto',\n",
       " 'el poniente la mueve, y el levante la llueve',\n",
       " 'el sol de invierno y las nubes de verano engañan a los sandios',\n",
       " 'en diciembre y enero la borrina, y en febrero y marzo nieve hasta la petrina',\n",
       " 'en abril no hay granizada a que no siga la helada',\n",
       " 'en diciembre, hielos y nieves',\n",
       " 'en febrero busca la sombra el perro y a veces el  socuello ',\n",
       " 'en febrero, un día malo, y otro, a ratos',\n",
       " 'en invierno neblina, y nieve por vecina',\n",
       " 'encarnao pa lugo, sol seguro; encarnao pal alba, u aire u agua',\n",
       " 'enero y febrero hinchen el granero',\n",
       " 'entre los santos y navidad, ni llover ni ventear',\n",
       " 'entre marzo y abril, sale el cuco de su cubil; con la nieve no quiere venir',\n",
       " 'escarcha peluda, a los tres días suda',\n",
       " 'estrellas brillantes, cielo frío y secante',\n",
       " 'estrellas de aumento, fríos o vientos',\n",
       " 'febrerillo el loco con sus días veintiocho, echa a su madre aguas abajo y la busca aguas arriba',\n",
       " 'febrerillo loco  no pasó de veintiocho;  sacó a su padre al sol  y allí lo apaleó',\n",
       " 'febrero engañó a su madre en el lavadero: la sacó al sol, y luego la apedreó',\n",
       " 'febrero y las mujeres, tienen en un día diez pareceres',\n",
       " 'frío de abril, a las peñas vaya a herir; que a las viñas suele ir',\n",
       " 'gallina que mucho escarba, gallo que mucho canta, y ganso que mucho grazna, son tres muchos que traen agua',\n",
       " 'granizo y nube negra, peor que la suegra',\n",
       " 'hay que temer más a una mala vecina que a la nieve marcina',\n",
       " 'hielo sobre barro, agua a jarros',\n",
       " 'invierno enjuto y sereno, primavera y verano mojados',\n",
       " 'invierno muy lluvioso, primavera y verano serenos',\n",
       " 'junta de moscas al sol, o de mosquitos al oscurecer, avisan que va a llover',\n",
       " 'la boira se arrastra  y no ha llovido,  vende los pares  y cómprate trigo',\n",
       " 'la luna de otubre - siete lunas cubre',\n",
       " 'la niebla de valladolid, y los lodos de madrid, y las cuestas de toledo',\n",
       " 'la niebla en la montaña, antes a la noche que a la mañana',\n",
       " 'la ribera nubla,  la sierra rasa,  coge tu capa  y márchate a casa',\n",
       " 'la semana de los santos barbudos, fríos y vientos',\n",
       " 'las longanizas al sol, y los hornazos al tizón',\n",
       " 'leste, entre güimar e igueste',\n",
       " 'lleva cerco la luna, cerca el sol. si a los tres días no ha llovido, se toque los cojones el pastor',\n",
       " 'lloviese y nevase, y no ventiscase: que cuando hace viento, entonces hace mal tiempo',\n",
       " 'lluvia en san lorenzo, llueve a buen tiempo',\n",
       " 'luna que mucho reluce, un tronco más a la lumbre',\n",
       " 'madrid, nueve meses de invierno y tres de infierno',\n",
       " 'mayo caliente y lluvioso, ofrece bienes copiosos',\n",
       " 'mes que entra con abad  y sale con fraile,  guárdale el aire',\n",
       " 'mucha luz y pocos truenos, agua tenemos',\n",
       " 'más vale agua entre abril y mayo que toda la plata que hay en el ochavo',\n",
       " 'neblina en el valle, pescador a la calle; neblinas sobre la montaña, pescador a la cabaña',\n",
       " 'niebla en el valle, gente a la calle',\n",
       " 'niebla en los puntales, agua a mares',\n",
       " 'nieblas en la sierra, coge las alforjas y vete al campo',\n",
       " 'nieve de febrero, buena si es a primeros',\n",
       " 'nubes y vientos, sin llover de cierto',\n",
       " 'nueve meses de invierno y tres de infierno',\n",
       " 'peñamayor encabezada, a la noche, que no a la mañana',\n",
       " 'por san martino, el invierno viene de camino; si le dicen detente, llega por san clemente; y aunque venga retrasado, por san andrés ya ha llegado',\n",
       " 'por san matías, sácame de esta solana y llévame a aquella ombría, y me darás un buen día',\n",
       " 'por san vicente, helada o corriente',\n",
       " 'que la candelaria llore o cante, invierno atrás y adelante',\n",
       " 'refranes que no sean verdaderos  y febreros que no sean locos,  pocos',\n",
       " 'relumbres y truenos, agua tendremos',\n",
       " 'san andrés, agua o nieve ha de traer',\n",
       " 'san antón,  viejo y meón,  mete las niñas  en un rincón;  san sebastián,  mocito y galán,  saca las niñas a pasear',\n",
       " 'san lorenzo calura y san vicente friura, uno y otro poco dura',\n",
       " 'santa rita todo lo quita y san wenceslao lo que ha quedao',\n",
       " 'señales de agua todas marran; no hay más señal cierta que cuando sudan los cuernos a los bueyes',\n",
       " 'si a las doce de la noche canta el gallo, en invierno nieva, y hiela en verano',\n",
       " 'si abril fuere frío, habrá pan y vino; y si fuere frío y mojado, seguro está el año',\n",
       " 'si el buey se duerme, agua o nieve viene',\n",
       " 'si el pecu no canta  pal nueve de abril,  o está malo,  o no quiere venir',\n",
       " 'si el sol es amarillento a la salida y hay nubes, el día sin lluvia no se escurre',\n",
       " 'si el viento del sur es, botas de agua a los pies',\n",
       " 'si la boira se arrastra entre diez y once por las faldas del turbón, agua en aragón',\n",
       " 'si la pata cabra está al saliente, desunce la yunta y vente',\n",
       " 'si las nubes bajan a los campos, pronto corren los barrancos',\n",
       " 'si se nubla la altarrasa, coge el hato y vete a casa',\n",
       " 'si ves el arco al saliente, carga los trastos y vente',\n",
       " 'si viene abierto por monsaraz, coge la yunta y vete a arar',\n",
       " 'sol a mediodía, tarde dura y noche fría',\n",
       " 'sol con patarráez, agua o viento trae',\n",
       " 'sol con viento poniente, coge los bueyes y vete',\n",
       " 'sol cubierto en jueves, a los tres días llueve',\n",
       " 'sol de invierno y amistad de yerno, poco duraderos',\n",
       " 'sol de invierno,  sale tarde y se pone presto',\n",
       " 'sol de verano, ablanda la cera y endurece el barro',\n",
       " 'sol madrugadín, cura callejín y mujer que habla latín, no pueden tener buen fin',\n",
       " 'sol madrugador y cura callejero  y mujer que habla latín  nunca tendrá buen fin',\n",
       " 'sol madrugador y hombre callejero, ni el sol pintará bien, ni el hombre será bueno',\n",
       " 'sol que mucho pica, o llueve o graniza',\n",
       " 'tiempo cargado y aire maestral, agua hasta nadar',\n",
       " 'todas las tormentas van a burguillos',\n",
       " 'tras la niebla de diciembre, frío o solano viene',\n",
       " 'vaca  soyá  y a los tres días  mojá ',\n",
       " 'vaca desollada a saliente, agua a poniente',\n",
       " 'vaca esollá al saliente, suelta los bueyes y vente',\n",
       " 'vaca esoyá, a los tres días mojá;  si se ve en jueves,  a los tres días llueve.  si es castiza,  desde el primer día atiza',\n",
       " 'vienen las avesfrías,  malas noches y peores días',\n",
       " 'viento a berbería, levante al otro día',\n",
       " 'viento solano, a todos hace daño',\n",
       " 'viento, mujer y fortuna, mudables como la luna']"
      ]
     },
     "execution_count": 65,
     "metadata": {},
     "output_type": "execute_result"
    }
   ],
   "source": [
    "matching1"
   ]
  },
  {
   "cell_type": "code",
   "execution_count": 66,
   "metadata": {
    "collapsed": true
   },
   "outputs": [],
   "source": [
    "achivo = open (r\"/home/nalvaradoa/tesis/txt/RMx.txt\" , encoding = \"utf-8\")"
   ]
  },
  {
   "cell_type": "code",
   "execution_count": 67,
   "metadata": {
    "collapsed": true
   },
   "outputs": [],
   "source": [
    "text= achivo.read().lower ()"
   ]
  },
  {
   "cell_type": "code",
   "execution_count": 68,
   "metadata": {
    "collapsed": true
   },
   "outputs": [],
   "source": [
    "for x in (\" \\” \\“\\\"#$%&/()'¿?¡!\"):\n",
    "    text= text.replace(x, \" \")"
   ]
  },
  {
   "cell_type": "code",
   "execution_count": 69,
   "metadata": {
    "collapsed": true
   },
   "outputs": [],
   "source": [
    "text= text [1:]"
   ]
  },
  {
   "cell_type": "code",
   "execution_count": 70,
   "metadata": {},
   "outputs": [
    {
     "data": {
      "text/plain": [
       "'ay del que dice  ay  y lo dice porque no hay \\n cóm'"
      ]
     },
     "execution_count": 70,
     "metadata": {},
     "output_type": "execute_result"
    }
   ],
   "source": [
    "text[: 50]"
   ]
  },
  {
   "cell_type": "code",
   "execution_count": 71,
   "metadata": {
    "collapsed": true
   },
   "outputs": [],
   "source": [
    "text_div= text.split ( \"\\n\")"
   ]
  },
  {
   "cell_type": "code",
   "execution_count": 72,
   "metadata": {},
   "outputs": [
    {
     "data": {
      "text/plain": [
       "['ay del que dice  ay  y lo dice porque no hay ',\n",
       " ' cómo estarán los infiernos, que hasta los diablos se salen ',\n",
       " ' cuántas veces sollozando se está riendo una mujer ',\n",
       " ' sácale cañas al tercio, aunque se afloje la carga ',\n",
       " ' ser poco el amor, y que se vaya en celos ',\n",
       " ' chata, china y chaparra ,  que ande el burro ',\n",
       " ' cómo dios no da hijos a los ricos ',\n",
       " ' con atolito vamos sanando , pues atolito vámosle dando',\n",
       " ' cuándo se ha visto al gato hacer ronda con los ratones ',\n",
       " ' de dónde le viene a bartolo el  me , si su padre no era borrego ',\n",
       " ' dónde es tu tierra ; donde la pases, no donde naces',\n",
       " ' ir a méxico a bobear ; en tu casa quedar',\n",
       " ' las quieres enamoradas ; que se sientan despreciadas',\n",
       " ' no le tienes cariño a tu dinero , métete a minero',\n",
       " ' no te busca un rico , malo;  te busca un pobre , peor',\n",
       " ' para qué son las campanas, si se asustan del repique ',\n",
       " ' para qué son tantos brincos, estando el suelo parejo ',\n",
       " ' por qué te asustas, colima, de ver la tierra salada ',\n",
       " ' qué entendéis por los infiernos ; suegros, cuñados y yernos',\n",
       " ' qué ha de dar san sebastián, cuando ni calzones tiene ']"
      ]
     },
     "execution_count": 72,
     "metadata": {},
     "output_type": "execute_result"
    }
   ],
   "source": [
    "text_div [:20]"
   ]
  },
  {
   "cell_type": "code",
   "execution_count": 73,
   "metadata": {
    "collapsed": true
   },
   "outputs": [],
   "source": [
    "pat = re.compile(r' , \\b(.[^ ]+ ){0,1}.[^ ]+(a|e|i)(\\b|la|le|se|nos|te|me)')\n",
    "patSub = re.compile(r' , \\b(.[^ ]+ ){0,1}.[^ ]+(e|es|éis|os|en|ara|aras|aramos|arais|aran|ase|ases|ásemos|aseis|asen|are|ares|áremos|aren|areis|ad)(\\b|la|le|se|nos|te|me)')\n",
    "matching2 = [s for s in text_div if pat.search(s.lower()) or patSub.search(s.lower())]"
   ]
  },
  {
   "cell_type": "code",
   "execution_count": 74,
   "metadata": {},
   "outputs": [
    {
     "data": {
      "text/plain": [
       "7"
      ]
     },
     "execution_count": 74,
     "metadata": {},
     "output_type": "execute_result"
    }
   ],
   "source": [
    "len (matching2)"
   ]
  },
  {
   "cell_type": "code",
   "execution_count": 75,
   "metadata": {},
   "outputs": [
    {
     "data": {
      "text/plain": [
       "[' con atolito vamos sanando , pues atolito vámosle dando',\n",
       " ' no le tienes cariño a tu dinero , métete a minero',\n",
       " ' no te busca un rico , malo;  te busca un pobre , peor',\n",
       " 'cuando dios dice  a dar , hasta los costales presta',\n",
       " 'cuando la mula dice  no paso  y la mujer  me caso , la mula no pasa y la mujer se casa',\n",
       " 'más vale que digan  ahí va el puerco , que  ahí va el cuerpo ',\n",
       " 'no le digas  vente chile , sin guardarte las espaldas']"
      ]
     },
     "execution_count": 75,
     "metadata": {},
     "output_type": "execute_result"
    }
   ],
   "source": [
    "matching2"
   ]
  },
  {
   "cell_type": "code",
   "execution_count": null,
   "metadata": {
    "collapsed": true
   },
   "outputs": [],
   "source": []
  }
 ],
 "metadata": {
  "kernelspec": {
   "display_name": "Python 3",
   "language": "python",
   "name": "python3"
  },
  "language_info": {
   "codemirror_mode": {
    "name": "ipython",
    "version": 3
   },
   "file_extension": ".py",
   "mimetype": "text/x-python",
   "name": "python",
   "nbconvert_exporter": "python",
   "pygments_lexer": "ipython3",
   "version": "3.6.3"
  }
 },
 "nbformat": 4,
 "nbformat_minor": 2
}
